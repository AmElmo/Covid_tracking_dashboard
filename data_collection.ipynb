{
 "cells": [
  {
   "cell_type": "markdown",
   "metadata": {},
   "source": [
    "# Imports"
   ]
  },
  {
   "cell_type": "code",
   "execution_count": 25,
   "metadata": {},
   "outputs": [],
   "source": [
    "import pandas as pd\n",
    "import numpy as np\n",
    "import matplotlib.pyplot as plt\n",
    "import seaborn as sns\n",
    "import requests\n",
    "import json\n",
    "\n",
    "import os.path\n",
    "from google.auth.transport.requests import Request\n",
    "from google.oauth2.credentials import Credentials\n",
    "from google_auth_oauthlib.flow import InstalledAppFlow\n",
    "from googleapiclient.discovery import build\n",
    "from googleapiclient.errors import HttpError"
   ]
  },
  {
   "cell_type": "markdown",
   "metadata": {},
   "source": [
    "# Load Data"
   ]
  },
  {
   "cell_type": "code",
   "execution_count": 11,
   "metadata": {},
   "outputs": [],
   "source": [
    "import pandas as pd\n",
    "\n",
    "# Function to transform CSV into Dataframe\n",
    "def csv_to_dataframe(csv):\n",
    "    \n",
    "    data = pd.read_csv(csv)\n",
    "    \n",
    "    # Remove first row if description\n",
    "    if data.iloc[0][0].startswith('#') == True:\n",
    "        data.drop(index=data.index[0], axis=0, inplace=True)\n",
    "    \n",
    "    # Convert dates to datetime type\n",
    "    if 'Date_reported' in data.columns:\n",
    "        data['Date_reported'] = pd.to_datetime(data['Date_reported'])\n",
    "    elif 'date' in data.columns:\n",
    "        data['date'] = pd.to_datetime(data['date'])\n",
    "        \n",
    "    return data"
   ]
  },
  {
   "cell_type": "code",
   "execution_count": 12,
   "metadata": {},
   "outputs": [
    {
     "name": "stderr",
     "output_type": "stream",
     "text": [
      "/var/folders/xv/g2v5smfx4tzczxl151xsh9tr0000gn/T/ipykernel_73118/888285169.py:5: DtypeWarning: Columns (3,8) have mixed types.Specify dtype option on import or set low_memory=False.\n",
      "  data_vaccination = csv_to_dataframe(\"/Users/julienberthomier/code/AmElmo/Main_Projects/Covid_tracking_dashboard/csv_files/vaccination_data_who.csv\")\n"
     ]
    }
   ],
   "source": [
    "# Death & Cases data\n",
    "data_cases_deaths = csv_to_dataframe(\"/Users/julienberthomier/code/AmElmo/Main_Projects/Covid_tracking_dashboard/csv_files/covid_cases_deaths_who.csv\")\n",
    "\n",
    "# Vaccination data\n",
    "data_vaccination = csv_to_dataframe(\"/Users/julienberthomier/code/AmElmo/Main_Projects/Covid_tracking_dashboard/csv_files/vaccination_data_who.csv\")\n"
   ]
  },
  {
   "cell_type": "markdown",
   "metadata": {},
   "source": [
    "# Dictionaries to JSON"
   ]
  },
  {
   "cell_type": "markdown",
   "metadata": {},
   "source": [
    "These dictionaries will be re-used in order to get incidence (from population) and final name of the country (from country codes). "
   ]
  },
  {
   "cell_type": "code",
   "execution_count": null,
   "metadata": {},
   "outputs": [],
   "source": [
    "# First we define a function that will generate a dictionary of the population for each country \n",
    "# It will be re-used whenever we need to calculate incidence per 100k people\n",
    "\n",
    "def dict_population(data):\n",
    "    \n",
    "    country_codes = data['Country_code'].unique()\n",
    "    dict_population = {}\n",
    "\n",
    "    for code in country_codes:\n",
    "        response = requests.get(\"https://restcountries.com/v2/alpha/\", params={'codes':code})\n",
    "        \n",
    "        # Ignore 404 responses and only include countries with >= 300000 inhabitants\n",
    "        if response.status_code == 200 and response.json()[0]['population'] >= 300000:\n",
    "            population = response.json()[0]['population']\n",
    "            dict_population[code] = population\n",
    "            print(dict_population)\n",
    "        else:\n",
    "            continue\n",
    "\n",
    "    return dict_population\n",
    "\n",
    "dictionary_population = dict_population(data)\n",
    "\n",
    "dictionary_population"
   ]
  },
  {
   "cell_type": "code",
   "execution_count": 145,
   "metadata": {},
   "outputs": [
    {
     "name": "stdout",
     "output_type": "stream",
     "text": [
      "AFG\n",
      "ALB\n",
      "DZA\n",
      "AGO\n",
      "ARG\n",
      "ARM\n",
      "AUS\n",
      "AUT\n",
      "AZE\n",
      "BHS\n",
      "BHR\n",
      "BGD\n",
      "BLR\n",
      "BEL\n",
      "BLZ\n",
      "BEN\n",
      "BTN\n",
      "BOL\n",
      "BIH\n",
      "BWA\n",
      "BRA\n",
      "BRN\n",
      "BGR\n",
      "BFA\n",
      "BDI\n",
      "KHM\n",
      "CMR\n",
      "CAN\n",
      "CPV\n",
      "CAF\n",
      "TCD\n",
      "CHL\n",
      "CHN\n",
      "COL\n",
      "COM\n",
      "COG\n",
      "CRI\n",
      "CIV\n",
      "HRV\n",
      "CUB\n",
      "CYP\n",
      "CZE\n",
      "COD\n",
      "DNK\n",
      "DJI\n",
      "DOM\n",
      "ECU\n",
      "EGY\n",
      "SLV\n",
      "GNQ\n",
      "EST\n",
      "SWZ\n",
      "ETH\n",
      "FJI\n",
      "FIN\n",
      "FRA\n",
      "GAB\n",
      "GMB\n",
      "GEO\n",
      "DEU\n",
      "GHA\n",
      "GRC\n",
      "GTM\n",
      "GIN\n",
      "GNB\n",
      "GUY\n",
      "HTI\n",
      "HND\n",
      "HKG\n",
      "HUN\n",
      "ISL\n",
      "IND\n",
      "IDN\n",
      "IRN\n",
      "IRQ\n",
      "IRL\n",
      "ISR\n",
      "ITA\n",
      "JAM\n",
      "JPN\n",
      "JOR\n",
      "KAZ\n",
      "KEN\n",
      "KWT\n",
      "KGZ\n",
      "LAO\n",
      "LVA\n",
      "LBN\n",
      "LSO\n",
      "LBR\n",
      "LBY\n",
      "LTU\n",
      "LUX\n",
      "MAC\n",
      "MDG\n",
      "MWI\n",
      "MYS\n",
      "MDV\n",
      "MLI\n",
      "MLT\n",
      "MRT\n",
      "MUS\n",
      "MEX\n",
      "MDA\n",
      "MNG\n",
      "MNE\n",
      "MAR\n",
      "MOZ\n",
      "MMR\n",
      "NAM\n",
      "NPL\n",
      "NLD\n",
      "NZL\n",
      "NIC\n",
      "NER\n",
      "NGA\n",
      "MKD\n",
      "NOR\n",
      "OMN\n",
      "PAK\n",
      "PSE\n",
      "PAN\n",
      "PNG\n",
      "PRY\n",
      "PER\n",
      "PHL\n",
      "POL\n",
      "PRT\n",
      "QAT\n",
      "ROU\n",
      "RUS\n",
      "RWA\n",
      "SAU\n",
      "SEN\n",
      "SRB\n",
      "SLE\n",
      "SGP\n",
      "SVK\n",
      "SVN\n",
      "SLB\n",
      "SOM\n",
      "ZAF\n",
      "KOR\n",
      "SSD\n",
      "ESP\n",
      "LKA\n",
      "SDN\n",
      "SUR\n",
      "SWE\n",
      "CHE\n",
      "SYR\n",
      "TWN\n",
      "TJK\n",
      "TZA\n",
      "THA\n",
      "TLS\n",
      "TGO\n",
      "TTO\n",
      "TUN\n",
      "TUR\n",
      "TKM\n",
      "UGA\n",
      "UKR\n",
      "ARE\n",
      "GBR\n",
      "USA\n",
      "URY\n",
      "UZB\n",
      "VUT\n",
      "VEN\n",
      "VNM\n",
      "YEM\n",
      "ZMB\n",
      "ZWE\n"
     ]
    },
    {
     "data": {
      "text/plain": [
       "{'AFG': 40218234,\n",
       " 'ALB': 2837743,\n",
       " 'DZA': 44700000,\n",
       " 'AGO': 32866268,\n",
       " 'ARG': 45376763,\n",
       " 'ARM': 2963234,\n",
       " 'AUS': 25687041,\n",
       " 'AUT': 8917205,\n",
       " 'AZE': 10110116,\n",
       " 'BHS': 393248,\n",
       " 'BHR': 1701583,\n",
       " 'BGD': 164689383,\n",
       " 'BLR': 9398861,\n",
       " 'BEL': 11555997,\n",
       " 'BLZ': 397621,\n",
       " 'BEN': 12123198,\n",
       " 'BTN': 771612,\n",
       " 'BOL': 11673029,\n",
       " 'BIH': 3280815,\n",
       " 'BWA': 2351625,\n",
       " 'BRA': 212559409,\n",
       " 'BRN': 437483,\n",
       " 'BGR': 6927288,\n",
       " 'BFA': 20903278,\n",
       " 'BDI': 11890781,\n",
       " 'KHM': 16718971,\n",
       " 'CMR': 26545864,\n",
       " 'CAN': 38005238,\n",
       " 'CPV': 555988,\n",
       " 'CAF': 4829764,\n",
       " 'TCD': 16425859,\n",
       " 'CHL': 19116209,\n",
       " 'CHN': 1402112000,\n",
       " 'COL': 50882884,\n",
       " 'COM': 869595,\n",
       " 'COG': 5518092,\n",
       " 'CRI': 5094114,\n",
       " 'CIV': 26378275,\n",
       " 'HRV': 4047200,\n",
       " 'CUB': 11326616,\n",
       " 'CYP': 1207361,\n",
       " 'CZE': 10698896,\n",
       " 'COD': 89561404,\n",
       " 'DNK': 5831404,\n",
       " 'DJI': 988002,\n",
       " 'DOM': 10847904,\n",
       " 'ECU': 17643060,\n",
       " 'EGY': 102334403,\n",
       " 'SLV': 6486201,\n",
       " 'GNQ': 1402985,\n",
       " 'EST': 1331057,\n",
       " 'SWZ': 1160164,\n",
       " 'ETH': 114963583,\n",
       " 'FJI': 896444,\n",
       " 'FIN': 5530719,\n",
       " 'FRA': 67391582,\n",
       " 'GAB': 2225728,\n",
       " 'GMB': 2416664,\n",
       " 'GEO': 3714000,\n",
       " 'DEU': 83240525,\n",
       " 'GHA': 31072945,\n",
       " 'GRC': 10715549,\n",
       " 'GTM': 16858333,\n",
       " 'GIN': 13132792,\n",
       " 'GNB': 1967998,\n",
       " 'GUY': 786559,\n",
       " 'HTI': 11402533,\n",
       " 'HND': 9904608,\n",
       " 'HKG': 7481800,\n",
       " 'HUN': 9749763,\n",
       " 'ISL': 366425,\n",
       " 'IND': 1380004385,\n",
       " 'IDN': 273523621,\n",
       " 'IRN': 83992953,\n",
       " 'IRQ': 40222503,\n",
       " 'IRL': 4994724,\n",
       " 'ISR': 9216900,\n",
       " 'ITA': 59554023,\n",
       " 'JAM': 2961161,\n",
       " 'JPN': 125836021,\n",
       " 'JOR': 10203140,\n",
       " 'KAZ': 18754440,\n",
       " 'KEN': 53771300,\n",
       " 'KWT': 4270563,\n",
       " 'KGZ': 6591600,\n",
       " 'LAO': 7275556,\n",
       " 'LVA': 1901548,\n",
       " 'LBN': 6825442,\n",
       " 'LSO': 2142252,\n",
       " 'LBR': 5057677,\n",
       " 'LBY': 6871287,\n",
       " 'LTU': 2794700,\n",
       " 'LUX': 632275,\n",
       " 'MAC': 649342,\n",
       " 'MDG': 27691019,\n",
       " 'MWI': 19129955,\n",
       " 'MYS': 32365998,\n",
       " 'MDV': 540542,\n",
       " 'MLI': 20250834,\n",
       " 'MLT': 525285,\n",
       " 'MRT': 4649660,\n",
       " 'MUS': 1265740,\n",
       " 'MEX': 128932753,\n",
       " 'MDA': 2617820,\n",
       " 'MNG': 3278292,\n",
       " 'MNE': 621718,\n",
       " 'MAR': 36910558,\n",
       " 'MOZ': 31255435,\n",
       " 'MMR': 54409794,\n",
       " 'NAM': 2540916,\n",
       " 'NPL': 29136808,\n",
       " 'NLD': 17441139,\n",
       " 'NZL': 5084300,\n",
       " 'NIC': 6624554,\n",
       " 'NER': 24206636,\n",
       " 'NGA': 206139587,\n",
       " 'MKD': 2083380,\n",
       " 'NOR': 5379475,\n",
       " 'OMN': 5106622,\n",
       " 'PAK': 220892331,\n",
       " 'PSE': 4803269,\n",
       " 'PAN': 4314768,\n",
       " 'PNG': 8947027,\n",
       " 'PRY': 7132530,\n",
       " 'PER': 32971846,\n",
       " 'PHL': 109581085,\n",
       " 'POL': 37950802,\n",
       " 'PRT': 10305564,\n",
       " 'QAT': 2881060,\n",
       " 'ROU': 19286123,\n",
       " 'RUS': 144104080,\n",
       " 'RWA': 12952209,\n",
       " 'SAU': 34813867,\n",
       " 'SEN': 16743930,\n",
       " 'SRB': 6908224,\n",
       " 'SLE': 7976985,\n",
       " 'SGP': 5685807,\n",
       " 'SVK': 5458827,\n",
       " 'SVN': 2100126,\n",
       " 'SLB': 686878,\n",
       " 'SOM': 15893219,\n",
       " 'ZAF': 59308690,\n",
       " 'KOR': 51780579,\n",
       " 'SSD': 11193729,\n",
       " 'ESP': 47351567,\n",
       " 'LKA': 21919000,\n",
       " 'SDN': 43849269,\n",
       " 'SUR': 586634,\n",
       " 'SWE': 10353442,\n",
       " 'CHE': 8636896,\n",
       " 'SYR': 17500657,\n",
       " 'TWN': 23503349,\n",
       " 'TJK': 9537642,\n",
       " 'TZA': 59734213,\n",
       " 'THA': 69799978,\n",
       " 'TLS': 1318442,\n",
       " 'TGO': 8278737,\n",
       " 'TTO': 1399491,\n",
       " 'TUN': 11818618,\n",
       " 'TUR': 84339067,\n",
       " 'TKM': 6031187,\n",
       " 'UGA': 45741000,\n",
       " 'UKR': 44134693,\n",
       " 'ARE': 9890400,\n",
       " 'GBR': 67215293,\n",
       " 'USA': 329484123,\n",
       " 'URY': 3473727,\n",
       " 'UZB': 34232050,\n",
       " 'VUT': 307150,\n",
       " 'VEN': 28435943,\n",
       " 'VNM': 97338583,\n",
       " 'YEM': 29825968,\n",
       " 'ZMB': 18383956,\n",
       " 'ZWE': 14862927}"
      ]
     },
     "execution_count": 145,
     "metadata": {},
     "output_type": "execute_result"
    }
   ],
   "source": [
    "# First we define a function that will generate a dictionary of the population for each country \n",
    "# It will be re-used whenever we need to calculate incidence per 100k people\n",
    "\n",
    "def dict_population_iso(data):\n",
    "    \n",
    "    country_codes = data['iso_code'].unique()\n",
    "    dict_population = {}\n",
    "\n",
    "    for code in country_codes:\n",
    "        response = requests.get(\"https://restcountries.com/v2/alpha/\", params={'codes':code})\n",
    "        \n",
    "        # Ignore 404 responses and only include countries with >= 300000 inhabitants\n",
    "        if response.status_code == 200 and response.json()[0]['population'] >= 300000:\n",
    "            population = response.json()[0]['population']\n",
    "            dict_population[code] = population\n",
    "            print(code)\n",
    "        else:\n",
    "            continue\n",
    "\n",
    "    return dict_population\n",
    "\n",
    "dictionary_population_iso = dict_population_iso(data_vaccination)\n",
    "\n",
    "dictionary_population_iso"
   ]
  },
  {
   "cell_type": "code",
   "execution_count": null,
   "metadata": {},
   "outputs": [],
   "source": [
    "# Function to generate dictionary of country codes & country names with > 300.000 inhabitants\n",
    "\n",
    "def dictionary_country_code(data):\n",
    "\n",
    "    list_codes = data['Country_code'].unique()\n",
    "    list_countries = data['Country'].unique()\n",
    "    \n",
    "    dict_codes = {'Country_code': list_codes, 'Country': list_countries}\n",
    "    \n",
    "    df = pd.DataFrame(dict_codes)\n",
    "    \n",
    "    final_dict = dict(zip(df['Country_code'], df[\"Country\"]))\n",
    "    \n",
    "    return final_dict\n",
    "\n",
    "dictionary_countrycodes = dictionary_country_code(data)"
   ]
  },
  {
   "cell_type": "code",
   "execution_count": 153,
   "metadata": {},
   "outputs": [
    {
     "data": {
      "text/plain": [
       "{'AFG': 'Afghanistan',\n",
       " 'ALB': 'Albania',\n",
       " 'DZA': 'Algeria',\n",
       " 'AND': 'Andorra',\n",
       " 'AGO': 'Angola',\n",
       " 'AIA': 'Anguilla',\n",
       " 'ATG': 'Antigua and Barbuda',\n",
       " 'ARG': 'Argentina',\n",
       " 'ARM': 'Armenia',\n",
       " 'ABW': 'Aruba',\n",
       " 'AUS': 'Australia',\n",
       " 'AUT': 'Austria',\n",
       " 'AZE': 'Azerbaijan',\n",
       " 'BHS': 'Bahamas',\n",
       " 'BHR': 'Bahrain',\n",
       " 'BGD': 'Bangladesh',\n",
       " 'BRB': 'Barbados',\n",
       " 'BLR': 'Belarus',\n",
       " 'BEL': 'Belgium',\n",
       " 'BLZ': 'Belize',\n",
       " 'BEN': 'Benin',\n",
       " 'BMU': 'Bermuda',\n",
       " 'BTN': 'Bhutan',\n",
       " 'BOL': 'Bolivia',\n",
       " 'BES': 'Bonaire Sint Eustatius and Saba',\n",
       " 'BIH': 'Bosnia and Herzegovina',\n",
       " 'BWA': 'Botswana',\n",
       " 'BRA': 'Brazil',\n",
       " 'VGB': 'British Virgin Islands',\n",
       " 'BRN': 'Brunei',\n",
       " 'BGR': 'Bulgaria',\n",
       " 'BFA': 'Burkina Faso',\n",
       " 'BDI': 'Burundi',\n",
       " 'KHM': 'Cambodia',\n",
       " 'CMR': 'Cameroon',\n",
       " 'CAN': 'Canada',\n",
       " 'CPV': 'Cape Verde',\n",
       " 'CYM': 'Cayman Islands',\n",
       " 'CAF': 'Central African Republic',\n",
       " 'TCD': 'Chad',\n",
       " 'CHL': 'Chile',\n",
       " 'CHN': 'China',\n",
       " 'COL': 'Colombia',\n",
       " 'COM': 'Comoros',\n",
       " 'COG': 'Congo',\n",
       " 'COK': 'Cook Islands',\n",
       " 'CRI': 'Costa Rica',\n",
       " 'CIV': \"Cote d'Ivoire\",\n",
       " 'HRV': 'Croatia',\n",
       " 'CUB': 'Cuba',\n",
       " 'CUW': 'Curacao',\n",
       " 'CYP': 'Cyprus',\n",
       " 'CZE': 'Czechia',\n",
       " 'COD': 'Democratic Republic of Congo',\n",
       " 'DNK': 'Denmark',\n",
       " 'DJI': 'Djibouti',\n",
       " 'DMA': 'Dominica',\n",
       " 'DOM': 'Dominican Republic',\n",
       " 'ECU': 'Ecuador',\n",
       " 'EGY': 'Egypt',\n",
       " 'SLV': 'El Salvador',\n",
       " 'GNQ': 'Equatorial Guinea',\n",
       " 'EST': 'Estonia',\n",
       " 'SWZ': 'Eswatini',\n",
       " 'ETH': 'Ethiopia',\n",
       " 'FRO': 'Faeroe Islands',\n",
       " 'FLK': 'Falkland Islands',\n",
       " 'FJI': 'Fiji',\n",
       " 'FIN': 'Finland',\n",
       " 'FRA': 'France',\n",
       " 'PYF': 'French Polynesia',\n",
       " 'GAB': 'Gabon',\n",
       " 'GMB': 'Gambia',\n",
       " 'GEO': 'Georgia',\n",
       " 'DEU': 'Germany',\n",
       " 'GHA': 'Ghana',\n",
       " 'GIB': 'Gibraltar',\n",
       " 'GRC': 'Greece',\n",
       " 'GRL': 'Greenland',\n",
       " 'GRD': 'Grenada',\n",
       " 'GTM': 'Guatemala',\n",
       " 'GGY': 'Guernsey',\n",
       " 'GIN': 'Guinea',\n",
       " 'GNB': 'Guinea-Bissau',\n",
       " 'GUY': 'Guyana',\n",
       " 'HTI': 'Haiti',\n",
       " 'HND': 'Honduras',\n",
       " 'HKG': 'Hong Kong',\n",
       " 'HUN': 'Hungary',\n",
       " 'ISL': 'Iceland',\n",
       " 'IND': 'India',\n",
       " 'IDN': 'Indonesia',\n",
       " 'IRN': 'Iran',\n",
       " 'IRQ': 'Iraq',\n",
       " 'IRL': 'Ireland',\n",
       " 'IMN': 'Isle of Man',\n",
       " 'ISR': 'Israel',\n",
       " 'ITA': 'Italy',\n",
       " 'JAM': 'Jamaica',\n",
       " 'JPN': 'Japan',\n",
       " 'JEY': 'Jersey',\n",
       " 'JOR': 'Jordan',\n",
       " 'KAZ': 'Kazakhstan',\n",
       " 'KEN': 'Kenya',\n",
       " 'KIR': 'Kiribati',\n",
       " 'KWT': 'Kuwait',\n",
       " 'KGZ': 'Kyrgyzstan',\n",
       " 'LAO': 'Laos',\n",
       " 'LVA': 'Latvia',\n",
       " 'LBN': 'Lebanon',\n",
       " 'LSO': 'Lesotho',\n",
       " 'LBR': 'Liberia',\n",
       " 'LBY': 'Libya',\n",
       " 'LIE': 'Liechtenstein',\n",
       " 'LTU': 'Lithuania',\n",
       " 'LUX': 'Luxembourg',\n",
       " 'MAC': 'Macao',\n",
       " 'MDG': 'Madagascar',\n",
       " 'MWI': 'Malawi',\n",
       " 'MYS': 'Malaysia',\n",
       " 'MDV': 'Maldives',\n",
       " 'MLI': 'Mali',\n",
       " 'MLT': 'Malta',\n",
       " 'MRT': 'Mauritania',\n",
       " 'MUS': 'Mauritius',\n",
       " 'MEX': 'Mexico',\n",
       " 'MDA': 'Moldova',\n",
       " 'MCO': 'Monaco',\n",
       " 'MNG': 'Mongolia',\n",
       " 'MNE': 'Montenegro',\n",
       " 'MSR': 'Montserrat',\n",
       " 'MAR': 'Morocco',\n",
       " 'MOZ': 'Mozambique',\n",
       " 'MMR': 'Myanmar',\n",
       " 'NAM': 'Namibia',\n",
       " 'NRU': 'Nauru',\n",
       " 'NPL': 'Nepal',\n",
       " 'NLD': 'Netherlands',\n",
       " 'NCL': 'New Caledonia',\n",
       " 'NZL': 'New Zealand',\n",
       " 'NIC': 'Nicaragua',\n",
       " 'NER': 'Niger',\n",
       " 'NGA': 'Nigeria',\n",
       " 'NIU': 'Niue',\n",
       " 'MKD': 'North Macedonia',\n",
       " 'NOR': 'Norway',\n",
       " 'OMN': 'Oman',\n",
       " 'PAK': 'Pakistan',\n",
       " 'PSE': 'Palestine',\n",
       " 'PAN': 'Panama',\n",
       " 'PNG': 'Papua New Guinea',\n",
       " 'PRY': 'Paraguay',\n",
       " 'PER': 'Peru',\n",
       " 'PHL': 'Philippines',\n",
       " 'PCN': 'Pitcairn',\n",
       " 'POL': 'Poland',\n",
       " 'PRT': 'Portugal',\n",
       " 'QAT': 'Qatar',\n",
       " 'ROU': 'Romania',\n",
       " 'RUS': 'Russia',\n",
       " 'RWA': 'Rwanda',\n",
       " 'SHN': 'Saint Helena',\n",
       " 'KNA': 'Saint Kitts and Nevis',\n",
       " 'LCA': 'Saint Lucia',\n",
       " 'VCT': 'Saint Vincent and the Grenadines',\n",
       " 'WSM': 'Samoa',\n",
       " 'SMR': 'San Marino',\n",
       " 'STP': 'Sao Tome and Principe',\n",
       " 'SAU': 'Saudi Arabia',\n",
       " 'SEN': 'Senegal',\n",
       " 'SRB': 'Serbia',\n",
       " 'SYC': 'Seychelles',\n",
       " 'SLE': 'Sierra Leone',\n",
       " 'SGP': 'Singapore',\n",
       " 'SXM': 'Sint Maarten (Dutch part)',\n",
       " 'SVK': 'Slovakia',\n",
       " 'SVN': 'Slovenia',\n",
       " 'SLB': 'Solomon Islands',\n",
       " 'SOM': 'Somalia',\n",
       " 'ZAF': 'South Africa',\n",
       " 'KOR': 'South Korea',\n",
       " 'SSD': 'South Sudan',\n",
       " 'ESP': 'Spain',\n",
       " 'LKA': 'Sri Lanka',\n",
       " 'SDN': 'Sudan',\n",
       " 'SUR': 'Suriname',\n",
       " 'SWE': 'Sweden',\n",
       " 'CHE': 'Switzerland',\n",
       " 'SYR': 'Syria',\n",
       " 'TWN': 'Taiwan',\n",
       " 'TJK': 'Tajikistan',\n",
       " 'TZA': 'Tanzania',\n",
       " 'THA': 'Thailand',\n",
       " 'TLS': 'Timor',\n",
       " 'TGO': 'Togo',\n",
       " 'TKL': 'Tokelau',\n",
       " 'TON': 'Tonga',\n",
       " 'TTO': 'Trinidad and Tobago',\n",
       " 'TUN': 'Tunisia',\n",
       " 'TUR': 'Turkey',\n",
       " 'TKM': 'Turkmenistan',\n",
       " 'TCA': 'Turks and Caicos Islands',\n",
       " 'TUV': 'Tuvalu',\n",
       " 'UGA': 'Uganda',\n",
       " 'UKR': 'Ukraine',\n",
       " 'ARE': 'United Arab Emirates',\n",
       " 'GBR': 'United Kingdom',\n",
       " 'USA': 'United States',\n",
       " 'URY': 'Uruguay',\n",
       " 'UZB': 'Uzbekistan',\n",
       " 'VUT': 'Vanuatu',\n",
       " 'VEN': 'Venezuela',\n",
       " 'VNM': 'Vietnam',\n",
       " 'WLF': 'Wallis and Futuna',\n",
       " 'YEM': 'Yemen',\n",
       " 'ZMB': 'Zambia',\n",
       " 'ZWE': 'Zimbabwe'}"
      ]
     },
     "execution_count": 153,
     "metadata": {},
     "output_type": "execute_result"
    }
   ],
   "source": [
    "# Function to generate dictionary of iso codes & country names with > 300.000 inhabitants\n",
    "\n",
    "def dictionary_iso_code(data):\n",
    "        \n",
    "    list_codes = data['iso_code'].unique()\n",
    "    list_countries = data['location'].unique()\n",
    "    \n",
    "    dict_codes = {'iso_code': list_codes, 'location': list_countries}\n",
    "    \n",
    "    df = pd.DataFrame(dict_codes)\n",
    "    \n",
    "    final_dict = dict(zip(df['iso_code'], df[\"location\"]))\n",
    "    \n",
    "    final_dict = {x: final_dict[x] for x in final_dict.keys() if len(x) < 4}\n",
    "\n",
    "    return final_dict\n",
    "\n",
    "dictionary_isocodes = dictionary_iso_code(data_vaccination)\n",
    "\n",
    "dictionary_isocodes"
   ]
  },
  {
   "cell_type": "code",
   "execution_count": 24,
   "metadata": {},
   "outputs": [
    {
     "data": {
      "text/plain": [
       "{'Afghanistan': 'EMRO',\n",
       " 'Albania': 'EURO',\n",
       " 'Algeria': 'AFRO',\n",
       " 'American Samoa': 'WPRO',\n",
       " 'Andorra': 'EURO',\n",
       " 'Angola': 'AFRO',\n",
       " 'Anguilla': 'AMRO',\n",
       " 'Antigua and Barbuda': 'AMRO',\n",
       " 'Argentina': 'AMRO',\n",
       " 'Armenia': 'EURO',\n",
       " 'Aruba': 'AMRO',\n",
       " 'Australia': 'WPRO',\n",
       " 'Austria': 'EURO',\n",
       " 'Azerbaijan': 'EURO',\n",
       " 'Bahamas': 'AMRO',\n",
       " 'Bahrain': 'EMRO',\n",
       " 'Bangladesh': 'SEARO',\n",
       " 'Barbados': 'AMRO',\n",
       " 'Belarus': 'EURO',\n",
       " 'Belgium': 'EURO',\n",
       " 'Belize': 'AMRO',\n",
       " 'Benin': 'AFRO',\n",
       " 'Bermuda': 'AMRO',\n",
       " 'Bhutan': 'SEARO',\n",
       " 'Bolivia (Plurinational State of)': 'AMRO',\n",
       " 'Bonaire': 'AMRO',\n",
       " 'Bosnia and Herzegovina': 'EURO',\n",
       " 'Botswana': 'AFRO',\n",
       " 'Brazil': 'AMRO',\n",
       " 'British Virgin Islands': 'AMRO',\n",
       " 'Brunei Darussalam': 'WPRO',\n",
       " 'Bulgaria': 'EURO',\n",
       " 'Burkina Faso': 'AFRO',\n",
       " 'Burundi': 'AFRO',\n",
       " 'Cabo Verde': 'AFRO',\n",
       " 'Cambodia': 'WPRO',\n",
       " 'Cameroon': 'AFRO',\n",
       " 'Canada': 'AMRO',\n",
       " 'Cayman Islands': 'AMRO',\n",
       " 'Central African Republic': 'AFRO',\n",
       " 'Chad': 'AFRO',\n",
       " 'Chile': 'AMRO',\n",
       " 'China': 'WPRO',\n",
       " 'Colombia': 'AMRO',\n",
       " 'Comoros': 'AFRO',\n",
       " 'Congo': 'AFRO',\n",
       " 'Cook Islands': 'WPRO',\n",
       " 'Costa Rica': 'AMRO',\n",
       " 'Côte d’Ivoire': 'AFRO',\n",
       " 'Croatia': 'EURO',\n",
       " 'Cuba': 'AMRO',\n",
       " 'Curaçao': 'AMRO',\n",
       " 'Cyprus': 'EURO',\n",
       " 'Czechia': 'EURO',\n",
       " \"Democratic People's Republic of Korea\": 'SEARO',\n",
       " 'Democratic Republic of the Congo': 'AFRO',\n",
       " 'Denmark': 'EURO',\n",
       " 'Djibouti': 'EMRO',\n",
       " 'Dominica': 'AMRO',\n",
       " 'Dominican Republic': 'AMRO',\n",
       " 'Ecuador': 'AMRO',\n",
       " 'Egypt': 'EMRO',\n",
       " 'El Salvador': 'AMRO',\n",
       " 'Equatorial Guinea': 'AFRO',\n",
       " 'Eritrea': 'AFRO',\n",
       " 'Estonia': 'EURO',\n",
       " 'Eswatini': 'AFRO',\n",
       " 'Ethiopia': 'AFRO',\n",
       " 'Falkland Islands (Malvinas)': 'AMRO',\n",
       " 'Faroe Islands': 'EURO',\n",
       " 'Fiji': 'WPRO',\n",
       " 'Finland': 'EURO',\n",
       " 'France': 'EURO',\n",
       " 'French Guiana': 'AMRO',\n",
       " 'French Polynesia': 'WPRO',\n",
       " 'Gabon': 'AFRO',\n",
       " 'Gambia': 'AFRO',\n",
       " 'Georgia': 'EURO',\n",
       " 'Germany': 'EURO',\n",
       " 'Ghana': 'AFRO',\n",
       " 'Gibraltar': 'EURO',\n",
       " 'Greece': 'EURO',\n",
       " 'Greenland': 'EURO',\n",
       " 'Grenada': 'AMRO',\n",
       " 'Guadeloupe': 'AMRO',\n",
       " 'Guam': 'WPRO',\n",
       " 'Guatemala': 'AMRO',\n",
       " 'Guernsey': 'EURO',\n",
       " 'Guinea': 'AFRO',\n",
       " 'Guinea-Bissau': 'AFRO',\n",
       " 'Guyana': 'AMRO',\n",
       " 'Haiti': 'AMRO',\n",
       " 'Holy See': 'EURO',\n",
       " 'Honduras': 'AMRO',\n",
       " 'Hungary': 'EURO',\n",
       " 'Iceland': 'EURO',\n",
       " 'India': 'SEARO',\n",
       " 'Indonesia': 'SEARO',\n",
       " 'Iran (Islamic Republic of)': 'EMRO',\n",
       " 'Iraq': 'EMRO',\n",
       " 'Ireland': 'EURO',\n",
       " 'Isle of Man': 'EURO',\n",
       " 'Israel': 'EURO',\n",
       " 'Italy': 'EURO',\n",
       " 'Jamaica': 'AMRO',\n",
       " 'Japan': 'WPRO',\n",
       " 'Jersey': 'EURO',\n",
       " 'Jordan': 'EMRO',\n",
       " 'Kazakhstan': 'EURO',\n",
       " 'Kenya': 'AFRO',\n",
       " 'Kiribati': 'WPRO',\n",
       " 'Kosovo[1]': 'EURO',\n",
       " 'Kuwait': 'EMRO',\n",
       " 'Kyrgyzstan': 'EURO',\n",
       " \"Lao People's Democratic Republic\": 'WPRO',\n",
       " 'Latvia': 'EURO',\n",
       " 'Lebanon': 'EMRO',\n",
       " 'Lesotho': 'AFRO',\n",
       " 'Liberia': 'AFRO',\n",
       " 'Libya': 'EMRO',\n",
       " 'Liechtenstein': 'EURO',\n",
       " 'Lithuania': 'EURO',\n",
       " 'Luxembourg': 'EURO',\n",
       " 'Madagascar': 'AFRO',\n",
       " 'Malawi': 'AFRO',\n",
       " 'Malaysia': 'WPRO',\n",
       " 'Maldives': 'SEARO',\n",
       " 'Mali': 'AFRO',\n",
       " 'Malta': 'EURO',\n",
       " 'Marshall Islands': 'WPRO',\n",
       " 'Martinique': 'AMRO',\n",
       " 'Mauritania': 'AFRO',\n",
       " 'Mauritius': 'AFRO',\n",
       " 'Mayotte': 'AFRO',\n",
       " 'Mexico': 'AMRO',\n",
       " 'Micronesia (Federated States of)': 'WPRO',\n",
       " 'Monaco': 'EURO',\n",
       " 'Mongolia': 'WPRO',\n",
       " 'Montenegro': 'EURO',\n",
       " 'Montserrat': 'AMRO',\n",
       " 'Morocco': 'EMRO',\n",
       " 'Mozambique': 'AFRO',\n",
       " 'Myanmar': 'SEARO',\n",
       " 'Namibia': 'AFRO',\n",
       " 'Nauru': 'WPRO',\n",
       " 'Nepal': 'SEARO',\n",
       " 'Netherlands': 'EURO',\n",
       " 'New Caledonia': 'WPRO',\n",
       " 'New Zealand': 'WPRO',\n",
       " 'Nicaragua': 'AMRO',\n",
       " 'Niger': 'AFRO',\n",
       " 'Nigeria': 'AFRO',\n",
       " 'Niue': 'WPRO',\n",
       " 'North Macedonia': 'EURO',\n",
       " 'Northern Mariana Islands (Commonwealth of the)': 'WPRO',\n",
       " 'Norway': 'EURO',\n",
       " 'occupied Palestinian territory, including east Jerusalem': 'EMRO',\n",
       " 'Oman': 'EMRO',\n",
       " 'Other': 'Other',\n",
       " 'Pakistan': 'EMRO',\n",
       " 'Palau': 'WPRO',\n",
       " 'Panama': 'AMRO',\n",
       " 'Papua New Guinea': 'WPRO',\n",
       " 'Paraguay': 'AMRO',\n",
       " 'Peru': 'AMRO',\n",
       " 'Philippines': 'WPRO',\n",
       " 'Pitcairn Islands': 'WPRO',\n",
       " 'Poland': 'EURO',\n",
       " 'Portugal': 'EURO',\n",
       " 'Puerto Rico': 'AMRO',\n",
       " 'Qatar': 'EMRO',\n",
       " 'Republic of Korea': 'WPRO',\n",
       " 'Republic of Moldova': 'EURO',\n",
       " 'Réunion': 'AFRO',\n",
       " 'Romania': 'EURO',\n",
       " 'Russian Federation': 'EURO',\n",
       " 'Rwanda': 'AFRO',\n",
       " 'Saba': 'AMRO',\n",
       " 'Saint Barthélemy': 'AMRO',\n",
       " 'Saint Helena, Ascension and Tristan da Cunha': 'AFRO',\n",
       " 'Saint Kitts and Nevis': 'AMRO',\n",
       " 'Saint Lucia': 'AMRO',\n",
       " 'Saint Martin': 'AMRO',\n",
       " 'Saint Pierre and Miquelon': 'AMRO',\n",
       " 'Saint Vincent and the Grenadines': 'AMRO',\n",
       " 'Samoa': 'WPRO',\n",
       " 'San Marino': 'EURO',\n",
       " 'Sao Tome and Principe': 'AFRO',\n",
       " 'Saudi Arabia': 'EMRO',\n",
       " 'Senegal': 'AFRO',\n",
       " 'Serbia': 'EURO',\n",
       " 'Seychelles': 'AFRO',\n",
       " 'Sierra Leone': 'AFRO',\n",
       " 'Singapore': 'WPRO',\n",
       " 'Sint Eustatius': 'AMRO',\n",
       " 'Sint Maarten': 'AMRO',\n",
       " 'Slovakia': 'EURO',\n",
       " 'Slovenia': 'EURO',\n",
       " 'Solomon Islands': 'WPRO',\n",
       " 'Somalia': 'EMRO',\n",
       " 'South Africa': 'AFRO',\n",
       " 'South Sudan': 'AFRO',\n",
       " 'Spain': 'EURO',\n",
       " 'Sri Lanka': 'SEARO',\n",
       " 'Sudan': 'EMRO',\n",
       " 'Suriname': 'AMRO',\n",
       " 'Sweden': 'EURO',\n",
       " 'Switzerland': 'EURO',\n",
       " 'Syrian Arab Republic': 'EMRO',\n",
       " 'Tajikistan': 'EURO',\n",
       " 'Thailand': 'SEARO',\n",
       " 'The United Kingdom': 'EURO',\n",
       " 'Timor-Leste': 'SEARO',\n",
       " 'Togo': 'AFRO',\n",
       " 'Tokelau': 'WPRO',\n",
       " 'Tonga': 'WPRO',\n",
       " 'Trinidad and Tobago': 'AMRO',\n",
       " 'Tunisia': 'EMRO',\n",
       " 'Türkiye': 'EURO',\n",
       " 'Turkmenistan': 'EURO',\n",
       " 'Turks and Caicos Islands': 'AMRO',\n",
       " 'Tuvalu': 'WPRO',\n",
       " 'Uganda': 'AFRO',\n",
       " 'Ukraine': 'EURO',\n",
       " 'United Arab Emirates': 'EMRO',\n",
       " 'United Republic of Tanzania': 'AFRO',\n",
       " 'United States of America': 'AMRO',\n",
       " 'United States Virgin Islands': 'AMRO',\n",
       " 'Uruguay': 'AMRO',\n",
       " 'Uzbekistan': 'EURO',\n",
       " 'Vanuatu': 'WPRO',\n",
       " 'Venezuela (Bolivarian Republic of)': 'AMRO',\n",
       " 'Viet Nam': 'WPRO',\n",
       " 'Wallis and Futuna': 'WPRO',\n",
       " 'Yemen': 'EMRO',\n",
       " 'Zambia': 'AFRO',\n",
       " 'Zimbabwe': 'AFRO'}"
      ]
     },
     "execution_count": 24,
     "metadata": {},
     "output_type": "execute_result"
    }
   ],
   "source": [
    "# Function to generate dictionary of WHO_region & country names\n",
    "\n",
    "def dictionary_country_region(data):\n",
    "    combinations = data[['Country', 'WHO_region']].drop_duplicates()\n",
    "    \n",
    "    dict_codes = {'Country': combinations['Country'], 'WHO_region': combinations['WHO_region']}\n",
    "    \n",
    "    df = pd.DataFrame(dict_codes)\n",
    "    \n",
    "    final_dict = dict(zip(df['Country'], df[\"WHO_region\"]))\n",
    "    \n",
    "    return final_dict\n",
    "\n",
    "dictionary_country_region(data_cases_deaths)"
   ]
  },
  {
   "cell_type": "markdown",
   "metadata": {},
   "source": [
    "We dump those dictionaries as JSON - populations and country codes remain the same throughout the year - no need to have this logic run every single day again within our script."
   ]
  },
  {
   "cell_type": "code",
   "execution_count": 132,
   "metadata": {},
   "outputs": [],
   "source": [
    "# Country codes\n",
    "with open(\"dictionaries/country_codes.json\", \"w\") as outfile:\n",
    "    json.dump(dictionary_countrycodes, outfile)\n",
    "\n",
    "# Country populations\n",
    "with open(\"dictionaries/country_populations.json\", \"w\") as outfile:\n",
    "    json.dump(dictionary_population, outfile)\n"
   ]
  },
  {
   "cell_type": "code",
   "execution_count": 154,
   "metadata": {},
   "outputs": [],
   "source": [
    "# Country codes (ISO)\n",
    "with open(\"dictionaries/iso_codes.json\", \"w\") as outfile:\n",
    "    json.dump(dictionary_isocodes, outfile)\n",
    "\n",
    "# Country populations (ISO)\n",
    "with open(\"dictionaries/country_populations_iso.json\", \"w\") as outfile:\n",
    "    json.dump(dictionary_population_iso, outfile)\n"
   ]
  },
  {
   "cell_type": "code",
   "execution_count": 155,
   "metadata": {},
   "outputs": [],
   "source": [
    "# Loading dictionaries\n",
    "\n",
    "with open(\"dictionaries/country_codes.json\", \"r\") as json_file:\n",
    "    dictionary_countrycodes = json.load(json_file)\n",
    "    \n",
    "with open(\"dictionaries/country_populations.json\", \"r\") as json_file:\n",
    "    dictionary_population = json.load(json_file)\n",
    "    \n",
    "with open(\"dictionaries/iso_codes.json\", \"r\") as json_file:\n",
    "    dictionary_isocodes = json.load(json_file)\n",
    "    \n",
    "with open(\"dictionaries/country_populations_iso.json\", \"r\") as json_file:\n",
    "    dictionary_population_iso = json.load(json_file)"
   ]
  },
  {
   "cell_type": "markdown",
   "metadata": {},
   "source": [
    "# Main functions"
   ]
  },
  {
   "cell_type": "markdown",
   "metadata": {},
   "source": [
    "We will list here the main functions we will package to generate our charts and figures for our dashboard. \n",
    "\n",
    "We will use `France` as an example here, which will become a parameter in our package."
   ]
  },
  {
   "cell_type": "markdown",
   "metadata": {},
   "source": [
    "## Cases/Deaths @ Country Level ⛳️"
   ]
  },
  {
   "cell_type": "markdown",
   "metadata": {},
   "source": [
    "### Number of new cases (last day)"
   ]
  },
  {
   "cell_type": "code",
   "execution_count": 187,
   "metadata": {},
   "outputs": [
    {
     "data": {
      "text/plain": [
       "3997"
      ]
     },
     "execution_count": 187,
     "metadata": {},
     "output_type": "execute_result"
    }
   ],
   "source": [
    "def new_cases_lastday(data, country):\n",
    "\n",
    "    data_country = data[data[\"Country\"] == country]\n",
    "    new_cases_last = data_country[\"New_cases\"].iloc[-1]\n",
    "    \n",
    "    return new_cases_last\n",
    "\n",
    "new_cases_lastday(data_cases_deaths,\"France\")"
   ]
  },
  {
   "cell_type": "markdown",
   "metadata": {},
   "source": [
    "### Number of new deaths (last day)"
   ]
  },
  {
   "cell_type": "code",
   "execution_count": 14,
   "metadata": {},
   "outputs": [
    {
     "data": {
      "text/plain": [
       "63"
      ]
     },
     "execution_count": 14,
     "metadata": {},
     "output_type": "execute_result"
    }
   ],
   "source": [
    "def new_deaths_lastday(data,country):\n",
    "\n",
    "    data_country = data[data[\"Country\"] == country]\n",
    "    new_deaths_last = data_country[\"New_deaths\"].iloc[-1]\n",
    "    \n",
    "    return new_deaths_last\n",
    "\n",
    "new_deaths_lastday(data_cases_deaths,\"France\")"
   ]
  },
  {
   "cell_type": "markdown",
   "metadata": {},
   "source": [
    "### Number of new cases weekly (last 7 days)"
   ]
  },
  {
   "cell_type": "code",
   "execution_count": 188,
   "metadata": {},
   "outputs": [
    {
     "data": {
      "text/html": [
       "<div>\n",
       "<style scoped>\n",
       "    .dataframe tbody tr th:only-of-type {\n",
       "        vertical-align: middle;\n",
       "    }\n",
       "\n",
       "    .dataframe tbody tr th {\n",
       "        vertical-align: top;\n",
       "    }\n",
       "\n",
       "    .dataframe thead th {\n",
       "        text-align: right;\n",
       "    }\n",
       "</style>\n",
       "<table border=\"1\" class=\"dataframe\">\n",
       "  <thead>\n",
       "    <tr style=\"text-align: right;\">\n",
       "      <th></th>\n",
       "      <th>Date_reported</th>\n",
       "      <th>Last_7_days</th>\n",
       "    </tr>\n",
       "  </thead>\n",
       "  <tbody>\n",
       "    <tr>\n",
       "      <th>80208</th>\n",
       "      <td>2020-01-03</td>\n",
       "      <td>NaN</td>\n",
       "    </tr>\n",
       "    <tr>\n",
       "      <th>80209</th>\n",
       "      <td>2020-01-04</td>\n",
       "      <td>NaN</td>\n",
       "    </tr>\n",
       "    <tr>\n",
       "      <th>80210</th>\n",
       "      <td>2020-01-05</td>\n",
       "      <td>NaN</td>\n",
       "    </tr>\n",
       "    <tr>\n",
       "      <th>80211</th>\n",
       "      <td>2020-01-06</td>\n",
       "      <td>NaN</td>\n",
       "    </tr>\n",
       "    <tr>\n",
       "      <th>80212</th>\n",
       "      <td>2020-01-07</td>\n",
       "      <td>NaN</td>\n",
       "    </tr>\n",
       "    <tr>\n",
       "      <th>...</th>\n",
       "      <td>...</td>\n",
       "      <td>...</td>\n",
       "    </tr>\n",
       "    <tr>\n",
       "      <th>81317</th>\n",
       "      <td>2023-01-16</td>\n",
       "      <td>42752.0</td>\n",
       "    </tr>\n",
       "    <tr>\n",
       "      <th>81318</th>\n",
       "      <td>2023-01-17</td>\n",
       "      <td>42328.0</td>\n",
       "    </tr>\n",
       "    <tr>\n",
       "      <th>81319</th>\n",
       "      <td>2023-01-18</td>\n",
       "      <td>38994.0</td>\n",
       "    </tr>\n",
       "    <tr>\n",
       "      <th>81320</th>\n",
       "      <td>2023-01-19</td>\n",
       "      <td>37253.0</td>\n",
       "    </tr>\n",
       "    <tr>\n",
       "      <th>81321</th>\n",
       "      <td>2023-01-20</td>\n",
       "      <td>35304.0</td>\n",
       "    </tr>\n",
       "  </tbody>\n",
       "</table>\n",
       "<p>1114 rows × 2 columns</p>\n",
       "</div>"
      ],
      "text/plain": [
       "      Date_reported  Last_7_days\n",
       "80208    2020-01-03          NaN\n",
       "80209    2020-01-04          NaN\n",
       "80210    2020-01-05          NaN\n",
       "80211    2020-01-06          NaN\n",
       "80212    2020-01-07          NaN\n",
       "...             ...          ...\n",
       "81317    2023-01-16      42752.0\n",
       "81318    2023-01-17      42328.0\n",
       "81319    2023-01-18      38994.0\n",
       "81320    2023-01-19      37253.0\n",
       "81321    2023-01-20      35304.0\n",
       "\n",
       "[1114 rows x 2 columns]"
      ]
     },
     "execution_count": 188,
     "metadata": {},
     "output_type": "execute_result"
    }
   ],
   "source": [
    "def new_cases_last_7d(data,country):\n",
    "\n",
    "    pd.set_option('mode.chained_assignment', None)\n",
    "\n",
    "    data_country = data[data[\"Country\"] == country]\n",
    "    new_cases_7d = data_country[[\"Date_reported\", \"New_cases\"]]\n",
    "    new_cases_7d[\"Last_7_days\"] = new_cases_7d[\"New_cases\"].rolling(7).sum()\n",
    "\n",
    "    new_cases_7d.drop(['New_cases'], axis = 1, inplace = True) \n",
    "\n",
    "    return new_cases_7d\n",
    "\n",
    "new_cases_last_7d(data_cases_deaths,\"France\")"
   ]
  },
  {
   "cell_type": "code",
   "execution_count": 189,
   "metadata": {},
   "outputs": [
    {
     "data": {
      "text/plain": [
       "<AxesSubplot:xlabel='Date_reported', ylabel='Last_7_days'>"
      ]
     },
     "execution_count": 189,
     "metadata": {},
     "output_type": "execute_result"
    },
    {
     "data": {
      "image/png": "[encoded data removed]",
      "text/plain": [
       "<Figure size 432x288 with 1 Axes>"
      ]
     },
     "metadata": {
      "needs_background": "light"
     },
     "output_type": "display_data"
    }
   ],
   "source": [
    "# Line chart\n",
    "\n",
    "new_cases_7d = new_cases_last_7d(data_cases_deaths,\"France\")\n",
    "\n",
    "sns.lineplot(data=new_cases_7d, x=\"Date_reported\", y=\"Last_7_days\");"
   ]
  },
  {
   "cell_type": "markdown",
   "metadata": {},
   "source": [
    "### Number of new cases (7-day rolling average)"
   ]
  },
  {
   "cell_type": "code",
   "execution_count": 190,
   "metadata": {},
   "outputs": [
    {
     "data": {
      "text/html": [
       "<div>\n",
       "<style scoped>\n",
       "    .dataframe tbody tr th:only-of-type {\n",
       "        vertical-align: middle;\n",
       "    }\n",
       "\n",
       "    .dataframe tbody tr th {\n",
       "        vertical-align: top;\n",
       "    }\n",
       "\n",
       "    .dataframe thead th {\n",
       "        text-align: right;\n",
       "    }\n",
       "</style>\n",
       "<table border=\"1\" class=\"dataframe\">\n",
       "  <thead>\n",
       "    <tr style=\"text-align: right;\">\n",
       "      <th></th>\n",
       "      <th>Date_reported</th>\n",
       "      <th>7_days_average</th>\n",
       "    </tr>\n",
       "  </thead>\n",
       "  <tbody>\n",
       "    <tr>\n",
       "      <th>80208</th>\n",
       "      <td>2020-01-03</td>\n",
       "      <td>NaN</td>\n",
       "    </tr>\n",
       "    <tr>\n",
       "      <th>80209</th>\n",
       "      <td>2020-01-04</td>\n",
       "      <td>NaN</td>\n",
       "    </tr>\n",
       "    <tr>\n",
       "      <th>80210</th>\n",
       "      <td>2020-01-05</td>\n",
       "      <td>NaN</td>\n",
       "    </tr>\n",
       "    <tr>\n",
       "      <th>80211</th>\n",
       "      <td>2020-01-06</td>\n",
       "      <td>NaN</td>\n",
       "    </tr>\n",
       "    <tr>\n",
       "      <th>80212</th>\n",
       "      <td>2020-01-07</td>\n",
       "      <td>NaN</td>\n",
       "    </tr>\n",
       "    <tr>\n",
       "      <th>...</th>\n",
       "      <td>...</td>\n",
       "      <td>...</td>\n",
       "    </tr>\n",
       "    <tr>\n",
       "      <th>81317</th>\n",
       "      <td>2023-01-16</td>\n",
       "      <td>6107.43</td>\n",
       "    </tr>\n",
       "    <tr>\n",
       "      <th>81318</th>\n",
       "      <td>2023-01-17</td>\n",
       "      <td>6046.86</td>\n",
       "    </tr>\n",
       "    <tr>\n",
       "      <th>81319</th>\n",
       "      <td>2023-01-18</td>\n",
       "      <td>5570.57</td>\n",
       "    </tr>\n",
       "    <tr>\n",
       "      <th>81320</th>\n",
       "      <td>2023-01-19</td>\n",
       "      <td>5321.86</td>\n",
       "    </tr>\n",
       "    <tr>\n",
       "      <th>81321</th>\n",
       "      <td>2023-01-20</td>\n",
       "      <td>5043.43</td>\n",
       "    </tr>\n",
       "  </tbody>\n",
       "</table>\n",
       "<p>1114 rows × 2 columns</p>\n",
       "</div>"
      ],
      "text/plain": [
       "      Date_reported  7_days_average\n",
       "80208    2020-01-03             NaN\n",
       "80209    2020-01-04             NaN\n",
       "80210    2020-01-05             NaN\n",
       "80211    2020-01-06             NaN\n",
       "80212    2020-01-07             NaN\n",
       "...             ...             ...\n",
       "81317    2023-01-16         6107.43\n",
       "81318    2023-01-17         6046.86\n",
       "81319    2023-01-18         5570.57\n",
       "81320    2023-01-19         5321.86\n",
       "81321    2023-01-20         5043.43\n",
       "\n",
       "[1114 rows x 2 columns]"
      ]
     },
     "execution_count": 190,
     "metadata": {},
     "output_type": "execute_result"
    }
   ],
   "source": [
    "\n",
    "def new_cases_7d_average(data,country):\n",
    "\n",
    "    pd.set_option('mode.chained_assignment', None)\n",
    "\n",
    "    data_country = data[data[\"Country\"] == country]\n",
    "    new_cases_7d_average = data_country[[\"Date_reported\", \"New_cases\"]]\n",
    "    new_cases_7d_average[\"7_days_average\"] = new_cases_7d_average[\"New_cases\"].rolling(7).sum() / 7\n",
    "    new_cases_7d_average[\"7_days_average\"] = new_cases_7d_average[\"7_days_average\"].round(decimals=2)\n",
    "\n",
    "    new_cases_7d_average.drop(['New_cases'], axis = 1, inplace = True) \n",
    "\n",
    "    return new_cases_7d_average\n",
    "\n",
    "new_cases_7d_average(data_cases_deaths,\"France\")"
   ]
  },
  {
   "cell_type": "code",
   "execution_count": 192,
   "metadata": {},
   "outputs": [
    {
     "data": {
      "text/plain": [
       "<AxesSubplot:xlabel='Date_reported', ylabel='7_days_average'>"
      ]
     },
     "execution_count": 192,
     "metadata": {},
     "output_type": "execute_result"
    },
    {
     "data": {
      "image/png": "[encoded data removed]",
      "text/plain": [
       "<Figure size 432x288 with 1 Axes>"
      ]
     },
     "metadata": {
      "needs_background": "light"
     },
     "output_type": "display_data"
    }
   ],
   "source": [
    "# Line chart\n",
    "\n",
    "new_cases_7d_average = new_cases_7d_average(data_cases_deaths,\"France\")\n",
    "\n",
    "sns.lineplot(data=new_cases_7d_average, x=\"Date_reported\", y=\"7_days_average\");"
   ]
  },
  {
   "cell_type": "markdown",
   "metadata": {},
   "source": [
    "### Number of new deaths weekly (last 7 days)"
   ]
  },
  {
   "cell_type": "code",
   "execution_count": 194,
   "metadata": {},
   "outputs": [
    {
     "data": {
      "text/html": [
       "<div>\n",
       "<style scoped>\n",
       "    .dataframe tbody tr th:only-of-type {\n",
       "        vertical-align: middle;\n",
       "    }\n",
       "\n",
       "    .dataframe tbody tr th {\n",
       "        vertical-align: top;\n",
       "    }\n",
       "\n",
       "    .dataframe thead th {\n",
       "        text-align: right;\n",
       "    }\n",
       "</style>\n",
       "<table border=\"1\" class=\"dataframe\">\n",
       "  <thead>\n",
       "    <tr style=\"text-align: right;\">\n",
       "      <th></th>\n",
       "      <th>Date_reported</th>\n",
       "      <th>Last_7_days</th>\n",
       "    </tr>\n",
       "  </thead>\n",
       "  <tbody>\n",
       "    <tr>\n",
       "      <th>80208</th>\n",
       "      <td>2020-01-03</td>\n",
       "      <td>NaN</td>\n",
       "    </tr>\n",
       "    <tr>\n",
       "      <th>80209</th>\n",
       "      <td>2020-01-04</td>\n",
       "      <td>NaN</td>\n",
       "    </tr>\n",
       "    <tr>\n",
       "      <th>80210</th>\n",
       "      <td>2020-01-05</td>\n",
       "      <td>NaN</td>\n",
       "    </tr>\n",
       "    <tr>\n",
       "      <th>80211</th>\n",
       "      <td>2020-01-06</td>\n",
       "      <td>NaN</td>\n",
       "    </tr>\n",
       "    <tr>\n",
       "      <th>80212</th>\n",
       "      <td>2020-01-07</td>\n",
       "      <td>NaN</td>\n",
       "    </tr>\n",
       "    <tr>\n",
       "      <th>...</th>\n",
       "      <td>...</td>\n",
       "      <td>...</td>\n",
       "    </tr>\n",
       "    <tr>\n",
       "      <th>81317</th>\n",
       "      <td>2023-01-16</td>\n",
       "      <td>534.0</td>\n",
       "    </tr>\n",
       "    <tr>\n",
       "      <th>81318</th>\n",
       "      <td>2023-01-17</td>\n",
       "      <td>469.0</td>\n",
       "    </tr>\n",
       "    <tr>\n",
       "      <th>81319</th>\n",
       "      <td>2023-01-18</td>\n",
       "      <td>453.0</td>\n",
       "    </tr>\n",
       "    <tr>\n",
       "      <th>81320</th>\n",
       "      <td>2023-01-19</td>\n",
       "      <td>447.0</td>\n",
       "    </tr>\n",
       "    <tr>\n",
       "      <th>81321</th>\n",
       "      <td>2023-01-20</td>\n",
       "      <td>461.0</td>\n",
       "    </tr>\n",
       "  </tbody>\n",
       "</table>\n",
       "<p>1114 rows × 2 columns</p>\n",
       "</div>"
      ],
      "text/plain": [
       "      Date_reported  Last_7_days\n",
       "80208    2020-01-03          NaN\n",
       "80209    2020-01-04          NaN\n",
       "80210    2020-01-05          NaN\n",
       "80211    2020-01-06          NaN\n",
       "80212    2020-01-07          NaN\n",
       "...             ...          ...\n",
       "81317    2023-01-16        534.0\n",
       "81318    2023-01-17        469.0\n",
       "81319    2023-01-18        453.0\n",
       "81320    2023-01-19        447.0\n",
       "81321    2023-01-20        461.0\n",
       "\n",
       "[1114 rows x 2 columns]"
      ]
     },
     "execution_count": 194,
     "metadata": {},
     "output_type": "execute_result"
    }
   ],
   "source": [
    "def new_deaths_last_7d(data,country):\n",
    "\n",
    "    pd.set_option('mode.chained_assignment', None)\n",
    "\n",
    "    data_country = data[data[\"Country\"] == country]\n",
    "    new_deaths_7d = data_country[[\"Date_reported\", \"New_deaths\"]]\n",
    "    new_deaths_7d[\"Last_7_days\"] = new_deaths_7d[\"New_deaths\"].rolling(7).sum()\n",
    "\n",
    "    new_deaths_7d.drop(['New_deaths'], axis = 1, inplace = True) \n",
    "\n",
    "    return new_deaths_7d\n",
    "\n",
    "new_deaths_last_7d(data_cases_deaths,\"France\")"
   ]
  },
  {
   "cell_type": "code",
   "execution_count": 195,
   "metadata": {},
   "outputs": [
    {
     "data": {
      "text/plain": [
       "<AxesSubplot:xlabel='Date_reported', ylabel='Last_7_days'>"
      ]
     },
     "execution_count": 195,
     "metadata": {},
     "output_type": "execute_result"
    },
    {
     "data": {
      "image/png": "[encoded data removed]",
      "text/plain": [
       "<Figure size 432x288 with 1 Axes>"
      ]
     },
     "metadata": {
      "needs_background": "light"
     },
     "output_type": "display_data"
    }
   ],
   "source": [
    "new_deaths_7d = new_deaths_last_7d(data_cases_deaths,\"France\")\n",
    "\n",
    "sns.lineplot(data=new_deaths_7d, x=\"Date_reported\", y=\"Last_7_days\");"
   ]
  },
  {
   "cell_type": "markdown",
   "metadata": {},
   "source": [
    "### Number of new deaths (7-day rolling average)"
   ]
  },
  {
   "cell_type": "code",
   "execution_count": 198,
   "metadata": {},
   "outputs": [
    {
     "data": {
      "text/html": [
       "<div>\n",
       "<style scoped>\n",
       "    .dataframe tbody tr th:only-of-type {\n",
       "        vertical-align: middle;\n",
       "    }\n",
       "\n",
       "    .dataframe tbody tr th {\n",
       "        vertical-align: top;\n",
       "    }\n",
       "\n",
       "    .dataframe thead th {\n",
       "        text-align: right;\n",
       "    }\n",
       "</style>\n",
       "<table border=\"1\" class=\"dataframe\">\n",
       "  <thead>\n",
       "    <tr style=\"text-align: right;\">\n",
       "      <th></th>\n",
       "      <th>Date_reported</th>\n",
       "      <th>7_days_average</th>\n",
       "    </tr>\n",
       "  </thead>\n",
       "  <tbody>\n",
       "    <tr>\n",
       "      <th>80208</th>\n",
       "      <td>2020-01-03</td>\n",
       "      <td>NaN</td>\n",
       "    </tr>\n",
       "    <tr>\n",
       "      <th>80209</th>\n",
       "      <td>2020-01-04</td>\n",
       "      <td>NaN</td>\n",
       "    </tr>\n",
       "    <tr>\n",
       "      <th>80210</th>\n",
       "      <td>2020-01-05</td>\n",
       "      <td>NaN</td>\n",
       "    </tr>\n",
       "    <tr>\n",
       "      <th>80211</th>\n",
       "      <td>2020-01-06</td>\n",
       "      <td>NaN</td>\n",
       "    </tr>\n",
       "    <tr>\n",
       "      <th>80212</th>\n",
       "      <td>2020-01-07</td>\n",
       "      <td>NaN</td>\n",
       "    </tr>\n",
       "    <tr>\n",
       "      <th>...</th>\n",
       "      <td>...</td>\n",
       "      <td>...</td>\n",
       "    </tr>\n",
       "    <tr>\n",
       "      <th>81317</th>\n",
       "      <td>2023-01-16</td>\n",
       "      <td>76.29</td>\n",
       "    </tr>\n",
       "    <tr>\n",
       "      <th>81318</th>\n",
       "      <td>2023-01-17</td>\n",
       "      <td>67.00</td>\n",
       "    </tr>\n",
       "    <tr>\n",
       "      <th>81319</th>\n",
       "      <td>2023-01-18</td>\n",
       "      <td>64.71</td>\n",
       "    </tr>\n",
       "    <tr>\n",
       "      <th>81320</th>\n",
       "      <td>2023-01-19</td>\n",
       "      <td>63.86</td>\n",
       "    </tr>\n",
       "    <tr>\n",
       "      <th>81321</th>\n",
       "      <td>2023-01-20</td>\n",
       "      <td>65.86</td>\n",
       "    </tr>\n",
       "  </tbody>\n",
       "</table>\n",
       "<p>1114 rows × 2 columns</p>\n",
       "</div>"
      ],
      "text/plain": [
       "      Date_reported  7_days_average\n",
       "80208    2020-01-03             NaN\n",
       "80209    2020-01-04             NaN\n",
       "80210    2020-01-05             NaN\n",
       "80211    2020-01-06             NaN\n",
       "80212    2020-01-07             NaN\n",
       "...             ...             ...\n",
       "81317    2023-01-16           76.29\n",
       "81318    2023-01-17           67.00\n",
       "81319    2023-01-18           64.71\n",
       "81320    2023-01-19           63.86\n",
       "81321    2023-01-20           65.86\n",
       "\n",
       "[1114 rows x 2 columns]"
      ]
     },
     "execution_count": 198,
     "metadata": {},
     "output_type": "execute_result"
    }
   ],
   "source": [
    "def new_deaths_7d_average(data,country):\n",
    "\n",
    "    pd.set_option('mode.chained_assignment', None)\n",
    "\n",
    "    data_country = data[data[\"Country\"] == country]\n",
    "    new_deaths_7d_average = data_country[[\"Date_reported\", \"New_deaths\"]]\n",
    "    new_deaths_7d_average[\"7_days_average\"] = new_deaths_7d_average[\"New_deaths\"].rolling(7).sum() / 7\n",
    "    new_deaths_7d_average[\"7_days_average\"] = new_deaths_7d_average[\"7_days_average\"].round(decimals=2)\n",
    "\n",
    "    new_deaths_7d_average.drop(['New_deaths'], axis = 1, inplace = True)\n",
    "    \n",
    "    return new_deaths_7d_average\n",
    "\n",
    "new_deaths_7d_average(data_cases_deaths,\"France\")"
   ]
  },
  {
   "cell_type": "code",
   "execution_count": 199,
   "metadata": {},
   "outputs": [
    {
     "data": {
      "text/plain": [
       "<AxesSubplot:xlabel='Date_reported', ylabel='7_days_average'>"
      ]
     },
     "execution_count": 199,
     "metadata": {},
     "output_type": "execute_result"
    },
    {
     "data": {
      "image/png": "[encoded data removed]",
      "text/plain": [
       "<Figure size 432x288 with 1 Axes>"
      ]
     },
     "metadata": {
      "needs_background": "light"
     },
     "output_type": "display_data"
    }
   ],
   "source": [
    "new_deaths_7d_average = new_deaths_7d_average(data_cases_deaths,\"France\")\n",
    "\n",
    "sns.lineplot(data=new_deaths_7d_average, x=\"Date_reported\", y=\"7_days_average\");"
   ]
  },
  {
   "cell_type": "markdown",
   "metadata": {},
   "source": [
    "### Number of cummulative cases (latest)"
   ]
  },
  {
   "cell_type": "code",
   "execution_count": 201,
   "metadata": {},
   "outputs": [
    {
     "data": {
      "text/plain": [
       "38372611"
      ]
     },
     "execution_count": 201,
     "metadata": {},
     "output_type": "execute_result"
    }
   ],
   "source": [
    "def cum_cases_latest(data,country):\n",
    "\n",
    "    data_country = data[data[\"Country\"] == country]\n",
    "    cumulative_cases_latest = data_country[\"Cumulative_cases\"].iloc[-1]\n",
    "    \n",
    "    return cumulative_cases_latest\n",
    "\n",
    "cum_cases_latest(data_cases_deaths,\"France\")"
   ]
  },
  {
   "cell_type": "markdown",
   "metadata": {},
   "source": [
    "### Number of cummulative deaths (latest)"
   ]
  },
  {
   "cell_type": "code",
   "execution_count": 200,
   "metadata": {},
   "outputs": [
    {
     "data": {
      "text/plain": [
       "160051"
      ]
     },
     "execution_count": 200,
     "metadata": {},
     "output_type": "execute_result"
    }
   ],
   "source": [
    "def cum_deaths_latest(data,country):\n",
    "\n",
    "    data_country = data[data[\"Country\"] == country]\n",
    "    cumulative_deaths_latest = data_country[\"Cumulative_deaths\"].iloc[-1]\n",
    "    \n",
    "    return cumulative_deaths_latest\n",
    "\n",
    "cum_deaths_latest(data_cases_deaths,\"France\")"
   ]
  },
  {
   "cell_type": "markdown",
   "metadata": {},
   "source": [
    "### Evolution of new cases"
   ]
  },
  {
   "cell_type": "code",
   "execution_count": 202,
   "metadata": {},
   "outputs": [
    {
     "data": {
      "text/html": [
       "<div>\n",
       "<style scoped>\n",
       "    .dataframe tbody tr th:only-of-type {\n",
       "        vertical-align: middle;\n",
       "    }\n",
       "\n",
       "    .dataframe tbody tr th {\n",
       "        vertical-align: top;\n",
       "    }\n",
       "\n",
       "    .dataframe thead th {\n",
       "        text-align: right;\n",
       "    }\n",
       "</style>\n",
       "<table border=\"1\" class=\"dataframe\">\n",
       "  <thead>\n",
       "    <tr style=\"text-align: right;\">\n",
       "      <th></th>\n",
       "      <th>Date_reported</th>\n",
       "      <th>New_cases</th>\n",
       "    </tr>\n",
       "  </thead>\n",
       "  <tbody>\n",
       "    <tr>\n",
       "      <th>80208</th>\n",
       "      <td>2020-01-03</td>\n",
       "      <td>0</td>\n",
       "    </tr>\n",
       "    <tr>\n",
       "      <th>80211</th>\n",
       "      <td>2020-01-06</td>\n",
       "      <td>0</td>\n",
       "    </tr>\n",
       "    <tr>\n",
       "      <th>80212</th>\n",
       "      <td>2020-01-07</td>\n",
       "      <td>0</td>\n",
       "    </tr>\n",
       "    <tr>\n",
       "      <th>80213</th>\n",
       "      <td>2020-01-08</td>\n",
       "      <td>0</td>\n",
       "    </tr>\n",
       "    <tr>\n",
       "      <th>80214</th>\n",
       "      <td>2020-01-09</td>\n",
       "      <td>0</td>\n",
       "    </tr>\n",
       "    <tr>\n",
       "      <th>...</th>\n",
       "      <td>...</td>\n",
       "      <td>...</td>\n",
       "    </tr>\n",
       "    <tr>\n",
       "      <th>81317</th>\n",
       "      <td>2023-01-16</td>\n",
       "      <td>4166</td>\n",
       "    </tr>\n",
       "    <tr>\n",
       "      <th>81318</th>\n",
       "      <td>2023-01-17</td>\n",
       "      <td>1235</td>\n",
       "    </tr>\n",
       "    <tr>\n",
       "      <th>81319</th>\n",
       "      <td>2023-01-18</td>\n",
       "      <td>8381</td>\n",
       "    </tr>\n",
       "    <tr>\n",
       "      <th>81320</th>\n",
       "      <td>2023-01-19</td>\n",
       "      <td>5894</td>\n",
       "    </tr>\n",
       "    <tr>\n",
       "      <th>81321</th>\n",
       "      <td>2023-01-20</td>\n",
       "      <td>3997</td>\n",
       "    </tr>\n",
       "  </tbody>\n",
       "</table>\n",
       "<p>796 rows × 2 columns</p>\n",
       "</div>"
      ],
      "text/plain": [
       "      Date_reported  New_cases\n",
       "80208    2020-01-03          0\n",
       "80211    2020-01-06          0\n",
       "80212    2020-01-07          0\n",
       "80213    2020-01-08          0\n",
       "80214    2020-01-09          0\n",
       "...             ...        ...\n",
       "81317    2023-01-16       4166\n",
       "81318    2023-01-17       1235\n",
       "81319    2023-01-18       8381\n",
       "81320    2023-01-19       5894\n",
       "81321    2023-01-20       3997\n",
       "\n",
       "[796 rows x 2 columns]"
      ]
     },
     "execution_count": 202,
     "metadata": {},
     "output_type": "execute_result"
    }
   ],
   "source": [
    "# All-time\n",
    "\n",
    "def evol_cases_alltime(data,country):\n",
    "\n",
    "    data_country = data[data[\"Country\"] == country]\n",
    "    evolution_new_cases = data_country[[\"Date_reported\", \"New_cases\"]]\n",
    "    evolution_new_cases = evolution_new_cases[evolution_new_cases[\"Date_reported\"].dt.dayofweek < 5]\n",
    "    \n",
    "    return evolution_new_cases\n",
    "\n",
    "evol_cases_alltime(data_cases_deaths,\"France\")"
   ]
  },
  {
   "cell_type": "code",
   "execution_count": 203,
   "metadata": {},
   "outputs": [
    {
     "data": {
      "text/plain": [
       "<AxesSubplot:xlabel='Date_reported', ylabel='New_cases'>"
      ]
     },
     "execution_count": 203,
     "metadata": {},
     "output_type": "execute_result"
    },
    {
     "data": {
      "image/png": "[encoded data removed]",
      "text/plain": [
       "<Figure size 432x288 with 1 Axes>"
      ]
     },
     "metadata": {
      "needs_background": "light"
     },
     "output_type": "display_data"
    }
   ],
   "source": [
    "# Line chart\n",
    "\n",
    "evolution_new_cases = evol_cases_alltime(data_cases_deaths,\"France\")\n",
    "\n",
    "sns.lineplot(data=evolution_new_cases, x=\"Date_reported\", y=\"New_cases\");"
   ]
  },
  {
   "cell_type": "code",
   "execution_count": 210,
   "metadata": {},
   "outputs": [
    {
     "data": {
      "text/html": [
       "<div>\n",
       "<style scoped>\n",
       "    .dataframe tbody tr th:only-of-type {\n",
       "        vertical-align: middle;\n",
       "    }\n",
       "\n",
       "    .dataframe tbody tr th {\n",
       "        vertical-align: top;\n",
       "    }\n",
       "\n",
       "    .dataframe thead th {\n",
       "        text-align: right;\n",
       "    }\n",
       "</style>\n",
       "<table border=\"1\" class=\"dataframe\">\n",
       "  <thead>\n",
       "    <tr style=\"text-align: right;\">\n",
       "      <th></th>\n",
       "      <th>Date_reported</th>\n",
       "      <th>New_cases</th>\n",
       "    </tr>\n",
       "  </thead>\n",
       "  <tbody>\n",
       "    <tr>\n",
       "      <th>80351</th>\n",
       "      <td>2020-05-25</td>\n",
       "      <td>689</td>\n",
       "    </tr>\n",
       "    <tr>\n",
       "      <th>80352</th>\n",
       "      <td>2020-05-26</td>\n",
       "      <td>649</td>\n",
       "    </tr>\n",
       "    <tr>\n",
       "      <th>80353</th>\n",
       "      <td>2020-05-27</td>\n",
       "      <td>587</td>\n",
       "    </tr>\n",
       "    <tr>\n",
       "      <th>80354</th>\n",
       "      <td>2020-05-28</td>\n",
       "      <td>552</td>\n",
       "    </tr>\n",
       "    <tr>\n",
       "      <th>80355</th>\n",
       "      <td>2020-05-29</td>\n",
       "      <td>316</td>\n",
       "    </tr>\n",
       "    <tr>\n",
       "      <th>...</th>\n",
       "      <td>...</td>\n",
       "      <td>...</td>\n",
       "    </tr>\n",
       "    <tr>\n",
       "      <th>80709</th>\n",
       "      <td>2021-05-18</td>\n",
       "      <td>13220</td>\n",
       "    </tr>\n",
       "    <tr>\n",
       "      <th>80710</th>\n",
       "      <td>2021-05-19</td>\n",
       "      <td>11514</td>\n",
       "    </tr>\n",
       "    <tr>\n",
       "      <th>80711</th>\n",
       "      <td>2021-05-20</td>\n",
       "      <td>11986</td>\n",
       "    </tr>\n",
       "    <tr>\n",
       "      <th>80712</th>\n",
       "      <td>2021-05-21</td>\n",
       "      <td>4817</td>\n",
       "    </tr>\n",
       "    <tr>\n",
       "      <th>80715</th>\n",
       "      <td>2021-05-24</td>\n",
       "      <td>9704</td>\n",
       "    </tr>\n",
       "  </tbody>\n",
       "</table>\n",
       "<p>261 rows × 2 columns</p>\n",
       "</div>"
      ],
      "text/plain": [
       "      Date_reported  New_cases\n",
       "80351    2020-05-25        689\n",
       "80352    2020-05-26        649\n",
       "80353    2020-05-27        587\n",
       "80354    2020-05-28        552\n",
       "80355    2020-05-29        316\n",
       "...             ...        ...\n",
       "80709    2021-05-18      13220\n",
       "80710    2021-05-19      11514\n",
       "80711    2021-05-20      11986\n",
       "80712    2021-05-21       4817\n",
       "80715    2021-05-24       9704\n",
       "\n",
       "[261 rows x 2 columns]"
      ]
     },
     "execution_count": 210,
     "metadata": {},
     "output_type": "execute_result"
    }
   ],
   "source": [
    "# Specific dates\n",
    "\n",
    "def evol_cases_dates(data,country,start_date,end_date):\n",
    "\n",
    "    data_country = data[data[\"Country\"] == country]\n",
    "    evolution_new_cases = data_country[[\"Date_reported\", \"New_cases\"]]\n",
    "    evolution_new_cases_filtered = evolution_new_cases[(evolution_new_cases['Date_reported'] >= start_date) & (evolution_new_cases['Date_reported'] <= end_date)]\n",
    "    evolution_new_cases_filtered = evolution_new_cases_filtered[evolution_new_cases_filtered[\"Date_reported\"].dt.dayofweek < 5]\n",
    "    \n",
    "    return evolution_new_cases_filtered\n",
    "\n",
    "evol_cases_dates(data_cases_deaths,\"France\",\"2020-05-24\",\"2021-05-24\")"
   ]
  },
  {
   "cell_type": "code",
   "execution_count": 211,
   "metadata": {},
   "outputs": [
    {
     "data": {
      "text/plain": [
       "<AxesSubplot:xlabel='Date_reported', ylabel='New_cases'>"
      ]
     },
     "execution_count": 211,
     "metadata": {},
     "output_type": "execute_result"
    },
    {
     "data": {
      "image/png": "[encoded data removed]",
      "text/plain": [
       "<Figure size 432x288 with 1 Axes>"
      ]
     },
     "metadata": {
      "needs_background": "light"
     },
     "output_type": "display_data"
    }
   ],
   "source": [
    "# Line chart\n",
    "\n",
    "evolution_new_cases_filtered = evol_cases_dates(data_cases_deaths,\"France\",\"2020-05-24\",\"2021-05-24\")\n",
    "\n",
    "sns.lineplot(data=evolution_new_cases_filtered, x=\"Date_reported\", y=\"New_cases\");"
   ]
  },
  {
   "cell_type": "markdown",
   "metadata": {},
   "source": [
    "### Evolution of new deaths"
   ]
  },
  {
   "cell_type": "code",
   "execution_count": 212,
   "metadata": {},
   "outputs": [
    {
     "data": {
      "text/html": [
       "<div>\n",
       "<style scoped>\n",
       "    .dataframe tbody tr th:only-of-type {\n",
       "        vertical-align: middle;\n",
       "    }\n",
       "\n",
       "    .dataframe tbody tr th {\n",
       "        vertical-align: top;\n",
       "    }\n",
       "\n",
       "    .dataframe thead th {\n",
       "        text-align: right;\n",
       "    }\n",
       "</style>\n",
       "<table border=\"1\" class=\"dataframe\">\n",
       "  <thead>\n",
       "    <tr style=\"text-align: right;\">\n",
       "      <th></th>\n",
       "      <th>Date_reported</th>\n",
       "      <th>New_deaths</th>\n",
       "    </tr>\n",
       "  </thead>\n",
       "  <tbody>\n",
       "    <tr>\n",
       "      <th>80208</th>\n",
       "      <td>2020-01-03</td>\n",
       "      <td>0</td>\n",
       "    </tr>\n",
       "    <tr>\n",
       "      <th>80211</th>\n",
       "      <td>2020-01-06</td>\n",
       "      <td>0</td>\n",
       "    </tr>\n",
       "    <tr>\n",
       "      <th>80212</th>\n",
       "      <td>2020-01-07</td>\n",
       "      <td>0</td>\n",
       "    </tr>\n",
       "    <tr>\n",
       "      <th>80213</th>\n",
       "      <td>2020-01-08</td>\n",
       "      <td>0</td>\n",
       "    </tr>\n",
       "    <tr>\n",
       "      <th>80214</th>\n",
       "      <td>2020-01-09</td>\n",
       "      <td>0</td>\n",
       "    </tr>\n",
       "    <tr>\n",
       "      <th>...</th>\n",
       "      <td>...</td>\n",
       "      <td>...</td>\n",
       "    </tr>\n",
       "    <tr>\n",
       "      <th>81317</th>\n",
       "      <td>2023-01-16</td>\n",
       "      <td>9</td>\n",
       "    </tr>\n",
       "    <tr>\n",
       "      <th>81318</th>\n",
       "      <td>2023-01-17</td>\n",
       "      <td>80</td>\n",
       "    </tr>\n",
       "    <tr>\n",
       "      <th>81319</th>\n",
       "      <td>2023-01-18</td>\n",
       "      <td>99</td>\n",
       "    </tr>\n",
       "    <tr>\n",
       "      <th>81320</th>\n",
       "      <td>2023-01-19</td>\n",
       "      <td>82</td>\n",
       "    </tr>\n",
       "    <tr>\n",
       "      <th>81321</th>\n",
       "      <td>2023-01-20</td>\n",
       "      <td>63</td>\n",
       "    </tr>\n",
       "  </tbody>\n",
       "</table>\n",
       "<p>796 rows × 2 columns</p>\n",
       "</div>"
      ],
      "text/plain": [
       "      Date_reported  New_deaths\n",
       "80208    2020-01-03           0\n",
       "80211    2020-01-06           0\n",
       "80212    2020-01-07           0\n",
       "80213    2020-01-08           0\n",
       "80214    2020-01-09           0\n",
       "...             ...         ...\n",
       "81317    2023-01-16           9\n",
       "81318    2023-01-17          80\n",
       "81319    2023-01-18          99\n",
       "81320    2023-01-19          82\n",
       "81321    2023-01-20          63\n",
       "\n",
       "[796 rows x 2 columns]"
      ]
     },
     "execution_count": 212,
     "metadata": {},
     "output_type": "execute_result"
    }
   ],
   "source": [
    "# All-time\n",
    "\n",
    "def evol_deaths_alltime(data,country):\n",
    "    data_country = data[data[\"Country\"] == country]\n",
    "    evolution_new_deaths = data_country[[\"Date_reported\", \"New_deaths\"]]\n",
    "    evolution_new_deaths = evolution_new_deaths[evolution_new_deaths[\"Date_reported\"].dt.dayofweek < 5]\n",
    "    \n",
    "    return evolution_new_deaths\n",
    "\n",
    "evol_deaths_alltime(data_cases_deaths,\"France\")"
   ]
  },
  {
   "cell_type": "code",
   "execution_count": 213,
   "metadata": {},
   "outputs": [
    {
     "data": {
      "text/plain": [
       "<AxesSubplot:xlabel='Date_reported', ylabel='New_deaths'>"
      ]
     },
     "execution_count": 213,
     "metadata": {},
     "output_type": "execute_result"
    },
    {
     "data": {
      "image/png": "[encoded data removed]",
      "text/plain": [
       "<Figure size 432x288 with 1 Axes>"
      ]
     },
     "metadata": {
      "needs_background": "light"
     },
     "output_type": "display_data"
    }
   ],
   "source": [
    "evolution_new_deaths = evol_deaths_alltime(data_cases_deaths,\"France\")\n",
    "\n",
    "sns.lineplot(data=evolution_new_deaths, x=\"Date_reported\", y=\"New_deaths\");"
   ]
  },
  {
   "cell_type": "code",
   "execution_count": 214,
   "metadata": {},
   "outputs": [
    {
     "data": {
      "text/html": [
       "<div>\n",
       "<style scoped>\n",
       "    .dataframe tbody tr th:only-of-type {\n",
       "        vertical-align: middle;\n",
       "    }\n",
       "\n",
       "    .dataframe tbody tr th {\n",
       "        vertical-align: top;\n",
       "    }\n",
       "\n",
       "    .dataframe thead th {\n",
       "        text-align: right;\n",
       "    }\n",
       "</style>\n",
       "<table border=\"1\" class=\"dataframe\">\n",
       "  <thead>\n",
       "    <tr style=\"text-align: right;\">\n",
       "      <th></th>\n",
       "      <th>Date_reported</th>\n",
       "      <th>New_deaths</th>\n",
       "    </tr>\n",
       "  </thead>\n",
       "  <tbody>\n",
       "    <tr>\n",
       "      <th>80351</th>\n",
       "      <td>2020-05-25</td>\n",
       "      <td>34</td>\n",
       "    </tr>\n",
       "    <tr>\n",
       "      <th>80352</th>\n",
       "      <td>2020-05-26</td>\n",
       "      <td>64</td>\n",
       "    </tr>\n",
       "    <tr>\n",
       "      <th>80353</th>\n",
       "      <td>2020-05-27</td>\n",
       "      <td>98</td>\n",
       "    </tr>\n",
       "    <tr>\n",
       "      <th>80354</th>\n",
       "      <td>2020-05-28</td>\n",
       "      <td>66</td>\n",
       "    </tr>\n",
       "    <tr>\n",
       "      <th>80355</th>\n",
       "      <td>2020-05-29</td>\n",
       "      <td>65</td>\n",
       "    </tr>\n",
       "    <tr>\n",
       "      <th>...</th>\n",
       "      <td>...</td>\n",
       "      <td>...</td>\n",
       "    </tr>\n",
       "    <tr>\n",
       "      <th>80709</th>\n",
       "      <td>2021-05-18</td>\n",
       "      <td>195</td>\n",
       "    </tr>\n",
       "    <tr>\n",
       "      <th>80710</th>\n",
       "      <td>2021-05-19</td>\n",
       "      <td>221</td>\n",
       "    </tr>\n",
       "    <tr>\n",
       "      <th>80711</th>\n",
       "      <td>2021-05-20</td>\n",
       "      <td>140</td>\n",
       "    </tr>\n",
       "    <tr>\n",
       "      <th>80712</th>\n",
       "      <td>2021-05-21</td>\n",
       "      <td>133</td>\n",
       "    </tr>\n",
       "    <tr>\n",
       "      <th>80715</th>\n",
       "      <td>2021-05-24</td>\n",
       "      <td>70</td>\n",
       "    </tr>\n",
       "  </tbody>\n",
       "</table>\n",
       "<p>261 rows × 2 columns</p>\n",
       "</div>"
      ],
      "text/plain": [
       "      Date_reported  New_deaths\n",
       "80351    2020-05-25          34\n",
       "80352    2020-05-26          64\n",
       "80353    2020-05-27          98\n",
       "80354    2020-05-28          66\n",
       "80355    2020-05-29          65\n",
       "...             ...         ...\n",
       "80709    2021-05-18         195\n",
       "80710    2021-05-19         221\n",
       "80711    2021-05-20         140\n",
       "80712    2021-05-21         133\n",
       "80715    2021-05-24          70\n",
       "\n",
       "[261 rows x 2 columns]"
      ]
     },
     "execution_count": 214,
     "metadata": {},
     "output_type": "execute_result"
    }
   ],
   "source": [
    "# Specific dates\n",
    "\n",
    "def evol_deaths_dates(data,country,start_date,end_date):\n",
    "    data_country = data[data[\"Country\"] == country]\n",
    "    evolution_new_deaths = data_country[[\"Date_reported\", \"New_deaths\"]]\n",
    "    evolution_new_deaths_filtered = evolution_new_deaths[(evolution_new_deaths['Date_reported'] >= start_date) & (evolution_new_deaths['Date_reported'] <= end_date)]\n",
    "    evolution_new_deaths_filtered = evolution_new_deaths_filtered[evolution_new_deaths_filtered[\"Date_reported\"].dt.dayofweek < 5]\n",
    "    \n",
    "    return evolution_new_deaths_filtered\n",
    "\n",
    "evol_deaths_dates(data_cases_deaths,\"France\",\"2020-05-24\",\"2021-05-24\")"
   ]
  },
  {
   "cell_type": "code",
   "execution_count": 215,
   "metadata": {},
   "outputs": [
    {
     "data": {
      "text/plain": [
       "<AxesSubplot:xlabel='Date_reported', ylabel='New_deaths'>"
      ]
     },
     "execution_count": 215,
     "metadata": {},
     "output_type": "execute_result"
    },
    {
     "data": {
      "image/png": "[encoded data removed]",
      "text/plain": [
       "<Figure size 432x288 with 1 Axes>"
      ]
     },
     "metadata": {
      "needs_background": "light"
     },
     "output_type": "display_data"
    }
   ],
   "source": [
    "evolution_new_deaths_filtered = evol_deaths_dates(data_cases_deaths,\"France\",\"2020-05-24\",\"2021-05-24\")\n",
    "\n",
    "sns.lineplot(data=evolution_new_deaths_filtered, x=\"Date_reported\", y=\"New_deaths\");"
   ]
  },
  {
   "cell_type": "markdown",
   "metadata": {},
   "source": [
    "### Evolution of cumulative cases"
   ]
  },
  {
   "cell_type": "code",
   "execution_count": 216,
   "metadata": {},
   "outputs": [
    {
     "data": {
      "text/html": [
       "<div>\n",
       "<style scoped>\n",
       "    .dataframe tbody tr th:only-of-type {\n",
       "        vertical-align: middle;\n",
       "    }\n",
       "\n",
       "    .dataframe tbody tr th {\n",
       "        vertical-align: top;\n",
       "    }\n",
       "\n",
       "    .dataframe thead th {\n",
       "        text-align: right;\n",
       "    }\n",
       "</style>\n",
       "<table border=\"1\" class=\"dataframe\">\n",
       "  <thead>\n",
       "    <tr style=\"text-align: right;\">\n",
       "      <th></th>\n",
       "      <th>Date_reported</th>\n",
       "      <th>Cumulative_cases</th>\n",
       "    </tr>\n",
       "  </thead>\n",
       "  <tbody>\n",
       "    <tr>\n",
       "      <th>80208</th>\n",
       "      <td>2020-01-03</td>\n",
       "      <td>0</td>\n",
       "    </tr>\n",
       "    <tr>\n",
       "      <th>80209</th>\n",
       "      <td>2020-01-04</td>\n",
       "      <td>0</td>\n",
       "    </tr>\n",
       "    <tr>\n",
       "      <th>80210</th>\n",
       "      <td>2020-01-05</td>\n",
       "      <td>0</td>\n",
       "    </tr>\n",
       "    <tr>\n",
       "      <th>80211</th>\n",
       "      <td>2020-01-06</td>\n",
       "      <td>0</td>\n",
       "    </tr>\n",
       "    <tr>\n",
       "      <th>80212</th>\n",
       "      <td>2020-01-07</td>\n",
       "      <td>0</td>\n",
       "    </tr>\n",
       "    <tr>\n",
       "      <th>...</th>\n",
       "      <td>...</td>\n",
       "      <td>...</td>\n",
       "    </tr>\n",
       "    <tr>\n",
       "      <th>81317</th>\n",
       "      <td>2023-01-16</td>\n",
       "      <td>38353104</td>\n",
       "    </tr>\n",
       "    <tr>\n",
       "      <th>81318</th>\n",
       "      <td>2023-01-17</td>\n",
       "      <td>38354339</td>\n",
       "    </tr>\n",
       "    <tr>\n",
       "      <th>81319</th>\n",
       "      <td>2023-01-18</td>\n",
       "      <td>38362720</td>\n",
       "    </tr>\n",
       "    <tr>\n",
       "      <th>81320</th>\n",
       "      <td>2023-01-19</td>\n",
       "      <td>38368614</td>\n",
       "    </tr>\n",
       "    <tr>\n",
       "      <th>81321</th>\n",
       "      <td>2023-01-20</td>\n",
       "      <td>38372611</td>\n",
       "    </tr>\n",
       "  </tbody>\n",
       "</table>\n",
       "<p>1114 rows × 2 columns</p>\n",
       "</div>"
      ],
      "text/plain": [
       "      Date_reported  Cumulative_cases\n",
       "80208    2020-01-03                 0\n",
       "80209    2020-01-04                 0\n",
       "80210    2020-01-05                 0\n",
       "80211    2020-01-06                 0\n",
       "80212    2020-01-07                 0\n",
       "...             ...               ...\n",
       "81317    2023-01-16          38353104\n",
       "81318    2023-01-17          38354339\n",
       "81319    2023-01-18          38362720\n",
       "81320    2023-01-19          38368614\n",
       "81321    2023-01-20          38372611\n",
       "\n",
       "[1114 rows x 2 columns]"
      ]
     },
     "execution_count": 216,
     "metadata": {},
     "output_type": "execute_result"
    }
   ],
   "source": [
    "def evol_cum_cases(data,country):\n",
    "\n",
    "    data_country = data[data[\"Country\"] == country]\n",
    "    evolution_cumulative_cases = data_country[[\"Date_reported\", \"Cumulative_cases\"]]\n",
    "\n",
    "    return evolution_cumulative_cases\n",
    "\n",
    "evol_cum_cases(data_cases_deaths,\"France\")"
   ]
  },
  {
   "cell_type": "code",
   "execution_count": 217,
   "metadata": {},
   "outputs": [
    {
     "data": {
      "text/plain": [
       "<AxesSubplot:xlabel='Date_reported', ylabel='Cumulative_cases'>"
      ]
     },
     "execution_count": 217,
     "metadata": {},
     "output_type": "execute_result"
    },
    {
     "data": {
      "image/png": "[encoded data removed]",
      "text/plain": [
       "<Figure size 432x288 with 1 Axes>"
      ]
     },
     "metadata": {
      "needs_background": "light"
     },
     "output_type": "display_data"
    }
   ],
   "source": [
    "# Line chart\n",
    "\n",
    "evolution_cumulative_cases = evol_cum_cases(data_cases_deaths,\"France\")\n",
    "\n",
    "sns.lineplot(data=evolution_cumulative_cases, x=\"Date_reported\", y=\"Cumulative_cases\")"
   ]
  },
  {
   "cell_type": "markdown",
   "metadata": {},
   "source": [
    "### Evolution of cumulative deaths"
   ]
  },
  {
   "cell_type": "code",
   "execution_count": 70,
   "metadata": {},
   "outputs": [
    {
     "data": {
      "text/html": [
       "<div>\n",
       "<style scoped>\n",
       "    .dataframe tbody tr th:only-of-type {\n",
       "        vertical-align: middle;\n",
       "    }\n",
       "\n",
       "    .dataframe tbody tr th {\n",
       "        vertical-align: top;\n",
       "    }\n",
       "\n",
       "    .dataframe thead th {\n",
       "        text-align: right;\n",
       "    }\n",
       "</style>\n",
       "<table border=\"1\" class=\"dataframe\">\n",
       "  <thead>\n",
       "    <tr style=\"text-align: right;\">\n",
       "      <th></th>\n",
       "      <th>Date_reported</th>\n",
       "      <th>Cumulative_deaths</th>\n",
       "    </tr>\n",
       "  </thead>\n",
       "  <tbody>\n",
       "    <tr>\n",
       "      <th>80208</th>\n",
       "      <td>2020-01-03</td>\n",
       "      <td>0</td>\n",
       "    </tr>\n",
       "    <tr>\n",
       "      <th>80209</th>\n",
       "      <td>2020-01-04</td>\n",
       "      <td>0</td>\n",
       "    </tr>\n",
       "    <tr>\n",
       "      <th>80210</th>\n",
       "      <td>2020-01-05</td>\n",
       "      <td>0</td>\n",
       "    </tr>\n",
       "    <tr>\n",
       "      <th>80211</th>\n",
       "      <td>2020-01-06</td>\n",
       "      <td>0</td>\n",
       "    </tr>\n",
       "    <tr>\n",
       "      <th>80212</th>\n",
       "      <td>2020-01-07</td>\n",
       "      <td>0</td>\n",
       "    </tr>\n",
       "    <tr>\n",
       "      <th>...</th>\n",
       "      <td>...</td>\n",
       "      <td>...</td>\n",
       "    </tr>\n",
       "    <tr>\n",
       "      <th>81317</th>\n",
       "      <td>2023-01-16</td>\n",
       "      <td>159727</td>\n",
       "    </tr>\n",
       "    <tr>\n",
       "      <th>81318</th>\n",
       "      <td>2023-01-17</td>\n",
       "      <td>159807</td>\n",
       "    </tr>\n",
       "    <tr>\n",
       "      <th>81319</th>\n",
       "      <td>2023-01-18</td>\n",
       "      <td>159906</td>\n",
       "    </tr>\n",
       "    <tr>\n",
       "      <th>81320</th>\n",
       "      <td>2023-01-19</td>\n",
       "      <td>159988</td>\n",
       "    </tr>\n",
       "    <tr>\n",
       "      <th>81321</th>\n",
       "      <td>2023-01-20</td>\n",
       "      <td>160051</td>\n",
       "    </tr>\n",
       "  </tbody>\n",
       "</table>\n",
       "<p>1114 rows × 2 columns</p>\n",
       "</div>"
      ],
      "text/plain": [
       "      Date_reported  Cumulative_deaths\n",
       "80208    2020-01-03                  0\n",
       "80209    2020-01-04                  0\n",
       "80210    2020-01-05                  0\n",
       "80211    2020-01-06                  0\n",
       "80212    2020-01-07                  0\n",
       "...             ...                ...\n",
       "81317    2023-01-16             159727\n",
       "81318    2023-01-17             159807\n",
       "81319    2023-01-18             159906\n",
       "81320    2023-01-19             159988\n",
       "81321    2023-01-20             160051\n",
       "\n",
       "[1114 rows x 2 columns]"
      ]
     },
     "execution_count": 70,
     "metadata": {},
     "output_type": "execute_result"
    }
   ],
   "source": [
    "def evol_cum_deaths(data,country):\n",
    "    data_country = data[data[\"Country\"] == country]\n",
    "    evolution_cumulative_deaths = data_country[[\"Date_reported\", \"Cumulative_deaths\"]]\n",
    "    \n",
    "    return evolution_cumulative_deaths\n",
    "\n",
    "evol_cum_deaths(data_cases_deaths,\"France\")"
   ]
  },
  {
   "cell_type": "code",
   "execution_count": 71,
   "metadata": {},
   "outputs": [
    {
     "data": {
      "image/png": "[encoded data removed]",
      "text/plain": [
       "<Figure size 432x288 with 1 Axes>"
      ]
     },
     "metadata": {
      "needs_background": "light"
     },
     "output_type": "display_data"
    }
   ],
   "source": [
    "evolution_cumulative_deaths = evol_cum_deaths(data_cases_deaths,\"France\")\n",
    "\n",
    "sns.lineplot(data=evolution_cumulative_deaths, x=\"Date_reported\", y=\"Cumulative_deaths\");"
   ]
  },
  {
   "cell_type": "markdown",
   "metadata": {},
   "source": [
    "### New cases (weekly)"
   ]
  },
  {
   "cell_type": "code",
   "execution_count": 433,
   "metadata": {},
   "outputs": [
    {
     "data": {
      "text/html": [
       "<div>\n",
       "<style scoped>\n",
       "    .dataframe tbody tr th:only-of-type {\n",
       "        vertical-align: middle;\n",
       "    }\n",
       "\n",
       "    .dataframe tbody tr th {\n",
       "        vertical-align: top;\n",
       "    }\n",
       "\n",
       "    .dataframe thead th {\n",
       "        text-align: right;\n",
       "    }\n",
       "</style>\n",
       "<table border=\"1\" class=\"dataframe\">\n",
       "  <thead>\n",
       "    <tr style=\"text-align: right;\">\n",
       "      <th></th>\n",
       "      <th>Date_reported</th>\n",
       "      <th>Weekly_cases</th>\n",
       "      <th>Country</th>\n",
       "    </tr>\n",
       "  </thead>\n",
       "  <tbody>\n",
       "    <tr>\n",
       "      <th>0</th>\n",
       "      <td>2020-01-06</td>\n",
       "      <td>0</td>\n",
       "      <td>France</td>\n",
       "    </tr>\n",
       "    <tr>\n",
       "      <th>1</th>\n",
       "      <td>2020-01-13</td>\n",
       "      <td>0</td>\n",
       "      <td>France</td>\n",
       "    </tr>\n",
       "    <tr>\n",
       "      <th>2</th>\n",
       "      <td>2020-01-20</td>\n",
       "      <td>0</td>\n",
       "      <td>France</td>\n",
       "    </tr>\n",
       "    <tr>\n",
       "      <th>3</th>\n",
       "      <td>2020-01-27</td>\n",
       "      <td>3</td>\n",
       "      <td>France</td>\n",
       "    </tr>\n",
       "    <tr>\n",
       "      <th>4</th>\n",
       "      <td>2020-02-03</td>\n",
       "      <td>3</td>\n",
       "      <td>France</td>\n",
       "    </tr>\n",
       "    <tr>\n",
       "      <th>...</th>\n",
       "      <td>...</td>\n",
       "      <td>...</td>\n",
       "      <td>...</td>\n",
       "    </tr>\n",
       "    <tr>\n",
       "      <th>155</th>\n",
       "      <td>2022-12-26</td>\n",
       "      <td>288522</td>\n",
       "      <td>France</td>\n",
       "    </tr>\n",
       "    <tr>\n",
       "      <th>156</th>\n",
       "      <td>2023-01-02</td>\n",
       "      <td>144771</td>\n",
       "      <td>France</td>\n",
       "    </tr>\n",
       "    <tr>\n",
       "      <th>157</th>\n",
       "      <td>2023-01-09</td>\n",
       "      <td>74496</td>\n",
       "      <td>France</td>\n",
       "    </tr>\n",
       "    <tr>\n",
       "      <th>158</th>\n",
       "      <td>2023-01-16</td>\n",
       "      <td>42752</td>\n",
       "      <td>France</td>\n",
       "    </tr>\n",
       "    <tr>\n",
       "      <th>159</th>\n",
       "      <td>2023-01-23</td>\n",
       "      <td>19507</td>\n",
       "      <td>France</td>\n",
       "    </tr>\n",
       "  </tbody>\n",
       "</table>\n",
       "<p>160 rows × 3 columns</p>\n",
       "</div>"
      ],
      "text/plain": [
       "    Date_reported  Weekly_cases Country\n",
       "0      2020-01-06             0  France\n",
       "1      2020-01-13             0  France\n",
       "2      2020-01-20             0  France\n",
       "3      2020-01-27             3  France\n",
       "4      2020-02-03             3  France\n",
       "..            ...           ...     ...\n",
       "155    2022-12-26        288522  France\n",
       "156    2023-01-02        144771  France\n",
       "157    2023-01-09         74496  France\n",
       "158    2023-01-16         42752  France\n",
       "159    2023-01-23         19507  France\n",
       "\n",
       "[160 rows x 3 columns]"
      ]
     },
     "execution_count": 433,
     "metadata": {},
     "output_type": "execute_result"
    }
   ],
   "source": [
    "def new_cases_weekly(data,country):\n",
    "\n",
    "    data_country = data[data[\"Country\"] == country]\n",
    "    new_cases_weekly = data_country[[\"Date_reported\", \"New_cases\"]]\n",
    "    new_cases_weekly[\"Weekly_cases\"] = new_cases_weekly.groupby([pd.Grouper(key=\"Date_reported\", freq=\"W-MON\")])[\"New_cases\"].sum()\n",
    "\n",
    "    new_cases_weekly = new_cases_weekly.groupby([pd.Grouper(key=\"Date_reported\", freq=\"W-MON\")])[\"New_cases\"].sum()\n",
    "    new_cases_weekly = new_cases_weekly.to_frame()\n",
    "    new_cases_weekly.reset_index(inplace=True)\n",
    "    new_cases_weekly = new_cases_weekly.rename(columns={\"New_cases\": \"Weekly_cases\"})\n",
    "    \n",
    "    return new_cases_weekly\n",
    "\n",
    "new_cases_weekly(data_cases_deaths,\"France\")"
   ]
  },
  {
   "cell_type": "markdown",
   "metadata": {},
   "source": [
    "### New deaths (weekly)"
   ]
  },
  {
   "cell_type": "code",
   "execution_count": 366,
   "metadata": {},
   "outputs": [
    {
     "data": {
      "text/html": [
       "<div>\n",
       "<style scoped>\n",
       "    .dataframe tbody tr th:only-of-type {\n",
       "        vertical-align: middle;\n",
       "    }\n",
       "\n",
       "    .dataframe tbody tr th {\n",
       "        vertical-align: top;\n",
       "    }\n",
       "\n",
       "    .dataframe thead th {\n",
       "        text-align: right;\n",
       "    }\n",
       "</style>\n",
       "<table border=\"1\" class=\"dataframe\">\n",
       "  <thead>\n",
       "    <tr style=\"text-align: right;\">\n",
       "      <th></th>\n",
       "      <th>Date_reported</th>\n",
       "      <th>Weekly_deaths</th>\n",
       "    </tr>\n",
       "  </thead>\n",
       "  <tbody>\n",
       "    <tr>\n",
       "      <th>0</th>\n",
       "      <td>2020-01-06</td>\n",
       "      <td>0</td>\n",
       "    </tr>\n",
       "    <tr>\n",
       "      <th>1</th>\n",
       "      <td>2020-01-13</td>\n",
       "      <td>0</td>\n",
       "    </tr>\n",
       "    <tr>\n",
       "      <th>2</th>\n",
       "      <td>2020-01-20</td>\n",
       "      <td>0</td>\n",
       "    </tr>\n",
       "    <tr>\n",
       "      <th>3</th>\n",
       "      <td>2020-01-27</td>\n",
       "      <td>0</td>\n",
       "    </tr>\n",
       "    <tr>\n",
       "      <th>4</th>\n",
       "      <td>2020-02-03</td>\n",
       "      <td>0</td>\n",
       "    </tr>\n",
       "    <tr>\n",
       "      <th>...</th>\n",
       "      <td>...</td>\n",
       "      <td>...</td>\n",
       "    </tr>\n",
       "    <tr>\n",
       "      <th>155</th>\n",
       "      <td>2022-12-26</td>\n",
       "      <td>788</td>\n",
       "    </tr>\n",
       "    <tr>\n",
       "      <th>156</th>\n",
       "      <td>2023-01-02</td>\n",
       "      <td>803</td>\n",
       "    </tr>\n",
       "    <tr>\n",
       "      <th>157</th>\n",
       "      <td>2023-01-09</td>\n",
       "      <td>799</td>\n",
       "    </tr>\n",
       "    <tr>\n",
       "      <th>158</th>\n",
       "      <td>2023-01-16</td>\n",
       "      <td>534</td>\n",
       "    </tr>\n",
       "    <tr>\n",
       "      <th>159</th>\n",
       "      <td>2023-01-23</td>\n",
       "      <td>324</td>\n",
       "    </tr>\n",
       "  </tbody>\n",
       "</table>\n",
       "<p>160 rows × 2 columns</p>\n",
       "</div>"
      ],
      "text/plain": [
       "    Date_reported  Weekly_deaths\n",
       "0      2020-01-06              0\n",
       "1      2020-01-13              0\n",
       "2      2020-01-20              0\n",
       "3      2020-01-27              0\n",
       "4      2020-02-03              0\n",
       "..            ...            ...\n",
       "155    2022-12-26            788\n",
       "156    2023-01-02            803\n",
       "157    2023-01-09            799\n",
       "158    2023-01-16            534\n",
       "159    2023-01-23            324\n",
       "\n",
       "[160 rows x 2 columns]"
      ]
     },
     "execution_count": 366,
     "metadata": {},
     "output_type": "execute_result"
    }
   ],
   "source": [
    "def new_deaths_weekly(data,country):\n",
    "\n",
    "    data_country = data[data[\"Country\"] == country]\n",
    "    new_deaths_weekly = data_country[[\"Date_reported\", \"New_deaths\"]]\n",
    "    new_deaths_weekly[\"Weekly_deaths\"] = new_deaths_weekly.groupby([pd.Grouper(key=\"Date_reported\", freq=\"W-MON\")])[\"New_deaths\"].sum()\n",
    "\n",
    "    new_deaths_weekly = new_deaths_weekly.groupby([pd.Grouper(key=\"Date_reported\", freq=\"W-MON\")])[\"New_deaths\"].sum()\n",
    "    new_deaths_weekly = new_deaths_weekly.to_frame()\n",
    "    new_deaths_weekly.reset_index(inplace=True)\n",
    "    new_deaths_weekly = new_deaths_weekly.rename(columns={\"New_deaths\": \"Weekly_deaths\"})\n",
    "\n",
    "    return new_deaths_weekly\n",
    "\n",
    "new_deaths_weekly(data_cases_deaths,\"France\")"
   ]
  },
  {
   "cell_type": "markdown",
   "metadata": {},
   "source": [
    "### New cases change chart"
   ]
  },
  {
   "cell_type": "code",
   "execution_count": 284,
   "metadata": {},
   "outputs": [
    {
     "data": {
      "text/html": [
       "<div>\n",
       "<style scoped>\n",
       "    .dataframe tbody tr th:only-of-type {\n",
       "        vertical-align: middle;\n",
       "    }\n",
       "\n",
       "    .dataframe tbody tr th {\n",
       "        vertical-align: top;\n",
       "    }\n",
       "\n",
       "    .dataframe thead th {\n",
       "        text-align: right;\n",
       "    }\n",
       "</style>\n",
       "<table border=\"1\" class=\"dataframe\">\n",
       "  <thead>\n",
       "    <tr style=\"text-align: right;\">\n",
       "      <th></th>\n",
       "      <th>Date_reported</th>\n",
       "      <th>Percentage_change</th>\n",
       "    </tr>\n",
       "  </thead>\n",
       "  <tbody>\n",
       "    <tr>\n",
       "      <th>0</th>\n",
       "      <td>2020-01-06</td>\n",
       "      <td>NaN</td>\n",
       "    </tr>\n",
       "    <tr>\n",
       "      <th>1</th>\n",
       "      <td>2020-01-13</td>\n",
       "      <td>NaN</td>\n",
       "    </tr>\n",
       "    <tr>\n",
       "      <th>2</th>\n",
       "      <td>2020-01-20</td>\n",
       "      <td>NaN</td>\n",
       "    </tr>\n",
       "    <tr>\n",
       "      <th>3</th>\n",
       "      <td>2020-01-27</td>\n",
       "      <td>inf</td>\n",
       "    </tr>\n",
       "    <tr>\n",
       "      <th>4</th>\n",
       "      <td>2020-02-03</td>\n",
       "      <td>0.00</td>\n",
       "    </tr>\n",
       "    <tr>\n",
       "      <th>...</th>\n",
       "      <td>...</td>\n",
       "      <td>...</td>\n",
       "    </tr>\n",
       "    <tr>\n",
       "      <th>154</th>\n",
       "      <td>2022-12-19</td>\n",
       "      <td>-11.52</td>\n",
       "    </tr>\n",
       "    <tr>\n",
       "      <th>155</th>\n",
       "      <td>2022-12-26</td>\n",
       "      <td>-24.69</td>\n",
       "    </tr>\n",
       "    <tr>\n",
       "      <th>156</th>\n",
       "      <td>2023-01-02</td>\n",
       "      <td>-49.82</td>\n",
       "    </tr>\n",
       "    <tr>\n",
       "      <th>157</th>\n",
       "      <td>2023-01-09</td>\n",
       "      <td>-48.54</td>\n",
       "    </tr>\n",
       "    <tr>\n",
       "      <th>158</th>\n",
       "      <td>2023-01-16</td>\n",
       "      <td>-42.61</td>\n",
       "    </tr>\n",
       "  </tbody>\n",
       "</table>\n",
       "<p>159 rows × 2 columns</p>\n",
       "</div>"
      ],
      "text/plain": [
       "    Date_reported  Percentage_change\n",
       "0      2020-01-06                NaN\n",
       "1      2020-01-13                NaN\n",
       "2      2020-01-20                NaN\n",
       "3      2020-01-27                inf\n",
       "4      2020-02-03               0.00\n",
       "..            ...                ...\n",
       "154    2022-12-19             -11.52\n",
       "155    2022-12-26             -24.69\n",
       "156    2023-01-02             -49.82\n",
       "157    2023-01-09             -48.54\n",
       "158    2023-01-16             -42.61\n",
       "\n",
       "[159 rows x 2 columns]"
      ]
     },
     "execution_count": 284,
     "metadata": {},
     "output_type": "execute_result"
    }
   ],
   "source": [
    "def new_cases_weekly_change(data,country):\n",
    "    \n",
    "    new_cases_week = new_cases_weekly(csv,country)\n",
    "    \n",
    "    new_cases_week.drop(new_cases_week.tail(1).index,inplace=True)\n",
    "        \n",
    "    new_cases_week['Percentage_change'] = new_cases_week['Weekly_cases'].pct_change().round(4) * 100\n",
    "    \n",
    "    new_cases_week.drop(['Weekly_cases'], axis=1, inplace=True)\n",
    "    \n",
    "    return new_cases_week\n",
    "\n",
    "new_cases_weekly_change(data_cases_deaths,\"France\")"
   ]
  },
  {
   "cell_type": "code",
   "execution_count": 267,
   "metadata": {},
   "outputs": [
    {
     "data": {
      "text/plain": [
       "<AxesSubplot:xlabel='Date_reported', ylabel='Percentage_change'>"
      ]
     },
     "execution_count": 267,
     "metadata": {},
     "output_type": "execute_result"
    },
    {
     "data": {
      "image/png": "[encoded data removed]",
      "text/plain": [
       "<Figure size 432x288 with 1 Axes>"
      ]
     },
     "metadata": {
      "needs_background": "light"
     },
     "output_type": "display_data"
    }
   ],
   "source": [
    "# Line chart\n",
    "\n",
    "cases_weekly_change_chart = new_cases_weekly_change(data_cases_deaths,\"France\")\n",
    "\n",
    "sns.lineplot(data=cases_weekly_change_chart, x=\"Date_reported\", y=\"Percentage_change\")"
   ]
  },
  {
   "cell_type": "markdown",
   "metadata": {},
   "source": [
    "### New deaths change chart"
   ]
  },
  {
   "cell_type": "code",
   "execution_count": 274,
   "metadata": {},
   "outputs": [
    {
     "data": {
      "text/html": [
       "<div>\n",
       "<style scoped>\n",
       "    .dataframe tbody tr th:only-of-type {\n",
       "        vertical-align: middle;\n",
       "    }\n",
       "\n",
       "    .dataframe tbody tr th {\n",
       "        vertical-align: top;\n",
       "    }\n",
       "\n",
       "    .dataframe thead th {\n",
       "        text-align: right;\n",
       "    }\n",
       "</style>\n",
       "<table border=\"1\" class=\"dataframe\">\n",
       "  <thead>\n",
       "    <tr style=\"text-align: right;\">\n",
       "      <th></th>\n",
       "      <th>Date_reported</th>\n",
       "      <th>Percentage_change</th>\n",
       "    </tr>\n",
       "  </thead>\n",
       "  <tbody>\n",
       "    <tr>\n",
       "      <th>0</th>\n",
       "      <td>2020-01-06</td>\n",
       "      <td>NaN</td>\n",
       "    </tr>\n",
       "    <tr>\n",
       "      <th>1</th>\n",
       "      <td>2020-01-13</td>\n",
       "      <td>NaN</td>\n",
       "    </tr>\n",
       "    <tr>\n",
       "      <th>2</th>\n",
       "      <td>2020-01-20</td>\n",
       "      <td>NaN</td>\n",
       "    </tr>\n",
       "    <tr>\n",
       "      <th>3</th>\n",
       "      <td>2020-01-27</td>\n",
       "      <td>NaN</td>\n",
       "    </tr>\n",
       "    <tr>\n",
       "      <th>4</th>\n",
       "      <td>2020-02-03</td>\n",
       "      <td>NaN</td>\n",
       "    </tr>\n",
       "    <tr>\n",
       "      <th>...</th>\n",
       "      <td>...</td>\n",
       "      <td>...</td>\n",
       "    </tr>\n",
       "    <tr>\n",
       "      <th>154</th>\n",
       "      <td>2022-12-19</td>\n",
       "      <td>36.50</td>\n",
       "    </tr>\n",
       "    <tr>\n",
       "      <th>155</th>\n",
       "      <td>2022-12-26</td>\n",
       "      <td>7.50</td>\n",
       "    </tr>\n",
       "    <tr>\n",
       "      <th>156</th>\n",
       "      <td>2023-01-02</td>\n",
       "      <td>1.90</td>\n",
       "    </tr>\n",
       "    <tr>\n",
       "      <th>157</th>\n",
       "      <td>2023-01-09</td>\n",
       "      <td>-0.50</td>\n",
       "    </tr>\n",
       "    <tr>\n",
       "      <th>158</th>\n",
       "      <td>2023-01-16</td>\n",
       "      <td>-33.17</td>\n",
       "    </tr>\n",
       "  </tbody>\n",
       "</table>\n",
       "<p>159 rows × 2 columns</p>\n",
       "</div>"
      ],
      "text/plain": [
       "    Date_reported  Percentage_change\n",
       "0      2020-01-06                NaN\n",
       "1      2020-01-13                NaN\n",
       "2      2020-01-20                NaN\n",
       "3      2020-01-27                NaN\n",
       "4      2020-02-03                NaN\n",
       "..            ...                ...\n",
       "154    2022-12-19              36.50\n",
       "155    2022-12-26               7.50\n",
       "156    2023-01-02               1.90\n",
       "157    2023-01-09              -0.50\n",
       "158    2023-01-16             -33.17\n",
       "\n",
       "[159 rows x 2 columns]"
      ]
     },
     "execution_count": 274,
     "metadata": {},
     "output_type": "execute_result"
    }
   ],
   "source": [
    "def new_deaths_weekly_change(data,country):\n",
    "    \n",
    "    new_deaths_week = new_deaths_weekly(data,country)\n",
    "    \n",
    "    new_deaths_week.drop(new_deaths_week.tail(1).index,inplace=True)\n",
    "    \n",
    "    new_deaths_week['Percentage_change'] = new_deaths_week['Weekly_deaths'].pct_change().round(4) * 100\n",
    "    \n",
    "    new_deaths_week.drop(['Weekly_deaths'], axis=1, inplace=True)\n",
    "    \n",
    "    return new_deaths_week\n",
    "\n",
    "new_deaths_weekly_change(data_cases_deaths,\"France\")"
   ]
  },
  {
   "cell_type": "code",
   "execution_count": 275,
   "metadata": {},
   "outputs": [
    {
     "data": {
      "text/plain": [
       "<AxesSubplot:xlabel='Date_reported', ylabel='Percentage_change'>"
      ]
     },
     "execution_count": 275,
     "metadata": {},
     "output_type": "execute_result"
    },
    {
     "data": {
      "image/png": "[encoded data removed]",
      "text/plain": [
       "<Figure size 432x288 with 1 Axes>"
      ]
     },
     "metadata": {
      "needs_background": "light"
     },
     "output_type": "display_data"
    }
   ],
   "source": [
    "# Line charts\n",
    "\n",
    "deaths_weekly_change_chart = new_deaths_weekly_change(data_cases_deaths,\"France\")\n",
    "\n",
    "sns.lineplot(data=deaths_weekly_change_chart, x=\"Date_reported\", y=\"Percentage_change\")"
   ]
  },
  {
   "cell_type": "markdown",
   "metadata": {},
   "source": [
    "### Top 10 weeks with most new cases (percentage)"
   ]
  },
  {
   "cell_type": "code",
   "execution_count": 288,
   "metadata": {},
   "outputs": [
    {
     "data": {
      "text/html": [
       "<div>\n",
       "<style scoped>\n",
       "    .dataframe tbody tr th:only-of-type {\n",
       "        vertical-align: middle;\n",
       "    }\n",
       "\n",
       "    .dataframe tbody tr th {\n",
       "        vertical-align: top;\n",
       "    }\n",
       "\n",
       "    .dataframe thead th {\n",
       "        text-align: right;\n",
       "    }\n",
       "</style>\n",
       "<table border=\"1\" class=\"dataframe\">\n",
       "  <thead>\n",
       "    <tr style=\"text-align: right;\">\n",
       "      <th></th>\n",
       "      <th>Date_reported</th>\n",
       "      <th>Weekly_cases</th>\n",
       "    </tr>\n",
       "  </thead>\n",
       "  <tbody>\n",
       "    <tr>\n",
       "      <th>107</th>\n",
       "      <td>2022-01-24</td>\n",
       "      <td>2450265</td>\n",
       "    </tr>\n",
       "    <tr>\n",
       "      <th>108</th>\n",
       "      <td>2022-01-31</td>\n",
       "      <td>2282303</td>\n",
       "    </tr>\n",
       "    <tr>\n",
       "      <th>106</th>\n",
       "      <td>2022-01-17</td>\n",
       "      <td>2001083</td>\n",
       "    </tr>\n",
       "    <tr>\n",
       "      <th>105</th>\n",
       "      <td>2022-01-10</td>\n",
       "      <td>1828201</td>\n",
       "    </tr>\n",
       "    <tr>\n",
       "      <th>109</th>\n",
       "      <td>2022-02-07</td>\n",
       "      <td>1638454</td>\n",
       "    </tr>\n",
       "    <tr>\n",
       "      <th>104</th>\n",
       "      <td>2022-01-03</td>\n",
       "      <td>1123897</td>\n",
       "    </tr>\n",
       "    <tr>\n",
       "      <th>117</th>\n",
       "      <td>2022-04-04</td>\n",
       "      <td>951228</td>\n",
       "    </tr>\n",
       "    <tr>\n",
       "      <th>118</th>\n",
       "      <td>2022-04-11</td>\n",
       "      <td>932409</td>\n",
       "    </tr>\n",
       "    <tr>\n",
       "      <th>110</th>\n",
       "      <td>2022-02-14</td>\n",
       "      <td>910350</td>\n",
       "    </tr>\n",
       "    <tr>\n",
       "      <th>131</th>\n",
       "      <td>2022-07-11</td>\n",
       "      <td>902063</td>\n",
       "    </tr>\n",
       "  </tbody>\n",
       "</table>\n",
       "</div>"
      ],
      "text/plain": [
       "    Date_reported  Weekly_cases\n",
       "107    2022-01-24       2450265\n",
       "108    2022-01-31       2282303\n",
       "106    2022-01-17       2001083\n",
       "105    2022-01-10       1828201\n",
       "109    2022-02-07       1638454\n",
       "104    2022-01-03       1123897\n",
       "117    2022-04-04        951228\n",
       "118    2022-04-11        932409\n",
       "110    2022-02-14        910350\n",
       "131    2022-07-11        902063"
      ]
     },
     "execution_count": 288,
     "metadata": {},
     "output_type": "execute_result"
    }
   ],
   "source": [
    "def top_10_weeks_cases(data,country):\n",
    "    \n",
    "    cases_weekly = new_cases_weekly(data,country)\n",
    "    \n",
    "    cases_weekly = cases_weekly.nlargest(10,'Weekly_cases')\n",
    "    \n",
    "    return cases_weekly\n",
    "\n",
    "top_10_weeks_cases(data_cases_deaths,\"France\")"
   ]
  },
  {
   "cell_type": "markdown",
   "metadata": {},
   "source": [
    "### Top 10 weeks with most new deaths (percentage)"
   ]
  },
  {
   "cell_type": "code",
   "execution_count": 291,
   "metadata": {},
   "outputs": [
    {
     "data": {
      "text/html": [
       "<div>\n",
       "<style scoped>\n",
       "    .dataframe tbody tr th:only-of-type {\n",
       "        vertical-align: middle;\n",
       "    }\n",
       "\n",
       "    .dataframe tbody tr th {\n",
       "        vertical-align: top;\n",
       "    }\n",
       "\n",
       "    .dataframe thead th {\n",
       "        text-align: right;\n",
       "    }\n",
       "</style>\n",
       "<table border=\"1\" class=\"dataframe\">\n",
       "  <thead>\n",
       "    <tr style=\"text-align: right;\">\n",
       "      <th></th>\n",
       "      <th>Date_reported</th>\n",
       "      <th>Weekly_deaths</th>\n",
       "    </tr>\n",
       "  </thead>\n",
       "  <tbody>\n",
       "    <tr>\n",
       "      <th>14</th>\n",
       "      <td>2020-04-13</td>\n",
       "      <td>6310</td>\n",
       "    </tr>\n",
       "    <tr>\n",
       "      <th>13</th>\n",
       "      <td>2020-04-06</td>\n",
       "      <td>5462</td>\n",
       "    </tr>\n",
       "    <tr>\n",
       "      <th>15</th>\n",
       "      <td>2020-04-20</td>\n",
       "      <td>5315</td>\n",
       "    </tr>\n",
       "    <tr>\n",
       "      <th>46</th>\n",
       "      <td>2020-11-23</td>\n",
       "      <td>4169</td>\n",
       "    </tr>\n",
       "    <tr>\n",
       "      <th>45</th>\n",
       "      <td>2020-11-16</td>\n",
       "      <td>4096</td>\n",
       "    </tr>\n",
       "    <tr>\n",
       "      <th>47</th>\n",
       "      <td>2020-11-30</td>\n",
       "      <td>3581</td>\n",
       "    </tr>\n",
       "    <tr>\n",
       "      <th>44</th>\n",
       "      <td>2020-11-09</td>\n",
       "      <td>3402</td>\n",
       "    </tr>\n",
       "    <tr>\n",
       "      <th>16</th>\n",
       "      <td>2020-04-27</td>\n",
       "      <td>3132</td>\n",
       "    </tr>\n",
       "    <tr>\n",
       "      <th>56</th>\n",
       "      <td>2021-02-01</td>\n",
       "      <td>3005</td>\n",
       "    </tr>\n",
       "    <tr>\n",
       "      <th>57</th>\n",
       "      <td>2021-02-08</td>\n",
       "      <td>2873</td>\n",
       "    </tr>\n",
       "  </tbody>\n",
       "</table>\n",
       "</div>"
      ],
      "text/plain": [
       "   Date_reported  Weekly_deaths\n",
       "14    2020-04-13           6310\n",
       "13    2020-04-06           5462\n",
       "15    2020-04-20           5315\n",
       "46    2020-11-23           4169\n",
       "45    2020-11-16           4096\n",
       "47    2020-11-30           3581\n",
       "44    2020-11-09           3402\n",
       "16    2020-04-27           3132\n",
       "56    2021-02-01           3005\n",
       "57    2021-02-08           2873"
      ]
     },
     "execution_count": 291,
     "metadata": {},
     "output_type": "execute_result"
    }
   ],
   "source": [
    "def top_10_weeks_deaths(data,country):\n",
    "    \n",
    "    deaths_weekly = new_deaths_weekly(data,country)\n",
    "    \n",
    "    deaths_weekly = deaths_weekly.nlargest(10,'Weekly_deaths')\n",
    "    \n",
    "    return deaths_weekly\n",
    "\n",
    "top_10_weeks_deaths(data_cases_deaths,\"France\")"
   ]
  },
  {
   "cell_type": "markdown",
   "metadata": {},
   "source": [
    "### Cases/Deaths @ Global/Regional Level 🌍"
   ]
  },
  {
   "cell_type": "markdown",
   "metadata": {},
   "source": [
    "We will use the same exact functions defined before and use a dictionary with the `Country` and `WHO_region` in order to filter out the right country."
   ]
  },
  {
   "cell_type": "markdown",
   "metadata": {},
   "source": [
    "### Top 15 countries with most new cases / 100k today / this week"
   ]
  },
  {
   "cell_type": "code",
   "execution_count": 29,
   "metadata": {},
   "outputs": [],
   "source": [
    "def top_15_new_cases_lastweek(data):\n",
    "    \n",
    "    pd.options.mode.chained_assignment = None\n",
    "    \n",
    "    cases_per_100k = {}\n",
    "    \n",
    "    # Iterate over countries\n",
    "    for code, pop in dictionary_population.items():\n",
    "        \n",
    "        # Generate weekly cases for each country\n",
    "        data_country = data[data[\"Country_code\"] == code]\n",
    "        new_cases_weekly = data_country[[\"Date_reported\", \"New_cases\"]]\n",
    "        new_cases_weekly[\"Weekly_cases\"] = new_cases_weekly.groupby([pd.Grouper(key=\"Date_reported\", freq=\"W-MON\")])[\"New_cases\"].sum()\n",
    "\n",
    "        new_cases_weekly = new_cases_weekly.groupby([pd.Grouper(key=\"Date_reported\", freq=\"W-MON\")])[\"New_cases\"].sum()\n",
    "        new_cases_weekly = new_cases_weekly.to_frame()\n",
    "        new_cases_weekly.reset_index(inplace=True)\n",
    "        new_cases_weekly = new_cases_weekly.rename(columns={\"New_cases\": \"Weekly_cases\"})\n",
    "        \n",
    "        # Select the last week\n",
    "        last_week = new_cases_weekly['Weekly_cases'].iloc[-1]\n",
    "        \n",
    "        # Calculate the incidence (cases / 100k people) for the country\n",
    "        incidence = (last_week / (pop / 100000))\n",
    "        \n",
    "        # Add incidence to dictionary for given country\n",
    "        cases_per_100k[code] = incidence\n",
    "        \n",
    "    # Sort countries by incidence\n",
    "    cases_per_100k_sorted = dict(sorted(cases_per_100k.items(), key=lambda x:x[1], reverse=True))\n",
    "    \n",
    "    # Select top 15 countries\n",
    "    top_15_cases_incidence = {key: cases_per_100k_sorted[key] for key in list(cases_per_100k_sorted)[:15]}\n",
    "    \n",
    "    # Turn country codes to country names\n",
    "    top_15_cases_incidence = dict((dictionary_countrycodes[key], value) for (key, value) in top_15_cases_incidence.items())\n",
    "\n",
    "    return top_15_cases_incidence\n"
   ]
  },
  {
   "cell_type": "code",
   "execution_count": 181,
   "metadata": {},
   "outputs": [
    {
     "data": {
      "text/plain": [
       "{'Japan': 320.0013770301907,\n",
       " 'Republic of Korea': 259.4235186130306,\n",
       " 'Cyprus': 220.89499329529443,\n",
       " 'Réunion': 118.31519167061052,\n",
       " 'Australia': 117.40161118596728,\n",
       " 'Puerto Rico': 109.42275504894438,\n",
       " 'Austria': 86.27142697739932,\n",
       " 'Slovenia': 74.13840883832685,\n",
       " 'Germany': 57.503241359902525,\n",
       " 'Serbia': 54.15284738885132,\n",
       " 'Chile': 48.81197940449385,\n",
       " 'Lithuania': 47.37538912942355,\n",
       " 'Belize': 39.736331833580216,\n",
       " 'Montenegro': 37.47679816251098,\n",
       " 'Trinidad and Tobago': 37.084911585712234}"
      ]
     },
     "execution_count": 181,
     "metadata": {},
     "output_type": "execute_result"
    }
   ],
   "source": [
    "top_15_new_cases_lastweek(data_cases_deaths)"
   ]
  },
  {
   "cell_type": "markdown",
   "metadata": {},
   "source": [
    "### Top 15 countries with most new deaths / 100k this week"
   ]
  },
  {
   "cell_type": "code",
   "execution_count": 34,
   "metadata": {},
   "outputs": [],
   "source": [
    "def top_15_new_deaths_lastweek(data):\n",
    "    \n",
    "    pd.options.mode.chained_assignment = None\n",
    "    \n",
    "    deaths_per_100k = {}\n",
    "    \n",
    "    # Iterate over countries\n",
    "    for code, pop in dictionary_population.items():\n",
    "\n",
    "        # Generate weekly cases for each country\n",
    "        data_country = data[data[\"Country_code\"] == code]\n",
    "        new_deaths_weekly = data_country[[\"Date_reported\", \"New_deaths\"]]\n",
    "        new_deaths_weekly[\"Weekly_deaths\"] = new_deaths_weekly.groupby([pd.Grouper(key=\"Date_reported\", freq=\"W-MON\")])[\"New_deaths\"].sum()\n",
    "\n",
    "        new_deaths_weekly = new_deaths_weekly.groupby([pd.Grouper(key=\"Date_reported\", freq=\"W-MON\")])[\"New_deaths\"].sum()\n",
    "        new_deaths_weekly = new_deaths_weekly.to_frame()\n",
    "        new_deaths_weekly.reset_index(inplace=True)\n",
    "        new_deaths_weekly = new_deaths_weekly.rename(columns={\"New_deaths\": \"Weekly_deaths\"})\n",
    "        \n",
    "        # Select the last week\n",
    "        last_week = new_deaths_weekly['Weekly_deaths'].iloc[-1]\n",
    "        \n",
    "        # Calculate the incidence (cases / 100k people) for the country\n",
    "        incidence = (last_week / (pop / 100000))\n",
    "        \n",
    "        # Add incidence to dictionary for given country\n",
    "        deaths_per_100k[code] = incidence\n",
    "        \n",
    "    # Sort countries by incidence\n",
    "    deaths_per_100k_sorted = dict(sorted(deaths_per_100k.items(), key=lambda x:x[1], reverse=True))\n",
    "    \n",
    "    # Select top 15 countries\n",
    "    top_15_deaths_incidence = {key: deaths_per_100k_sorted[key] for key in list(deaths_per_100k_sorted)[:15]}\n",
    "    \n",
    "    # Turn country codes to country names\n",
    "    top_15_deaths_incidence = dict((dictionary_countrycodes[key], value) for (key, value) in top_15_deaths_incidence.items())\n",
    "\n",
    "    return top_15_deaths_incidence"
   ]
  },
  {
   "cell_type": "code",
   "execution_count": 35,
   "metadata": {},
   "outputs": [
    {
     "data": {
      "text/plain": [
       "{'Japan': 1.224609605225836,\n",
       " 'Australia': 1.2068342165218642,\n",
       " 'Croatia': 0.8895038545167029,\n",
       " 'Ireland': 0.8609084305759437,\n",
       " 'Cyprus': 0.8282526932706953,\n",
       " 'Denmark': 0.6859411558520041,\n",
       " 'Puerto Rico': 0.6261674108666345,\n",
       " 'France': 0.48077221276687043,\n",
       " 'Latvia': 0.47329859672224944,\n",
       " 'Chile': 0.470804645418974,\n",
       " 'Serbia': 0.4197895146422583,\n",
       " 'Jamaica': 0.37147591772281213,\n",
       " 'Slovakia': 0.3480601235393611,\n",
       " 'Luxembourg': 0.3163180578071251,\n",
       " 'Republic of Korea': 0.289683898667877}"
      ]
     },
     "execution_count": 35,
     "metadata": {},
     "output_type": "execute_result"
    }
   ],
   "source": [
    "top_15_new_deaths_lastweek(data)"
   ]
  },
  {
   "cell_type": "markdown",
   "metadata": {},
   "source": [
    "### Top 15 countries with highest total incidence of deaths per 100k"
   ]
  },
  {
   "cell_type": "code",
   "execution_count": 37,
   "metadata": {},
   "outputs": [],
   "source": [
    "def top_15_total_death_incidence(data):\n",
    "    \n",
    "    total_deaths_per_100k = {}\n",
    "    \n",
    "    for code, pop in dictionary_population.items():\n",
    "        \n",
    "        data_country = data[data[\"Country_code\"] == code]\n",
    "        cumulative_deaths_latest = data_country[\"Cumulative_deaths\"].iloc[-1]\n",
    "        \n",
    "        # Calculate incidence of deaths in population\n",
    "        incidence = (cumulative_deaths_latest / (pop / 100000))\n",
    "        \n",
    "        # Add incidence to dictionary for given country\n",
    "        total_deaths_per_100k[code] = incidence\n",
    "    \n",
    "    # Sort countries by incidence\n",
    "    deaths_per_100k_sorted = dict(sorted(total_deaths_per_100k.items(), key=lambda x:x[1], reverse=True))\n",
    "    \n",
    "    # Select top 15 countries\n",
    "    top_15_deaths_incidence = {key: deaths_per_100k_sorted[key] for key in list(deaths_per_100k_sorted)[:15]}\n",
    "    \n",
    "    # Turn country codes to country names\n",
    "    top_15_deaths_incidence = dict((dictionary_countrycodes[key], value) for (key, value) in top_15_deaths_incidence.items())\n",
    "    \n",
    "    return top_15_deaths_incidence"
   ]
  },
  {
   "cell_type": "code",
   "execution_count": 38,
   "metadata": {},
   "outputs": [
    {
     "data": {
      "text/plain": [
       "{'Peru': 662.9292154282172,\n",
       " 'Bulgaria': 550.8216202357979,\n",
       " 'Hungary': 497.3967059506985,\n",
       " 'Bosnia and Herzegovina': 495.2427979023505,\n",
       " 'North Macedonia': 462.37364283040057,\n",
       " 'Republic of Moldova': 456.3720958660259,\n",
       " 'Georgia': 455.27732902530965,\n",
       " 'Montenegro': 449.3998886955179,\n",
       " 'Croatia': 439.83494761810636,\n",
       " 'Slovenia': 426.9267653464602,\n",
       " 'Czechia': 395.134226933321,\n",
       " 'Slovakia': 382.81117903168575,\n",
       " 'Romania': 350.01332305098333,\n",
       " 'Lithuania': 340.8594840233299,\n",
       " 'Chile': 332.69671826668144}"
      ]
     },
     "execution_count": 38,
     "metadata": {},
     "output_type": "execute_result"
    }
   ],
   "source": [
    "top_15_total_death_incidence(data)"
   ]
  },
  {
   "cell_type": "markdown",
   "metadata": {},
   "source": [
    "## Vaccinations @ Country Level ⛳️"
   ]
  },
  {
   "cell_type": "markdown",
   "metadata": {},
   "source": [
    "### Number of weekly vaccinations per country"
   ]
  },
  {
   "cell_type": "code",
   "execution_count": 81,
   "metadata": {},
   "outputs": [
    {
     "data": {
      "text/html": [
       "<div>\n",
       "<style scoped>\n",
       "    .dataframe tbody tr th:only-of-type {\n",
       "        vertical-align: middle;\n",
       "    }\n",
       "\n",
       "    .dataframe tbody tr th {\n",
       "        vertical-align: top;\n",
       "    }\n",
       "\n",
       "    .dataframe thead th {\n",
       "        text-align: right;\n",
       "    }\n",
       "</style>\n",
       "<table border=\"1\" class=\"dataframe\">\n",
       "  <thead>\n",
       "    <tr style=\"text-align: right;\">\n",
       "      <th></th>\n",
       "      <th>date</th>\n",
       "      <th>Weekly_vaccinations</th>\n",
       "    </tr>\n",
       "  </thead>\n",
       "  <tbody>\n",
       "    <tr>\n",
       "      <th>0</th>\n",
       "      <td>2020-12-28</td>\n",
       "      <td>705.0</td>\n",
       "    </tr>\n",
       "    <tr>\n",
       "      <th>1</th>\n",
       "      <td>2021-01-04</td>\n",
       "      <td>4128.0</td>\n",
       "    </tr>\n",
       "    <tr>\n",
       "      <th>2</th>\n",
       "      <td>2021-01-11</td>\n",
       "      <td>76111.0</td>\n",
       "    </tr>\n",
       "    <tr>\n",
       "      <th>3</th>\n",
       "      <td>2021-01-18</td>\n",
       "      <td>312439.0</td>\n",
       "    </tr>\n",
       "    <tr>\n",
       "      <th>4</th>\n",
       "      <td>2021-01-25</td>\n",
       "      <td>618340.0</td>\n",
       "    </tr>\n",
       "    <tr>\n",
       "      <th>...</th>\n",
       "      <td>...</td>\n",
       "      <td>...</td>\n",
       "    </tr>\n",
       "    <tr>\n",
       "      <th>104</th>\n",
       "      <td>2022-12-26</td>\n",
       "      <td>368861.0</td>\n",
       "    </tr>\n",
       "    <tr>\n",
       "      <th>105</th>\n",
       "      <td>2023-01-02</td>\n",
       "      <td>160830.0</td>\n",
       "    </tr>\n",
       "    <tr>\n",
       "      <th>106</th>\n",
       "      <td>2023-01-09</td>\n",
       "      <td>203469.0</td>\n",
       "    </tr>\n",
       "    <tr>\n",
       "      <th>107</th>\n",
       "      <td>2023-01-16</td>\n",
       "      <td>207841.0</td>\n",
       "    </tr>\n",
       "    <tr>\n",
       "      <th>108</th>\n",
       "      <td>2023-01-23</td>\n",
       "      <td>70279.0</td>\n",
       "    </tr>\n",
       "  </tbody>\n",
       "</table>\n",
       "<p>109 rows × 2 columns</p>\n",
       "</div>"
      ],
      "text/plain": [
       "          date Weekly_vaccinations\n",
       "0   2020-12-28               705.0\n",
       "1   2021-01-04              4128.0\n",
       "2   2021-01-11             76111.0\n",
       "3   2021-01-18            312439.0\n",
       "4   2021-01-25            618340.0\n",
       "..         ...                 ...\n",
       "104 2022-12-26            368861.0\n",
       "105 2023-01-02            160830.0\n",
       "106 2023-01-09            203469.0\n",
       "107 2023-01-16            207841.0\n",
       "108 2023-01-23             70279.0\n",
       "\n",
       "[109 rows x 2 columns]"
      ]
     },
     "execution_count": 81,
     "metadata": {},
     "output_type": "execute_result"
    }
   ],
   "source": [
    "def new_vaccinations_weekly(data,country):\n",
    "\n",
    "    data_country = data[data[\"location\"] == country]\n",
    "    new_vaccinations_weekly = data_country[[\"date\", \"daily_vaccinations\"]]\n",
    "    new_vaccinations_weekly[\"Weekly_vaccinations\"] = new_vaccinations_weekly.groupby([pd.Grouper(key=\"date\", freq=\"W-MON\")])[\"daily_vaccinations\"].sum()\n",
    "\n",
    "    new_vaccinations_weekly = new_vaccinations_weekly.groupby([pd.Grouper(key=\"date\", freq=\"W-MON\")])[\"daily_vaccinations\"].sum()\n",
    "    new_vaccinations_weekly = new_vaccinations_weekly.to_frame()\n",
    "    new_vaccinations_weekly.reset_index(inplace=True)\n",
    "    new_vaccinations_weekly = new_vaccinations_weekly.rename(columns={\"daily_vaccinations\": \"Weekly_vaccinations\"})\n",
    "    \n",
    "    return new_vaccinations_weekly\n",
    "\n",
    "new_vaccinations_weekly(data_vaccination,\"France\")"
   ]
  },
  {
   "cell_type": "markdown",
   "metadata": {},
   "source": [
    "### Total number of vaccinated people per country"
   ]
  },
  {
   "cell_type": "code",
   "execution_count": 96,
   "metadata": {},
   "outputs": [],
   "source": [
    "def total_vaccinations_country(data,country):\n",
    "    data_country = data[data[\"location\"] == country]\n",
    "    vaccinations_total = data_country[[\"people_fully_vaccinated\"]]\n",
    "    \n",
    "    vaccinations_total = vaccinations_total.iloc[-1][0]\n",
    "    \n",
    "    return vaccinations_total"
   ]
  },
  {
   "cell_type": "code",
   "execution_count": 102,
   "metadata": {},
   "outputs": [
    {
     "data": {
      "text/plain": [
       "53148127.0"
      ]
     },
     "execution_count": 102,
     "metadata": {},
     "output_type": "execute_result"
    }
   ],
   "source": [
    "total_vaccinations_country(data_vaccination,\"France\")"
   ]
  },
  {
   "cell_type": "markdown",
   "metadata": {},
   "source": [
    "### Total % of vaccinated people per country"
   ]
  },
  {
   "cell_type": "code",
   "execution_count": 120,
   "metadata": {},
   "outputs": [],
   "source": [
    "def total_vaccinations_rate_country(data,country):\n",
    "    data_country = data[data[\"location\"] == country]\n",
    "    vaccinations_total = data_country[[\"people_vaccinated_per_hundred\"]]\n",
    "    \n",
    "    vaccinations_total = vaccinations_total.iloc[-1][0]\n",
    "    \n",
    "    return vaccinations_total"
   ]
  },
  {
   "cell_type": "code",
   "execution_count": 122,
   "metadata": {},
   "outputs": [
    {
     "data": {
      "text/plain": [
       "80.58"
      ]
     },
     "execution_count": 122,
     "metadata": {},
     "output_type": "execute_result"
    }
   ],
   "source": [
    "total_vaccinations_rate_country(data_vaccination,\"France\")"
   ]
  },
  {
   "cell_type": "markdown",
   "metadata": {},
   "source": [
    "### Total % of vaccinated people per country (evolution)"
   ]
  },
  {
   "cell_type": "code",
   "execution_count": 127,
   "metadata": {},
   "outputs": [],
   "source": [
    "def vaccinations_rate_evol_country(data,country):\n",
    "    data_country = data[data[\"location\"] == country]\n",
    "    vaccinations_total = data_country[[\"date\",\"people_vaccinated_per_hundred\"]]\n",
    "\n",
    "    return vaccinations_total"
   ]
  },
  {
   "cell_type": "code",
   "execution_count": 129,
   "metadata": {},
   "outputs": [],
   "source": [
    "vaccinations_rate_evol = vaccinations_rate_evol_country(data_vaccination,\"France\")"
   ]
  },
  {
   "cell_type": "code",
   "execution_count": 130,
   "metadata": {},
   "outputs": [
    {
     "data": {
      "text/plain": [
       "<AxesSubplot:xlabel='date', ylabel='people_vaccinated_per_hundred'>"
      ]
     },
     "execution_count": 130,
     "metadata": {},
     "output_type": "execute_result"
    },
    {
     "data": {
      "image/png": "[encoded data removed]",
      "text/plain": [
       "<Figure size 432x288 with 1 Axes>"
      ]
     },
     "metadata": {
      "needs_background": "light"
     },
     "output_type": "display_data"
    }
   ],
   "source": [
    "sns.lineplot(data=vaccinations_rate_evol, x=\"date\", y=\"people_vaccinated_per_hundred\")"
   ]
  },
  {
   "cell_type": "markdown",
   "metadata": {},
   "source": [
    "## Vaccinations @ Regional/Global Level 🌍"
   ]
  },
  {
   "cell_type": "markdown",
   "metadata": {},
   "source": [
    "### Top 15 countries with highest vaccination rate"
   ]
  },
  {
   "cell_type": "code",
   "execution_count": 176,
   "metadata": {},
   "outputs": [],
   "source": [
    "def top_15_vaccinations_rate(data):\n",
    "    vaccinations_rates = {}\n",
    "    \n",
    "    for code, country in dictionary_population_iso.items():\n",
    "        \n",
    "        data_country = data[data[\"iso_code\"] == code]\n",
    "        \n",
    "        if pd.isna(data_country[\"people_vaccinated_per_hundred\"].iloc[-1]) == False:\n",
    "        \n",
    "            vaccination_rate_latest = data_country[\"people_vaccinated_per_hundred\"].iloc[-1]\n",
    "            \n",
    "        else:\n",
    "            \n",
    "            vaccination_rate_latest = data_country[\"people_vaccinated_per_hundred\"].iloc[-2]\n",
    "        \n",
    "        # Add vaccination rate to dictionary for given country\n",
    "        vaccinations_rates[code] = vaccination_rate_latest\n",
    "    \n",
    "    # Sort countries by vaccination rate\n",
    "    vaccinations_rates_sorted = dict(sorted(vaccinations_rates.items(), key=lambda x:x[1], reverse=True))\n",
    "    \n",
    "    # Select top 15 countries\n",
    "    top_15_vaccination_rates = {key: vaccinations_rates_sorted[key] for key in list(vaccinations_rates_sorted)[:15]}\n",
    "    \n",
    "    # Turn country codes to country names\n",
    "    top_15_vaccination_rates = dict((dictionary_isocodes[key], value) for (key, value) in top_15_vaccination_rates.items())\n",
    "    \n",
    "    return top_15_vaccination_rates"
   ]
  },
  {
   "cell_type": "code",
   "execution_count": 177,
   "metadata": {},
   "outputs": [
    {
     "data": {
      "text/plain": [
       "{'United Arab Emirates': 105.83,\n",
       " 'Brunei': 100.31,\n",
       " 'Bulgaria': nan,\n",
       " 'Macao': 97.54,\n",
       " 'Cuba': 95.63,\n",
       " 'Chile': 92.26,\n",
       " 'China': 91.89,\n",
       " 'Argentina': 91.05,\n",
       " 'Cambodia': 90.92,\n",
       " 'Canada': 90.32,\n",
       " 'Bhutan': 89.35,\n",
       " 'Costa Rica': 88.68,\n",
       " 'Bangladesh': 87.99,\n",
       " 'Brazil': 87.76,\n",
       " 'Australia': 84.95}"
      ]
     },
     "execution_count": 177,
     "metadata": {},
     "output_type": "execute_result"
    }
   ],
   "source": [
    "top_15_vaccinations_rate(data_vaccination)"
   ]
  },
  {
   "cell_type": "markdown",
   "metadata": {},
   "source": [
    "We will use the same exact functions defined before and replace the `Country` filtering with the `WHO_region` filtering + group by / sum all data. See package definition."
   ]
  },
  {
   "cell_type": "markdown",
   "metadata": {},
   "source": [
    "# Google Sheets API"
   ]
  },
  {
   "cell_type": "markdown",
   "metadata": {},
   "source": [
    "Template for dumping dataframe to Google Sheet using API"
   ]
  },
  {
   "cell_type": "code",
   "execution_count": 28,
   "metadata": {},
   "outputs": [],
   "source": [
    "# Variables\n",
    "\n",
    "SCOPES = ['https://www.googleapis.com/auth/spreadsheets']\n",
    "SAMPLE_SPREADSHEET_ID = '1ESRCmW23Rb69f5mIfBhV_yy1FsC92f4W8AmxglWnClU'\n",
    "SAMPLE_RANGE_NAME = 'Sheet1!A2:E'"
   ]
  },
  {
   "cell_type": "code",
   "execution_count": 35,
   "metadata": {},
   "outputs": [
    {
     "name": "stdout",
     "output_type": "stream",
     "text": [
      "{'spreadsheetId': '1ESRCmW23Rb69f5mIfBhV_yy1FsC92f4W8AmxglWnClU', 'updates': {'spreadsheetId': '1ESRCmW23Rb69f5mIfBhV_yy1FsC92f4W8AmxglWnClU', 'updatedRange': 'Sheet1!A2:A4', 'updatedRows': 3, 'updatedColumns': 1, 'updatedCells': 3}}\n"
     ]
    }
   ],
   "source": [
    "if os.path.exists('token.json'):\n",
    "        creds = Credentials.from_authorized_user_file('token.json', SCOPES)\n",
    "    # If there are no (valid) credentials available, let the user log in.\n",
    "if not creds or not creds.valid:\n",
    "    if creds and creds.expired and creds.refresh_token:\n",
    "        creds.refresh(Request())\n",
    "    else:\n",
    "        flow = InstalledAppFlow.from_client_secrets_file(\n",
    "            'client_secret_59863169565-0g6psho3kj61kokqdsrqiao73m0o1i4q.apps.googleusercontent.com.json', SCOPES)\n",
    "        creds = flow.run_local_server(port=0)\n",
    "    # Save the credentials for the next run\n",
    "    with open('token.json', 'w') as token:\n",
    "        token.write(creds.to_json())\n",
    "\n",
    "service = build('sheets', 'v4', credentials=creds)\n",
    "\n",
    "\n",
    "# How the input data should be interpreted.\n",
    "value_input_option = ''\n",
    "\n",
    "insert_data_option = ''\n",
    "\n",
    "value_range_body = {\n",
    "    \"majorDimension\": \"ROWS\",\n",
    "    \"values\": [[\"valuea3\"], [\"valuea6\"], [\"valuea9\"]]\n",
    "}\n",
    "\n",
    "# Call the Sheets API\n",
    "sheet = service.spreadsheets()\n",
    "\n",
    "request = sheet.values().clear(spreadsheetId=SAMPLE_SPREADSHEET_ID, range=SAMPLE_RANGE_NAME).execute()\n",
    "\n",
    "\n",
    "result = sheet.values().append(spreadsheetId=SAMPLE_SPREADSHEET_ID,\n",
    "                                range=SAMPLE_RANGE_NAME, valueInputOption=\"USER_ENTERED\", body=value_range_body).execute()\n",
    "\n",
    "print(result)"
   ]
  }
 ],
 "metadata": {
  "kernelspec": {
   "display_name": "covid_tracking_dashboard",
   "language": "python",
   "name": "python3"
  },
  "language_info": {
   "codemirror_mode": {
    "name": "ipython",
    "version": 3
   },
   "file_extension": ".py",
   "mimetype": "text/x-python",
   "name": "python",
   "nbconvert_exporter": "python",
   "pygments_lexer": "ipython3",
   "version": "3.8.12 (default, Sep 11 2022, 12:02:01) \n[Clang 13.1.6 (clang-1316.0.21.2)]"
  },
  "orig_nbformat": 4,
  "vscode": {
   "interpreter": {
    "hash": "c829f585f005213e28b7228c6b41106f0136af1727733e85e67387d59e02aa4f"
   }
  }
 },
 "nbformat": 4,
 "nbformat_minor": 2
}
