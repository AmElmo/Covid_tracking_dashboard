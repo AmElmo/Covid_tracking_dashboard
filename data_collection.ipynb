{
 "cells": [
  {
   "cell_type": "markdown",
   "metadata": {},
   "source": [
    "# Imports"
   ]
  },
  {
   "cell_type": "code",
   "execution_count": 48,
   "metadata": {},
   "outputs": [],
   "source": [
    "import pandas as pd\n",
    "import matplotlib.pyplot as plt\n",
    "import seaborn as sns"
   ]
  },
  {
   "cell_type": "markdown",
   "metadata": {},
   "source": [
    "# Load Data"
   ]
  },
  {
   "cell_type": "code",
   "execution_count": 17,
   "metadata": {},
   "outputs": [],
   "source": [
    "import pandas as pd\n",
    "\n",
    "data = pd.read_csv(\"/Users/julienberthomier/code/AmElmo/Main_Projects/Covid_tracking_dashboard/csv_files/covid_cases_deaths_who.csv\")"
   ]
  },
  {
   "cell_type": "code",
   "execution_count": 106,
   "metadata": {},
   "outputs": [],
   "source": [
    "# Convert dates to datetime type\n",
    "\n",
    "data['Date_reported'] = pd.to_datetime(data['Date_reported'])"
   ]
  },
  {
   "cell_type": "code",
   "execution_count": 25,
   "metadata": {},
   "outputs": [
    {
     "data": {
      "text/plain": [
       "237"
      ]
     },
     "execution_count": 25,
     "metadata": {},
     "output_type": "execute_result"
    }
   ],
   "source": [
    "data['Country'].nunique()"
   ]
  },
  {
   "cell_type": "markdown",
   "metadata": {},
   "source": [
    "# Main functions"
   ]
  },
  {
   "cell_type": "markdown",
   "metadata": {},
   "source": [
    "We will list here the main functions we will package to generate our charts and figures for our dashboard. \n",
    "\n",
    "We will use `France` as an example here, which will become a parameter in our package."
   ]
  },
  {
   "cell_type": "markdown",
   "metadata": {},
   "source": [
    "## Country Level ⛳️"
   ]
  },
  {
   "cell_type": "markdown",
   "metadata": {},
   "source": [
    "### Number of new cases (last day)"
   ]
  },
  {
   "cell_type": "code",
   "execution_count": 33,
   "metadata": {},
   "outputs": [
    {
     "data": {
      "text/plain": [
       "3997"
      ]
     },
     "execution_count": 33,
     "metadata": {},
     "output_type": "execute_result"
    }
   ],
   "source": [
    "data_country = data[data[\"Country\"] == \"France\"]\n",
    "new_cases_last = data_country[\"New_cases\"].iloc[-1]\n",
    "new_cases_last"
   ]
  },
  {
   "cell_type": "markdown",
   "metadata": {},
   "source": [
    "### Number of new deaths (last day)"
   ]
  },
  {
   "cell_type": "code",
   "execution_count": 37,
   "metadata": {},
   "outputs": [
    {
     "data": {
      "text/plain": [
       "63"
      ]
     },
     "execution_count": 37,
     "metadata": {},
     "output_type": "execute_result"
    }
   ],
   "source": [
    "data_country = data[data[\"Country\"] == \"France\"]\n",
    "new_deaths_last = data_country[\"New_deaths\"].iloc[-1]\n",
    "new_deaths_last"
   ]
  },
  {
   "cell_type": "markdown",
   "metadata": {},
   "source": [
    "### Number of cummulative deaths (latest)"
   ]
  },
  {
   "cell_type": "code",
   "execution_count": 36,
   "metadata": {},
   "outputs": [
    {
     "data": {
      "text/plain": [
       "160051"
      ]
     },
     "execution_count": 36,
     "metadata": {},
     "output_type": "execute_result"
    }
   ],
   "source": [
    "data_country = data[data[\"Country\"] == \"France\"]\n",
    "cumulative_deaths_latest = data_country[\"Cumulative_deaths\"].iloc[-1]\n",
    "cumulative_deaths_latest"
   ]
  },
  {
   "cell_type": "markdown",
   "metadata": {},
   "source": [
    "### Number of cummulative cases (latest)"
   ]
  },
  {
   "cell_type": "code",
   "execution_count": 38,
   "metadata": {},
   "outputs": [
    {
     "data": {
      "text/plain": [
       "38372611"
      ]
     },
     "execution_count": 38,
     "metadata": {},
     "output_type": "execute_result"
    }
   ],
   "source": [
    "data_country = data[data[\"Country\"] == \"France\"]\n",
    "cumulative_deaths_latest = data_country[\"Cumulative_cases\"].iloc[-1]\n",
    "cumulative_deaths_latest"
   ]
  },
  {
   "cell_type": "markdown",
   "metadata": {},
   "source": [
    "### Evolution of new cases"
   ]
  },
  {
   "cell_type": "code",
   "execution_count": 113,
   "metadata": {},
   "outputs": [
    {
     "data": {
      "text/html": [
       "<div>\n",
       "<style scoped>\n",
       "    .dataframe tbody tr th:only-of-type {\n",
       "        vertical-align: middle;\n",
       "    }\n",
       "\n",
       "    .dataframe tbody tr th {\n",
       "        vertical-align: top;\n",
       "    }\n",
       "\n",
       "    .dataframe thead th {\n",
       "        text-align: right;\n",
       "    }\n",
       "</style>\n",
       "<table border=\"1\" class=\"dataframe\">\n",
       "  <thead>\n",
       "    <tr style=\"text-align: right;\">\n",
       "      <th></th>\n",
       "      <th>Date_reported</th>\n",
       "      <th>New_cases</th>\n",
       "    </tr>\n",
       "  </thead>\n",
       "  <tbody>\n",
       "    <tr>\n",
       "      <th>80208</th>\n",
       "      <td>2020-01-03</td>\n",
       "      <td>0</td>\n",
       "    </tr>\n",
       "    <tr>\n",
       "      <th>80211</th>\n",
       "      <td>2020-01-06</td>\n",
       "      <td>0</td>\n",
       "    </tr>\n",
       "    <tr>\n",
       "      <th>80212</th>\n",
       "      <td>2020-01-07</td>\n",
       "      <td>0</td>\n",
       "    </tr>\n",
       "    <tr>\n",
       "      <th>80213</th>\n",
       "      <td>2020-01-08</td>\n",
       "      <td>0</td>\n",
       "    </tr>\n",
       "    <tr>\n",
       "      <th>80214</th>\n",
       "      <td>2020-01-09</td>\n",
       "      <td>0</td>\n",
       "    </tr>\n",
       "    <tr>\n",
       "      <th>...</th>\n",
       "      <td>...</td>\n",
       "      <td>...</td>\n",
       "    </tr>\n",
       "    <tr>\n",
       "      <th>81317</th>\n",
       "      <td>2023-01-16</td>\n",
       "      <td>4166</td>\n",
       "    </tr>\n",
       "    <tr>\n",
       "      <th>81318</th>\n",
       "      <td>2023-01-17</td>\n",
       "      <td>1235</td>\n",
       "    </tr>\n",
       "    <tr>\n",
       "      <th>81319</th>\n",
       "      <td>2023-01-18</td>\n",
       "      <td>8381</td>\n",
       "    </tr>\n",
       "    <tr>\n",
       "      <th>81320</th>\n",
       "      <td>2023-01-19</td>\n",
       "      <td>5894</td>\n",
       "    </tr>\n",
       "    <tr>\n",
       "      <th>81321</th>\n",
       "      <td>2023-01-20</td>\n",
       "      <td>3997</td>\n",
       "    </tr>\n",
       "  </tbody>\n",
       "</table>\n",
       "<p>796 rows × 2 columns</p>\n",
       "</div>"
      ],
      "text/plain": [
       "      Date_reported  New_cases\n",
       "80208    2020-01-03          0\n",
       "80211    2020-01-06          0\n",
       "80212    2020-01-07          0\n",
       "80213    2020-01-08          0\n",
       "80214    2020-01-09          0\n",
       "...             ...        ...\n",
       "81317    2023-01-16       4166\n",
       "81318    2023-01-17       1235\n",
       "81319    2023-01-18       8381\n",
       "81320    2023-01-19       5894\n",
       "81321    2023-01-20       3997\n",
       "\n",
       "[796 rows x 2 columns]"
      ]
     },
     "execution_count": 113,
     "metadata": {},
     "output_type": "execute_result"
    }
   ],
   "source": [
    "# All-time\n",
    "\n",
    "data_country = data[data[\"Country\"] == \"France\"]\n",
    "evolution_new_cases = data_country[[\"Date_reported\", \"New_cases\"]]\n",
    "evolution_new_cases = evolution_new_cases[evolution_new_cases[\"Date_reported\"].dt.dayofweek < 5]\n",
    "evolution_new_cases"
   ]
  },
  {
   "cell_type": "code",
   "execution_count": 112,
   "metadata": {},
   "outputs": [
    {
     "data": {
      "text/plain": [
       "<AxesSubplot:xlabel='Date_reported', ylabel='New_cases'>"
      ]
     },
     "execution_count": 112,
     "metadata": {},
     "output_type": "execute_result"
    },
    {
     "data": {
      "image/png": "[encoded data removed]",
      "text/plain": [
       "<Figure size 432x288 with 1 Axes>"
      ]
     },
     "metadata": {
      "needs_background": "light"
     },
     "output_type": "display_data"
    }
   ],
   "source": [
    "sns.lineplot(data=evolution_new_cases, x=\"Date_reported\", y=\"New_cases\")"
   ]
  },
  {
   "cell_type": "code",
   "execution_count": 114,
   "metadata": {},
   "outputs": [
    {
     "data": {
      "text/html": [
       "<div>\n",
       "<style scoped>\n",
       "    .dataframe tbody tr th:only-of-type {\n",
       "        vertical-align: middle;\n",
       "    }\n",
       "\n",
       "    .dataframe tbody tr th {\n",
       "        vertical-align: top;\n",
       "    }\n",
       "\n",
       "    .dataframe thead th {\n",
       "        text-align: right;\n",
       "    }\n",
       "</style>\n",
       "<table border=\"1\" class=\"dataframe\">\n",
       "  <thead>\n",
       "    <tr style=\"text-align: right;\">\n",
       "      <th></th>\n",
       "      <th>Date_reported</th>\n",
       "      <th>New_cases</th>\n",
       "    </tr>\n",
       "  </thead>\n",
       "  <tbody>\n",
       "    <tr>\n",
       "      <th>80351</th>\n",
       "      <td>2020-05-25</td>\n",
       "      <td>689</td>\n",
       "    </tr>\n",
       "    <tr>\n",
       "      <th>80352</th>\n",
       "      <td>2020-05-26</td>\n",
       "      <td>649</td>\n",
       "    </tr>\n",
       "    <tr>\n",
       "      <th>80353</th>\n",
       "      <td>2020-05-27</td>\n",
       "      <td>587</td>\n",
       "    </tr>\n",
       "    <tr>\n",
       "      <th>80354</th>\n",
       "      <td>2020-05-28</td>\n",
       "      <td>552</td>\n",
       "    </tr>\n",
       "    <tr>\n",
       "      <th>80355</th>\n",
       "      <td>2020-05-29</td>\n",
       "      <td>316</td>\n",
       "    </tr>\n",
       "    <tr>\n",
       "      <th>...</th>\n",
       "      <td>...</td>\n",
       "      <td>...</td>\n",
       "    </tr>\n",
       "    <tr>\n",
       "      <th>80709</th>\n",
       "      <td>2021-05-18</td>\n",
       "      <td>13220</td>\n",
       "    </tr>\n",
       "    <tr>\n",
       "      <th>80710</th>\n",
       "      <td>2021-05-19</td>\n",
       "      <td>11514</td>\n",
       "    </tr>\n",
       "    <tr>\n",
       "      <th>80711</th>\n",
       "      <td>2021-05-20</td>\n",
       "      <td>11986</td>\n",
       "    </tr>\n",
       "    <tr>\n",
       "      <th>80712</th>\n",
       "      <td>2021-05-21</td>\n",
       "      <td>4817</td>\n",
       "    </tr>\n",
       "    <tr>\n",
       "      <th>80715</th>\n",
       "      <td>2021-05-24</td>\n",
       "      <td>9704</td>\n",
       "    </tr>\n",
       "  </tbody>\n",
       "</table>\n",
       "<p>261 rows × 2 columns</p>\n",
       "</div>"
      ],
      "text/plain": [
       "      Date_reported  New_cases\n",
       "80351    2020-05-25        689\n",
       "80352    2020-05-26        649\n",
       "80353    2020-05-27        587\n",
       "80354    2020-05-28        552\n",
       "80355    2020-05-29        316\n",
       "...             ...        ...\n",
       "80709    2021-05-18      13220\n",
       "80710    2021-05-19      11514\n",
       "80711    2021-05-20      11986\n",
       "80712    2021-05-21       4817\n",
       "80715    2021-05-24       9704\n",
       "\n",
       "[261 rows x 2 columns]"
      ]
     },
     "execution_count": 114,
     "metadata": {},
     "output_type": "execute_result"
    }
   ],
   "source": [
    "# Specific dates\n",
    "\n",
    "data_country = data[data[\"Country\"] == \"France\"]\n",
    "evolution_new_cases = data_country[[\"Date_reported\", \"New_cases\"]]\n",
    "evolution_new_cases_filtered = evolution_new_cases[(evolution_new_cases['Date_reported'] >= '2020-05-24') & (evolution_new_cases['Date_reported'] <= '2021-05-24')]\n",
    "evolution_new_cases_filtered = evolution_new_cases_filtered[evolution_new_cases_filtered[\"Date_reported\"].dt.dayofweek < 5]\n",
    "evolution_new_cases_filtered"
   ]
  },
  {
   "cell_type": "code",
   "execution_count": 115,
   "metadata": {},
   "outputs": [
    {
     "data": {
      "text/plain": [
       "<AxesSubplot:xlabel='Date_reported', ylabel='New_cases'>"
      ]
     },
     "execution_count": 115,
     "metadata": {},
     "output_type": "execute_result"
    },
    {
     "data": {
      "image/png": "[encoded data removed]",
      "text/plain": [
       "<Figure size 432x288 with 1 Axes>"
      ]
     },
     "metadata": {
      "needs_background": "light"
     },
     "output_type": "display_data"
    }
   ],
   "source": [
    "sns.lineplot(data=evolution_new_cases_filtered, x=\"Date_reported\", y=\"New_cases\")"
   ]
  },
  {
   "cell_type": "markdown",
   "metadata": {},
   "source": [
    "### Evolution of new deaths"
   ]
  },
  {
   "cell_type": "code",
   "execution_count": 119,
   "metadata": {},
   "outputs": [
    {
     "data": {
      "text/html": [
       "<div>\n",
       "<style scoped>\n",
       "    .dataframe tbody tr th:only-of-type {\n",
       "        vertical-align: middle;\n",
       "    }\n",
       "\n",
       "    .dataframe tbody tr th {\n",
       "        vertical-align: top;\n",
       "    }\n",
       "\n",
       "    .dataframe thead th {\n",
       "        text-align: right;\n",
       "    }\n",
       "</style>\n",
       "<table border=\"1\" class=\"dataframe\">\n",
       "  <thead>\n",
       "    <tr style=\"text-align: right;\">\n",
       "      <th></th>\n",
       "      <th>Date_reported</th>\n",
       "      <th>New_deaths</th>\n",
       "    </tr>\n",
       "  </thead>\n",
       "  <tbody>\n",
       "    <tr>\n",
       "      <th>80208</th>\n",
       "      <td>2020-01-03</td>\n",
       "      <td>0</td>\n",
       "    </tr>\n",
       "    <tr>\n",
       "      <th>80211</th>\n",
       "      <td>2020-01-06</td>\n",
       "      <td>0</td>\n",
       "    </tr>\n",
       "    <tr>\n",
       "      <th>80212</th>\n",
       "      <td>2020-01-07</td>\n",
       "      <td>0</td>\n",
       "    </tr>\n",
       "    <tr>\n",
       "      <th>80213</th>\n",
       "      <td>2020-01-08</td>\n",
       "      <td>0</td>\n",
       "    </tr>\n",
       "    <tr>\n",
       "      <th>80214</th>\n",
       "      <td>2020-01-09</td>\n",
       "      <td>0</td>\n",
       "    </tr>\n",
       "    <tr>\n",
       "      <th>...</th>\n",
       "      <td>...</td>\n",
       "      <td>...</td>\n",
       "    </tr>\n",
       "    <tr>\n",
       "      <th>81317</th>\n",
       "      <td>2023-01-16</td>\n",
       "      <td>9</td>\n",
       "    </tr>\n",
       "    <tr>\n",
       "      <th>81318</th>\n",
       "      <td>2023-01-17</td>\n",
       "      <td>80</td>\n",
       "    </tr>\n",
       "    <tr>\n",
       "      <th>81319</th>\n",
       "      <td>2023-01-18</td>\n",
       "      <td>99</td>\n",
       "    </tr>\n",
       "    <tr>\n",
       "      <th>81320</th>\n",
       "      <td>2023-01-19</td>\n",
       "      <td>82</td>\n",
       "    </tr>\n",
       "    <tr>\n",
       "      <th>81321</th>\n",
       "      <td>2023-01-20</td>\n",
       "      <td>63</td>\n",
       "    </tr>\n",
       "  </tbody>\n",
       "</table>\n",
       "<p>796 rows × 2 columns</p>\n",
       "</div>"
      ],
      "text/plain": [
       "      Date_reported  New_deaths\n",
       "80208    2020-01-03           0\n",
       "80211    2020-01-06           0\n",
       "80212    2020-01-07           0\n",
       "80213    2020-01-08           0\n",
       "80214    2020-01-09           0\n",
       "...             ...         ...\n",
       "81317    2023-01-16           9\n",
       "81318    2023-01-17          80\n",
       "81319    2023-01-18          99\n",
       "81320    2023-01-19          82\n",
       "81321    2023-01-20          63\n",
       "\n",
       "[796 rows x 2 columns]"
      ]
     },
     "execution_count": 119,
     "metadata": {},
     "output_type": "execute_result"
    }
   ],
   "source": [
    "# All-time\n",
    "\n",
    "data_country = data[data[\"Country\"] == \"France\"]\n",
    "evolution_new_deaths = data_country[[\"Date_reported\", \"New_deaths\"]]\n",
    "evolution_new_deaths = evolution_new_deaths[evolution_new_deaths[\"Date_reported\"].dt.dayofweek < 5]\n",
    "evolution_new_deaths"
   ]
  },
  {
   "cell_type": "code",
   "execution_count": 120,
   "metadata": {},
   "outputs": [
    {
     "data": {
      "text/plain": [
       "<AxesSubplot:xlabel='Date_reported', ylabel='New_deaths'>"
      ]
     },
     "execution_count": 120,
     "metadata": {},
     "output_type": "execute_result"
    },
    {
     "data": {
      "image/png": "[encoded data removed]",
      "text/plain": [
       "<Figure size 432x288 with 1 Axes>"
      ]
     },
     "metadata": {
      "needs_background": "light"
     },
     "output_type": "display_data"
    }
   ],
   "source": [
    "sns.lineplot(data=evolution_new_deaths, x=\"Date_reported\", y=\"New_deaths\")"
   ]
  },
  {
   "cell_type": "code",
   "execution_count": 122,
   "metadata": {},
   "outputs": [
    {
     "data": {
      "text/html": [
       "<div>\n",
       "<style scoped>\n",
       "    .dataframe tbody tr th:only-of-type {\n",
       "        vertical-align: middle;\n",
       "    }\n",
       "\n",
       "    .dataframe tbody tr th {\n",
       "        vertical-align: top;\n",
       "    }\n",
       "\n",
       "    .dataframe thead th {\n",
       "        text-align: right;\n",
       "    }\n",
       "</style>\n",
       "<table border=\"1\" class=\"dataframe\">\n",
       "  <thead>\n",
       "    <tr style=\"text-align: right;\">\n",
       "      <th></th>\n",
       "      <th>Date_reported</th>\n",
       "      <th>New_deaths</th>\n",
       "    </tr>\n",
       "  </thead>\n",
       "  <tbody>\n",
       "    <tr>\n",
       "      <th>80351</th>\n",
       "      <td>2020-05-25</td>\n",
       "      <td>34</td>\n",
       "    </tr>\n",
       "    <tr>\n",
       "      <th>80352</th>\n",
       "      <td>2020-05-26</td>\n",
       "      <td>64</td>\n",
       "    </tr>\n",
       "    <tr>\n",
       "      <th>80353</th>\n",
       "      <td>2020-05-27</td>\n",
       "      <td>98</td>\n",
       "    </tr>\n",
       "    <tr>\n",
       "      <th>80354</th>\n",
       "      <td>2020-05-28</td>\n",
       "      <td>66</td>\n",
       "    </tr>\n",
       "    <tr>\n",
       "      <th>80355</th>\n",
       "      <td>2020-05-29</td>\n",
       "      <td>65</td>\n",
       "    </tr>\n",
       "    <tr>\n",
       "      <th>...</th>\n",
       "      <td>...</td>\n",
       "      <td>...</td>\n",
       "    </tr>\n",
       "    <tr>\n",
       "      <th>80709</th>\n",
       "      <td>2021-05-18</td>\n",
       "      <td>195</td>\n",
       "    </tr>\n",
       "    <tr>\n",
       "      <th>80710</th>\n",
       "      <td>2021-05-19</td>\n",
       "      <td>221</td>\n",
       "    </tr>\n",
       "    <tr>\n",
       "      <th>80711</th>\n",
       "      <td>2021-05-20</td>\n",
       "      <td>140</td>\n",
       "    </tr>\n",
       "    <tr>\n",
       "      <th>80712</th>\n",
       "      <td>2021-05-21</td>\n",
       "      <td>133</td>\n",
       "    </tr>\n",
       "    <tr>\n",
       "      <th>80715</th>\n",
       "      <td>2021-05-24</td>\n",
       "      <td>70</td>\n",
       "    </tr>\n",
       "  </tbody>\n",
       "</table>\n",
       "<p>261 rows × 2 columns</p>\n",
       "</div>"
      ],
      "text/plain": [
       "      Date_reported  New_deaths\n",
       "80351    2020-05-25          34\n",
       "80352    2020-05-26          64\n",
       "80353    2020-05-27          98\n",
       "80354    2020-05-28          66\n",
       "80355    2020-05-29          65\n",
       "...             ...         ...\n",
       "80709    2021-05-18         195\n",
       "80710    2021-05-19         221\n",
       "80711    2021-05-20         140\n",
       "80712    2021-05-21         133\n",
       "80715    2021-05-24          70\n",
       "\n",
       "[261 rows x 2 columns]"
      ]
     },
     "execution_count": 122,
     "metadata": {},
     "output_type": "execute_result"
    }
   ],
   "source": [
    "# Specific dates\n",
    "\n",
    "data_country = data[data[\"Country\"] == \"France\"]\n",
    "evolution_new_deaths = data_country[[\"Date_reported\", \"New_deaths\"]]\n",
    "evolution_new_deaths_filtered = evolution_new_deaths[(evolution_new_deaths['Date_reported'] >= '2020-05-24') & (evolution_new_deaths['Date_reported'] <= '2021-05-24')]\n",
    "evolution_new_deaths_filtered = evolution_new_deaths_filtered[evolution_new_deaths_filtered[\"Date_reported\"].dt.dayofweek < 5]\n",
    "evolution_new_deaths_filtered"
   ]
  },
  {
   "cell_type": "code",
   "execution_count": 123,
   "metadata": {},
   "outputs": [
    {
     "data": {
      "text/plain": [
       "<AxesSubplot:xlabel='Date_reported', ylabel='New_deaths'>"
      ]
     },
     "execution_count": 123,
     "metadata": {},
     "output_type": "execute_result"
    },
    {
     "data": {
      "image/png": "[encoded data removed]",
      "text/plain": [
       "<Figure size 432x288 with 1 Axes>"
      ]
     },
     "metadata": {
      "needs_background": "light"
     },
     "output_type": "display_data"
    }
   ],
   "source": [
    "sns.lineplot(data=evolution_new_deaths_filtered, x=\"Date_reported\", y=\"New_deaths\")"
   ]
  },
  {
   "cell_type": "markdown",
   "metadata": {},
   "source": [
    "### Number of cummulative cases (latest)"
   ]
  },
  {
   "cell_type": "code",
   "execution_count": 39,
   "metadata": {},
   "outputs": [
    {
     "data": {
      "text/html": [
       "<div>\n",
       "<style scoped>\n",
       "    .dataframe tbody tr th:only-of-type {\n",
       "        vertical-align: middle;\n",
       "    }\n",
       "\n",
       "    .dataframe tbody tr th {\n",
       "        vertical-align: top;\n",
       "    }\n",
       "\n",
       "    .dataframe thead th {\n",
       "        text-align: right;\n",
       "    }\n",
       "</style>\n",
       "<table border=\"1\" class=\"dataframe\">\n",
       "  <thead>\n",
       "    <tr style=\"text-align: right;\">\n",
       "      <th></th>\n",
       "      <th>Date_reported</th>\n",
       "      <th>Country_code</th>\n",
       "      <th>Country</th>\n",
       "      <th>WHO_region</th>\n",
       "      <th>New_cases</th>\n",
       "      <th>Cumulative_cases</th>\n",
       "      <th>New_deaths</th>\n",
       "      <th>Cumulative_deaths</th>\n",
       "    </tr>\n",
       "  </thead>\n",
       "  <tbody>\n",
       "    <tr>\n",
       "      <th>80208</th>\n",
       "      <td>2020-01-03</td>\n",
       "      <td>FR</td>\n",
       "      <td>France</td>\n",
       "      <td>EURO</td>\n",
       "      <td>0</td>\n",
       "      <td>0</td>\n",
       "      <td>0</td>\n",
       "      <td>0</td>\n",
       "    </tr>\n",
       "    <tr>\n",
       "      <th>80209</th>\n",
       "      <td>2020-01-04</td>\n",
       "      <td>FR</td>\n",
       "      <td>France</td>\n",
       "      <td>EURO</td>\n",
       "      <td>0</td>\n",
       "      <td>0</td>\n",
       "      <td>0</td>\n",
       "      <td>0</td>\n",
       "    </tr>\n",
       "    <tr>\n",
       "      <th>80210</th>\n",
       "      <td>2020-01-05</td>\n",
       "      <td>FR</td>\n",
       "      <td>France</td>\n",
       "      <td>EURO</td>\n",
       "      <td>0</td>\n",
       "      <td>0</td>\n",
       "      <td>0</td>\n",
       "      <td>0</td>\n",
       "    </tr>\n",
       "    <tr>\n",
       "      <th>80211</th>\n",
       "      <td>2020-01-06</td>\n",
       "      <td>FR</td>\n",
       "      <td>France</td>\n",
       "      <td>EURO</td>\n",
       "      <td>0</td>\n",
       "      <td>0</td>\n",
       "      <td>0</td>\n",
       "      <td>0</td>\n",
       "    </tr>\n",
       "    <tr>\n",
       "      <th>80212</th>\n",
       "      <td>2020-01-07</td>\n",
       "      <td>FR</td>\n",
       "      <td>France</td>\n",
       "      <td>EURO</td>\n",
       "      <td>0</td>\n",
       "      <td>0</td>\n",
       "      <td>0</td>\n",
       "      <td>0</td>\n",
       "    </tr>\n",
       "    <tr>\n",
       "      <th>...</th>\n",
       "      <td>...</td>\n",
       "      <td>...</td>\n",
       "      <td>...</td>\n",
       "      <td>...</td>\n",
       "      <td>...</td>\n",
       "      <td>...</td>\n",
       "      <td>...</td>\n",
       "      <td>...</td>\n",
       "    </tr>\n",
       "    <tr>\n",
       "      <th>81317</th>\n",
       "      <td>2023-01-16</td>\n",
       "      <td>FR</td>\n",
       "      <td>France</td>\n",
       "      <td>EURO</td>\n",
       "      <td>4166</td>\n",
       "      <td>38353104</td>\n",
       "      <td>9</td>\n",
       "      <td>159727</td>\n",
       "    </tr>\n",
       "    <tr>\n",
       "      <th>81318</th>\n",
       "      <td>2023-01-17</td>\n",
       "      <td>FR</td>\n",
       "      <td>France</td>\n",
       "      <td>EURO</td>\n",
       "      <td>1235</td>\n",
       "      <td>38354339</td>\n",
       "      <td>80</td>\n",
       "      <td>159807</td>\n",
       "    </tr>\n",
       "    <tr>\n",
       "      <th>81319</th>\n",
       "      <td>2023-01-18</td>\n",
       "      <td>FR</td>\n",
       "      <td>France</td>\n",
       "      <td>EURO</td>\n",
       "      <td>8381</td>\n",
       "      <td>38362720</td>\n",
       "      <td>99</td>\n",
       "      <td>159906</td>\n",
       "    </tr>\n",
       "    <tr>\n",
       "      <th>81320</th>\n",
       "      <td>2023-01-19</td>\n",
       "      <td>FR</td>\n",
       "      <td>France</td>\n",
       "      <td>EURO</td>\n",
       "      <td>5894</td>\n",
       "      <td>38368614</td>\n",
       "      <td>82</td>\n",
       "      <td>159988</td>\n",
       "    </tr>\n",
       "    <tr>\n",
       "      <th>81321</th>\n",
       "      <td>2023-01-20</td>\n",
       "      <td>FR</td>\n",
       "      <td>France</td>\n",
       "      <td>EURO</td>\n",
       "      <td>3997</td>\n",
       "      <td>38372611</td>\n",
       "      <td>63</td>\n",
       "      <td>160051</td>\n",
       "    </tr>\n",
       "  </tbody>\n",
       "</table>\n",
       "<p>1114 rows × 8 columns</p>\n",
       "</div>"
      ],
      "text/plain": [
       "      Date_reported Country_code Country WHO_region  New_cases  \\\n",
       "80208    2020-01-03           FR  France       EURO          0   \n",
       "80209    2020-01-04           FR  France       EURO          0   \n",
       "80210    2020-01-05           FR  France       EURO          0   \n",
       "80211    2020-01-06           FR  France       EURO          0   \n",
       "80212    2020-01-07           FR  France       EURO          0   \n",
       "...             ...          ...     ...        ...        ...   \n",
       "81317    2023-01-16           FR  France       EURO       4166   \n",
       "81318    2023-01-17           FR  France       EURO       1235   \n",
       "81319    2023-01-18           FR  France       EURO       8381   \n",
       "81320    2023-01-19           FR  France       EURO       5894   \n",
       "81321    2023-01-20           FR  France       EURO       3997   \n",
       "\n",
       "       Cumulative_cases  New_deaths  Cumulative_deaths  \n",
       "80208                 0           0                  0  \n",
       "80209                 0           0                  0  \n",
       "80210                 0           0                  0  \n",
       "80211                 0           0                  0  \n",
       "80212                 0           0                  0  \n",
       "...                 ...         ...                ...  \n",
       "81317          38353104           9             159727  \n",
       "81318          38354339          80             159807  \n",
       "81319          38362720          99             159906  \n",
       "81320          38368614          82             159988  \n",
       "81321          38372611          63             160051  \n",
       "\n",
       "[1114 rows x 8 columns]"
      ]
     },
     "execution_count": 39,
     "metadata": {},
     "output_type": "execute_result"
    }
   ],
   "source": [
    "data_country"
   ]
  },
  {
   "cell_type": "markdown",
   "metadata": {},
   "source": [
    "- evolution of new deaths\n",
    "- evolution of cumulative deaths\n",
    "- evolution of cumulative cases\n",
    "\n",
    "- evolution of new cases (specific dates)"
   ]
  },
  {
   "cell_type": "markdown",
   "metadata": {},
   "source": [
    "### Global / Regional Level 🌍"
   ]
  },
  {
   "cell_type": "markdown",
   "metadata": {},
   "source": []
  }
 ],
 "metadata": {
  "kernelspec": {
   "display_name": "Python 3",
   "language": "python",
   "name": "python3"
  },
  "language_info": {
   "codemirror_mode": {
    "name": "ipython",
    "version": 3
   },
   "file_extension": ".py",
   "mimetype": "text/x-python",
   "name": "python",
   "nbconvert_exporter": "python",
   "pygments_lexer": "ipython3",
   "version": "3.8.12"
  },
  "orig_nbformat": 4,
  "vscode": {
   "interpreter": {
    "hash": "b566ac71cdfc16267265dee2636b7f737530ec6a03a2d34aeaa4aaf93d5ca50f"
   }
  }
 },
 "nbformat": 4,
 "nbformat_minor": 2
}
