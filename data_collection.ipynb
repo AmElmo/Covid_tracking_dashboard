{
 "cells": [
  {
   "cell_type": "code",
   "execution_count": 17,
   "metadata": {},
   "outputs": [],
   "source": [
    "import pandas as pd\n",
    "\n",
    "data = pd.read_csv(\"/Users/julienberthomier/code/AmElmo/Main_Projects/Covid_tracking_dashboard/csv_files/covid_cases_deaths_who.csv\")"
   ]
  },
  {
   "cell_type": "code",
   "execution_count": 26,
   "metadata": {},
   "outputs": [
    {
     "data": {
      "text/html": [
       "<div>\n",
       "<style scoped>\n",
       "    .dataframe tbody tr th:only-of-type {\n",
       "        vertical-align: middle;\n",
       "    }\n",
       "\n",
       "    .dataframe tbody tr th {\n",
       "        vertical-align: top;\n",
       "    }\n",
       "\n",
       "    .dataframe thead th {\n",
       "        text-align: right;\n",
       "    }\n",
       "</style>\n",
       "<table border=\"1\" class=\"dataframe\">\n",
       "  <thead>\n",
       "    <tr style=\"text-align: right;\">\n",
       "      <th></th>\n",
       "      <th>Date_reported</th>\n",
       "      <th>Country_code</th>\n",
       "      <th>Country</th>\n",
       "      <th>WHO_region</th>\n",
       "      <th>New_cases</th>\n",
       "      <th>Cumulative_cases</th>\n",
       "      <th>New_deaths</th>\n",
       "      <th>Cumulative_deaths</th>\n",
       "    </tr>\n",
       "  </thead>\n",
       "  <tbody>\n",
       "    <tr>\n",
       "      <th>0</th>\n",
       "      <td>2020-01-03</td>\n",
       "      <td>AF</td>\n",
       "      <td>Afghanistan</td>\n",
       "      <td>EMRO</td>\n",
       "      <td>0</td>\n",
       "      <td>0</td>\n",
       "      <td>0</td>\n",
       "      <td>0</td>\n",
       "    </tr>\n",
       "    <tr>\n",
       "      <th>1</th>\n",
       "      <td>2020-01-04</td>\n",
       "      <td>AF</td>\n",
       "      <td>Afghanistan</td>\n",
       "      <td>EMRO</td>\n",
       "      <td>0</td>\n",
       "      <td>0</td>\n",
       "      <td>0</td>\n",
       "      <td>0</td>\n",
       "    </tr>\n",
       "    <tr>\n",
       "      <th>2</th>\n",
       "      <td>2020-01-05</td>\n",
       "      <td>AF</td>\n",
       "      <td>Afghanistan</td>\n",
       "      <td>EMRO</td>\n",
       "      <td>0</td>\n",
       "      <td>0</td>\n",
       "      <td>0</td>\n",
       "      <td>0</td>\n",
       "    </tr>\n",
       "    <tr>\n",
       "      <th>3</th>\n",
       "      <td>2020-01-06</td>\n",
       "      <td>AF</td>\n",
       "      <td>Afghanistan</td>\n",
       "      <td>EMRO</td>\n",
       "      <td>0</td>\n",
       "      <td>0</td>\n",
       "      <td>0</td>\n",
       "      <td>0</td>\n",
       "    </tr>\n",
       "    <tr>\n",
       "      <th>4</th>\n",
       "      <td>2020-01-07</td>\n",
       "      <td>AF</td>\n",
       "      <td>Afghanistan</td>\n",
       "      <td>EMRO</td>\n",
       "      <td>0</td>\n",
       "      <td>0</td>\n",
       "      <td>0</td>\n",
       "      <td>0</td>\n",
       "    </tr>\n",
       "    <tr>\n",
       "      <th>...</th>\n",
       "      <td>...</td>\n",
       "      <td>...</td>\n",
       "      <td>...</td>\n",
       "      <td>...</td>\n",
       "      <td>...</td>\n",
       "      <td>...</td>\n",
       "      <td>...</td>\n",
       "      <td>...</td>\n",
       "    </tr>\n",
       "    <tr>\n",
       "      <th>264013</th>\n",
       "      <td>2023-01-16</td>\n",
       "      <td>ZW</td>\n",
       "      <td>Zimbabwe</td>\n",
       "      <td>AFRO</td>\n",
       "      <td>0</td>\n",
       "      <td>259947</td>\n",
       "      <td>0</td>\n",
       "      <td>5635</td>\n",
       "    </tr>\n",
       "    <tr>\n",
       "      <th>264014</th>\n",
       "      <td>2023-01-17</td>\n",
       "      <td>ZW</td>\n",
       "      <td>Zimbabwe</td>\n",
       "      <td>AFRO</td>\n",
       "      <td>0</td>\n",
       "      <td>259947</td>\n",
       "      <td>0</td>\n",
       "      <td>5635</td>\n",
       "    </tr>\n",
       "    <tr>\n",
       "      <th>264015</th>\n",
       "      <td>2023-01-18</td>\n",
       "      <td>ZW</td>\n",
       "      <td>Zimbabwe</td>\n",
       "      <td>AFRO</td>\n",
       "      <td>0</td>\n",
       "      <td>259947</td>\n",
       "      <td>0</td>\n",
       "      <td>5635</td>\n",
       "    </tr>\n",
       "    <tr>\n",
       "      <th>264016</th>\n",
       "      <td>2023-01-19</td>\n",
       "      <td>ZW</td>\n",
       "      <td>Zimbabwe</td>\n",
       "      <td>AFRO</td>\n",
       "      <td>0</td>\n",
       "      <td>259947</td>\n",
       "      <td>0</td>\n",
       "      <td>5635</td>\n",
       "    </tr>\n",
       "    <tr>\n",
       "      <th>264017</th>\n",
       "      <td>2023-01-20</td>\n",
       "      <td>ZW</td>\n",
       "      <td>Zimbabwe</td>\n",
       "      <td>AFRO</td>\n",
       "      <td>0</td>\n",
       "      <td>259947</td>\n",
       "      <td>0</td>\n",
       "      <td>5635</td>\n",
       "    </tr>\n",
       "  </tbody>\n",
       "</table>\n",
       "<p>264018 rows × 8 columns</p>\n",
       "</div>"
      ],
      "text/plain": [
       "       Date_reported Country_code      Country WHO_region  New_cases  \\\n",
       "0         2020-01-03           AF  Afghanistan       EMRO          0   \n",
       "1         2020-01-04           AF  Afghanistan       EMRO          0   \n",
       "2         2020-01-05           AF  Afghanistan       EMRO          0   \n",
       "3         2020-01-06           AF  Afghanistan       EMRO          0   \n",
       "4         2020-01-07           AF  Afghanistan       EMRO          0   \n",
       "...              ...          ...          ...        ...        ...   \n",
       "264013    2023-01-16           ZW     Zimbabwe       AFRO          0   \n",
       "264014    2023-01-17           ZW     Zimbabwe       AFRO          0   \n",
       "264015    2023-01-18           ZW     Zimbabwe       AFRO          0   \n",
       "264016    2023-01-19           ZW     Zimbabwe       AFRO          0   \n",
       "264017    2023-01-20           ZW     Zimbabwe       AFRO          0   \n",
       "\n",
       "        Cumulative_cases  New_deaths  Cumulative_deaths  \n",
       "0                      0           0                  0  \n",
       "1                      0           0                  0  \n",
       "2                      0           0                  0  \n",
       "3                      0           0                  0  \n",
       "4                      0           0                  0  \n",
       "...                  ...         ...                ...  \n",
       "264013            259947           0               5635  \n",
       "264014            259947           0               5635  \n",
       "264015            259947           0               5635  \n",
       "264016            259947           0               5635  \n",
       "264017            259947           0               5635  \n",
       "\n",
       "[264018 rows x 8 columns]"
      ]
     },
     "execution_count": 26,
     "metadata": {},
     "output_type": "execute_result"
    }
   ],
   "source": [
    "data"
   ]
  },
  {
   "cell_type": "code",
   "execution_count": 25,
   "metadata": {},
   "outputs": [
    {
     "data": {
      "text/plain": [
       "237"
      ]
     },
     "execution_count": 25,
     "metadata": {},
     "output_type": "execute_result"
    }
   ],
   "source": [
    "data['Country'].nunique()"
   ]
  },
  {
   "cell_type": "markdown",
   "metadata": {},
   "source": [
    "## Main functions"
   ]
  },
  {
   "cell_type": "markdown",
   "metadata": {},
   "source": [
    "We will list here the main functions we will package to generate our charts and figures for our dashboard. \n",
    "\n",
    "We will use `France` as an example here, which will become a parameter in our package."
   ]
  },
  {
   "cell_type": "markdown",
   "metadata": {},
   "source": [
    "### Number of new cases (last day)"
   ]
  },
  {
   "cell_type": "code",
   "execution_count": 33,
   "metadata": {},
   "outputs": [
    {
     "data": {
      "text/plain": [
       "3997"
      ]
     },
     "execution_count": 33,
     "metadata": {},
     "output_type": "execute_result"
    }
   ],
   "source": [
    "data_country = data[data[\"Country\"] == \"France\"]\n",
    "new_cases_last = data_country[\"New_cases\"].iloc[-1]\n",
    "new_cases_last"
   ]
  },
  {
   "cell_type": "markdown",
   "metadata": {},
   "source": [
    "### Number of new deaths (last day)"
   ]
  },
  {
   "cell_type": "code",
   "execution_count": 37,
   "metadata": {},
   "outputs": [
    {
     "data": {
      "text/plain": [
       "63"
      ]
     },
     "execution_count": 37,
     "metadata": {},
     "output_type": "execute_result"
    }
   ],
   "source": [
    "data_country = data[data[\"Country\"] == \"France\"]\n",
    "new_deaths_last = data_country[\"New_deaths\"].iloc[-1]\n",
    "new_deaths_last"
   ]
  },
  {
   "cell_type": "markdown",
   "metadata": {},
   "source": [
    "### Number of cummulative deaths (latest)"
   ]
  },
  {
   "cell_type": "code",
   "execution_count": 36,
   "metadata": {},
   "outputs": [
    {
     "data": {
      "text/plain": [
       "160051"
      ]
     },
     "execution_count": 36,
     "metadata": {},
     "output_type": "execute_result"
    }
   ],
   "source": [
    "data_country = data[data[\"Country\"] == \"France\"]\n",
    "cumulative_deaths_latest = data_country[\"Cumulative_deaths\"].iloc[-1]\n",
    "cumulative_deaths_latest"
   ]
  },
  {
   "cell_type": "markdown",
   "metadata": {},
   "source": []
  },
  {
   "cell_type": "code",
   "execution_count": 30,
   "metadata": {},
   "outputs": [
    {
     "data": {
      "text/html": [
       "<div>\n",
       "<style scoped>\n",
       "    .dataframe tbody tr th:only-of-type {\n",
       "        vertical-align: middle;\n",
       "    }\n",
       "\n",
       "    .dataframe tbody tr th {\n",
       "        vertical-align: top;\n",
       "    }\n",
       "\n",
       "    .dataframe thead th {\n",
       "        text-align: right;\n",
       "    }\n",
       "</style>\n",
       "<table border=\"1\" class=\"dataframe\">\n",
       "  <thead>\n",
       "    <tr style=\"text-align: right;\">\n",
       "      <th></th>\n",
       "      <th>Date_reported</th>\n",
       "      <th>Country_code</th>\n",
       "      <th>Country</th>\n",
       "      <th>WHO_region</th>\n",
       "      <th>New_cases</th>\n",
       "      <th>Cumulative_cases</th>\n",
       "      <th>New_deaths</th>\n",
       "      <th>Cumulative_deaths</th>\n",
       "    </tr>\n",
       "  </thead>\n",
       "  <tbody>\n",
       "    <tr>\n",
       "      <th>80208</th>\n",
       "      <td>2020-01-03</td>\n",
       "      <td>FR</td>\n",
       "      <td>France</td>\n",
       "      <td>EURO</td>\n",
       "      <td>0</td>\n",
       "      <td>0</td>\n",
       "      <td>0</td>\n",
       "      <td>0</td>\n",
       "    </tr>\n",
       "    <tr>\n",
       "      <th>80209</th>\n",
       "      <td>2020-01-04</td>\n",
       "      <td>FR</td>\n",
       "      <td>France</td>\n",
       "      <td>EURO</td>\n",
       "      <td>0</td>\n",
       "      <td>0</td>\n",
       "      <td>0</td>\n",
       "      <td>0</td>\n",
       "    </tr>\n",
       "    <tr>\n",
       "      <th>80210</th>\n",
       "      <td>2020-01-05</td>\n",
       "      <td>FR</td>\n",
       "      <td>France</td>\n",
       "      <td>EURO</td>\n",
       "      <td>0</td>\n",
       "      <td>0</td>\n",
       "      <td>0</td>\n",
       "      <td>0</td>\n",
       "    </tr>\n",
       "    <tr>\n",
       "      <th>80211</th>\n",
       "      <td>2020-01-06</td>\n",
       "      <td>FR</td>\n",
       "      <td>France</td>\n",
       "      <td>EURO</td>\n",
       "      <td>0</td>\n",
       "      <td>0</td>\n",
       "      <td>0</td>\n",
       "      <td>0</td>\n",
       "    </tr>\n",
       "    <tr>\n",
       "      <th>80212</th>\n",
       "      <td>2020-01-07</td>\n",
       "      <td>FR</td>\n",
       "      <td>France</td>\n",
       "      <td>EURO</td>\n",
       "      <td>0</td>\n",
       "      <td>0</td>\n",
       "      <td>0</td>\n",
       "      <td>0</td>\n",
       "    </tr>\n",
       "    <tr>\n",
       "      <th>...</th>\n",
       "      <td>...</td>\n",
       "      <td>...</td>\n",
       "      <td>...</td>\n",
       "      <td>...</td>\n",
       "      <td>...</td>\n",
       "      <td>...</td>\n",
       "      <td>...</td>\n",
       "      <td>...</td>\n",
       "    </tr>\n",
       "    <tr>\n",
       "      <th>81317</th>\n",
       "      <td>2023-01-16</td>\n",
       "      <td>FR</td>\n",
       "      <td>France</td>\n",
       "      <td>EURO</td>\n",
       "      <td>4166</td>\n",
       "      <td>38353104</td>\n",
       "      <td>9</td>\n",
       "      <td>159727</td>\n",
       "    </tr>\n",
       "    <tr>\n",
       "      <th>81318</th>\n",
       "      <td>2023-01-17</td>\n",
       "      <td>FR</td>\n",
       "      <td>France</td>\n",
       "      <td>EURO</td>\n",
       "      <td>1235</td>\n",
       "      <td>38354339</td>\n",
       "      <td>80</td>\n",
       "      <td>159807</td>\n",
       "    </tr>\n",
       "    <tr>\n",
       "      <th>81319</th>\n",
       "      <td>2023-01-18</td>\n",
       "      <td>FR</td>\n",
       "      <td>France</td>\n",
       "      <td>EURO</td>\n",
       "      <td>8381</td>\n",
       "      <td>38362720</td>\n",
       "      <td>99</td>\n",
       "      <td>159906</td>\n",
       "    </tr>\n",
       "    <tr>\n",
       "      <th>81320</th>\n",
       "      <td>2023-01-19</td>\n",
       "      <td>FR</td>\n",
       "      <td>France</td>\n",
       "      <td>EURO</td>\n",
       "      <td>5894</td>\n",
       "      <td>38368614</td>\n",
       "      <td>82</td>\n",
       "      <td>159988</td>\n",
       "    </tr>\n",
       "    <tr>\n",
       "      <th>81321</th>\n",
       "      <td>2023-01-20</td>\n",
       "      <td>FR</td>\n",
       "      <td>France</td>\n",
       "      <td>EURO</td>\n",
       "      <td>3997</td>\n",
       "      <td>38372611</td>\n",
       "      <td>63</td>\n",
       "      <td>160051</td>\n",
       "    </tr>\n",
       "  </tbody>\n",
       "</table>\n",
       "<p>1114 rows × 8 columns</p>\n",
       "</div>"
      ],
      "text/plain": [
       "      Date_reported Country_code Country WHO_region  New_cases  \\\n",
       "80208    2020-01-03           FR  France       EURO          0   \n",
       "80209    2020-01-04           FR  France       EURO          0   \n",
       "80210    2020-01-05           FR  France       EURO          0   \n",
       "80211    2020-01-06           FR  France       EURO          0   \n",
       "80212    2020-01-07           FR  France       EURO          0   \n",
       "...             ...          ...     ...        ...        ...   \n",
       "81317    2023-01-16           FR  France       EURO       4166   \n",
       "81318    2023-01-17           FR  France       EURO       1235   \n",
       "81319    2023-01-18           FR  France       EURO       8381   \n",
       "81320    2023-01-19           FR  France       EURO       5894   \n",
       "81321    2023-01-20           FR  France       EURO       3997   \n",
       "\n",
       "       Cumulative_cases  New_deaths  Cumulative_deaths  \n",
       "80208                 0           0                  0  \n",
       "80209                 0           0                  0  \n",
       "80210                 0           0                  0  \n",
       "80211                 0           0                  0  \n",
       "80212                 0           0                  0  \n",
       "...                 ...         ...                ...  \n",
       "81317          38353104           9             159727  \n",
       "81318          38354339          80             159807  \n",
       "81319          38362720          99             159906  \n",
       "81320          38368614          82             159988  \n",
       "81321          38372611          63             160051  \n",
       "\n",
       "[1114 rows x 8 columns]"
      ]
     },
     "execution_count": 30,
     "metadata": {},
     "output_type": "execute_result"
    }
   ],
   "source": [
    "data_country"
   ]
  }
 ],
 "metadata": {
  "kernelspec": {
   "display_name": "Python 3",
   "language": "python",
   "name": "python3"
  },
  "language_info": {
   "codemirror_mode": {
    "name": "ipython",
    "version": 3
   },
   "file_extension": ".py",
   "mimetype": "text/x-python",
   "name": "python",
   "nbconvert_exporter": "python",
   "pygments_lexer": "ipython3",
   "version": "3.8.12"
  },
  "orig_nbformat": 4,
  "vscode": {
   "interpreter": {
    "hash": "b566ac71cdfc16267265dee2636b7f737530ec6a03a2d34aeaa4aaf93d5ca50f"
   }
  }
 },
 "nbformat": 4,
 "nbformat_minor": 2
}
